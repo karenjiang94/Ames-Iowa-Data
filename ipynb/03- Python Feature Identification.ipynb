{
 "cells": [
  {
   "cell_type": "code",
   "execution_count": 2,
   "metadata": {},
   "outputs": [],
   "source": [
    "import pandas as pd\n",
    "import numpy as np\n",
    "import matplotlib.pyplot as plt\n",
    "import seaborn as sns\n",
    "\n",
    "%matplotlib inline"
   ]
  },
  {
   "cell_type": "code",
   "execution_count": 3,
   "metadata": {},
   "outputs": [
    {
     "name": "stdout",
     "output_type": "stream",
     "text": [
      "/home/jovyan/Ames-Iowa-Data\n"
     ]
    }
   ],
   "source": [
    "cd .."
   ]
  },
  {
   "cell_type": "code",
   "execution_count": 4,
   "metadata": {},
   "outputs": [],
   "source": [
    "df = pd.read_csv('data/final_ames_df.csv')"
   ]
  },
  {
   "cell_type": "code",
   "execution_count": 5,
   "metadata": {},
   "outputs": [
    {
     "name": "stdout",
     "output_type": "stream",
     "text": [
      "Variable   Type         Data/Info\n",
      "---------------------------------\n",
      "df         DataFrame          Unnamed: 0  MSSubCl<...>[1451 rows x 404 columns]\n",
      "np         module       <module 'numpy' from '/op<...>kages/numpy/__init__.py'>\n",
      "pd         module       <module 'pandas' from '/o<...>ages/pandas/__init__.py'>\n",
      "plt        module       <module 'matplotlib.pyplo<...>es/matplotlib/pyplot.py'>\n",
      "sns        module       <module 'seaborn' from '/<...>ges/seaborn/__init__.py'>\n"
     ]
    }
   ],
   "source": [
    "whos"
   ]
  },
  {
   "cell_type": "code",
   "execution_count": 6,
   "metadata": {},
   "outputs": [
    {
     "data": {
      "text/html": [
       "<div>\n",
       "<table border=\"1\" class=\"dataframe\">\n",
       "  <thead>\n",
       "    <tr style=\"text-align: right;\">\n",
       "      <th></th>\n",
       "      <th>Unnamed: 0</th>\n",
       "      <th>MSSubClass.20</th>\n",
       "      <th>MSSubClass.30</th>\n",
       "      <th>MSSubClass.40</th>\n",
       "      <th>MSSubClass.45</th>\n",
       "      <th>MSSubClass.50</th>\n",
       "      <th>MSSubClass.60</th>\n",
       "      <th>MSSubClass.70</th>\n",
       "      <th>MSSubClass.75</th>\n",
       "      <th>MSSubClass.80</th>\n",
       "      <th>...</th>\n",
       "      <th>YearBuilt</th>\n",
       "      <th>YearRemodAdd</th>\n",
       "      <th>BsmtFinSF1</th>\n",
       "      <th>BsmtUnfSF</th>\n",
       "      <th>TotalBsmtSF</th>\n",
       "      <th>FirstFlrSF</th>\n",
       "      <th>GrLivArea</th>\n",
       "      <th>GarageYrBlt</th>\n",
       "      <th>GarageArea</th>\n",
       "      <th>SalePrice</th>\n",
       "    </tr>\n",
       "  </thead>\n",
       "  <tbody>\n",
       "    <tr>\n",
       "      <th>0</th>\n",
       "      <td>1</td>\n",
       "      <td>-0.760586</td>\n",
       "      <td>-0.223368</td>\n",
       "      <td>-0.052559</td>\n",
       "      <td>-0.091287</td>\n",
       "      <td>-0.331813</td>\n",
       "      <td>1.974674</td>\n",
       "      <td>-0.207617</td>\n",
       "      <td>-0.105556</td>\n",
       "      <td>-0.202142</td>\n",
       "      <td>...</td>\n",
       "      <td>1.050985</td>\n",
       "      <td>0.882076</td>\n",
       "      <td>0.720502</td>\n",
       "      <td>0.089174</td>\n",
       "      <td>0.108421</td>\n",
       "      <td>-0.802632</td>\n",
       "      <td>0.531537</td>\n",
       "      <td>1.022655</td>\n",
       "      <td>0.277110</td>\n",
       "      <td>0.563968</td>\n",
       "    </tr>\n",
       "    <tr>\n",
       "      <th>1</th>\n",
       "      <td>2</td>\n",
       "      <td>1.313870</td>\n",
       "      <td>-0.223368</td>\n",
       "      <td>-0.052559</td>\n",
       "      <td>-0.091287</td>\n",
       "      <td>-0.331813</td>\n",
       "      <td>-0.506064</td>\n",
       "      <td>-0.207617</td>\n",
       "      <td>-0.105556</td>\n",
       "      <td>-0.202142</td>\n",
       "      <td>...</td>\n",
       "      <td>0.169230</td>\n",
       "      <td>-0.418806</td>\n",
       "      <td>0.755273</td>\n",
       "      <td>0.204922</td>\n",
       "      <td>0.226417</td>\n",
       "      <td>0.421404</td>\n",
       "      <td>-0.378547</td>\n",
       "      <td>-0.092048</td>\n",
       "      <td>0.239049</td>\n",
       "      <td>0.216827</td>\n",
       "    </tr>\n",
       "    <tr>\n",
       "      <th>2</th>\n",
       "      <td>3</td>\n",
       "      <td>-0.760586</td>\n",
       "      <td>-0.223368</td>\n",
       "      <td>-0.052559</td>\n",
       "      <td>-0.091287</td>\n",
       "      <td>-0.331813</td>\n",
       "      <td>1.974674</td>\n",
       "      <td>-0.207617</td>\n",
       "      <td>-0.105556</td>\n",
       "      <td>-0.202142</td>\n",
       "      <td>...</td>\n",
       "      <td>0.986079</td>\n",
       "      <td>0.834209</td>\n",
       "      <td>0.680661</td>\n",
       "      <td>0.281818</td>\n",
       "      <td>0.130339</td>\n",
       "      <td>-0.575272</td>\n",
       "      <td>0.661806</td>\n",
       "      <td>0.940601</td>\n",
       "      <td>0.299701</td>\n",
       "      <td>0.737866</td>\n",
       "    </tr>\n",
       "    <tr>\n",
       "      <th>3</th>\n",
       "      <td>4</td>\n",
       "      <td>-0.760586</td>\n",
       "      <td>-0.223368</td>\n",
       "      <td>-0.052559</td>\n",
       "      <td>-0.091287</td>\n",
       "      <td>-0.331813</td>\n",
       "      <td>-0.506064</td>\n",
       "      <td>4.813248</td>\n",
       "      <td>-0.105556</td>\n",
       "      <td>-0.202142</td>\n",
       "      <td>...</td>\n",
       "      <td>-1.868071</td>\n",
       "      <td>-0.710305</td>\n",
       "      <td>0.594138</td>\n",
       "      <td>0.321442</td>\n",
       "      <td>0.070659</td>\n",
       "      <td>-0.437788</td>\n",
       "      <td>0.543775</td>\n",
       "      <td>0.817366</td>\n",
       "      <td>0.311532</td>\n",
       "      <td>-0.433016</td>\n",
       "    </tr>\n",
       "    <tr>\n",
       "      <th>4</th>\n",
       "      <td>5</td>\n",
       "      <td>-0.760586</td>\n",
       "      <td>-0.223368</td>\n",
       "      <td>-0.052559</td>\n",
       "      <td>-0.091287</td>\n",
       "      <td>-0.331813</td>\n",
       "      <td>1.974674</td>\n",
       "      <td>-0.207617</td>\n",
       "      <td>-0.105556</td>\n",
       "      <td>-0.202142</td>\n",
       "      <td>...</td>\n",
       "      <td>0.953601</td>\n",
       "      <td>0.738402</td>\n",
       "      <td>0.712502</td>\n",
       "      <td>0.303824</td>\n",
       "      <td>0.196843</td>\n",
       "      <td>0.114615</td>\n",
       "      <td>1.283624</td>\n",
       "      <td>0.899543</td>\n",
       "      <td>0.368943</td>\n",
       "      <td>1.018339</td>\n",
       "    </tr>\n",
       "  </tbody>\n",
       "</table>\n",
       "<p>5 rows × 404 columns</p>\n",
       "</div>"
      ],
      "text/plain": [
       "   Unnamed: 0  MSSubClass.20  MSSubClass.30  MSSubClass.40  MSSubClass.45  \\\n",
       "0           1      -0.760586      -0.223368      -0.052559      -0.091287   \n",
       "1           2       1.313870      -0.223368      -0.052559      -0.091287   \n",
       "2           3      -0.760586      -0.223368      -0.052559      -0.091287   \n",
       "3           4      -0.760586      -0.223368      -0.052559      -0.091287   \n",
       "4           5      -0.760586      -0.223368      -0.052559      -0.091287   \n",
       "\n",
       "   MSSubClass.50  MSSubClass.60  MSSubClass.70  MSSubClass.75  MSSubClass.80  \\\n",
       "0      -0.331813       1.974674      -0.207617      -0.105556      -0.202142   \n",
       "1      -0.331813      -0.506064      -0.207617      -0.105556      -0.202142   \n",
       "2      -0.331813       1.974674      -0.207617      -0.105556      -0.202142   \n",
       "3      -0.331813      -0.506064       4.813248      -0.105556      -0.202142   \n",
       "4      -0.331813       1.974674      -0.207617      -0.105556      -0.202142   \n",
       "\n",
       "     ...      YearBuilt  YearRemodAdd  BsmtFinSF1  BsmtUnfSF  TotalBsmtSF  \\\n",
       "0    ...       1.050985      0.882076    0.720502   0.089174     0.108421   \n",
       "1    ...       0.169230     -0.418806    0.755273   0.204922     0.226417   \n",
       "2    ...       0.986079      0.834209    0.680661   0.281818     0.130339   \n",
       "3    ...      -1.868071     -0.710305    0.594138   0.321442     0.070659   \n",
       "4    ...       0.953601      0.738402    0.712502   0.303824     0.196843   \n",
       "\n",
       "   FirstFlrSF  GrLivArea  GarageYrBlt  GarageArea  SalePrice  \n",
       "0   -0.802632   0.531537     1.022655    0.277110   0.563968  \n",
       "1    0.421404  -0.378547    -0.092048    0.239049   0.216827  \n",
       "2   -0.575272   0.661806     0.940601    0.299701   0.737866  \n",
       "3   -0.437788   0.543775     0.817366    0.311532  -0.433016  \n",
       "4    0.114615   1.283624     0.899543    0.368943   1.018339  \n",
       "\n",
       "[5 rows x 404 columns]"
      ]
     },
     "execution_count": 6,
     "metadata": {},
     "output_type": "execute_result"
    }
   ],
   "source": [
    "df.head(5)"
   ]
  },
  {
   "cell_type": "code",
   "execution_count": 7,
   "metadata": {},
   "outputs": [],
   "source": [
    "final_ames_df = df.drop(['Unnamed: 0'], axis = 1)"
   ]
  },
  {
   "cell_type": "code",
   "execution_count": 11,
   "metadata": {},
   "outputs": [],
   "source": [
    "target = final_ames_df['SalePrice']\n",
    "feature = final_ames_df.drop('SalePrice', axis = 1)"
   ]
  },
  {
   "cell_type": "code",
   "execution_count": 34,
   "metadata": {},
   "outputs": [],
   "source": [
    "X_train, X_test, y_train, y_test = train_test_split(feature, target, test_size=0.2, random_state=42)"
   ]
  },
  {
   "cell_type": "code",
   "execution_count": 12,
   "metadata": {},
   "outputs": [],
   "source": [
    "from sklearn.metrics import accuracy_score, f1_score"
   ]
  },
  {
   "cell_type": "code",
   "execution_count": 13,
   "metadata": {},
   "outputs": [],
   "source": [
    "from sklearn.linear_model import LogisticRegression\n",
    "from sklearn.model_selection import train_test_split\n",
    "from tqdm import tqdm\n",
    "from time import time"
   ]
  },
  {
   "cell_type": "markdown",
   "metadata": {},
   "source": [
    "### Feature Selection using Recursive Feature Elimination with Cross Validation\n",
    "\n",
    "From the scikit-learn documentation:\n",
    "\n",
    "\"Selects features by recursively considering smaller and smaller sets of features. First, the estimator is trained on the initial set of features and the importance of each feature is obtained either through a `coef_` attribute or through a `feature_importances_` attribute. Then, the least important features are pruned from current set of features. That procedure is recursively repeated on the pruned set until the desired number of features to select is eventually reached.\""
   ]
  },
  {
   "cell_type": "code",
   "execution_count": 15,
   "metadata": {},
   "outputs": [],
   "source": [
    "from sklearn.feature_selection import RFECV\n",
    "from sklearn.svm import SVR"
   ]
  },
  {
   "cell_type": "code",
   "execution_count": 16,
   "metadata": {},
   "outputs": [],
   "source": [
    "estimator = SVR(kernel = 'linear')\n",
    "rfecv = RFECV(estimator, step=1, cv=3)"
   ]
  },
  {
   "cell_type": "code",
   "execution_count": null,
   "metadata": {},
   "outputs": [],
   "source": []
  },
  {
   "cell_type": "code",
   "execution_count": null,
   "metadata": {},
   "outputs": [],
   "source": []
  },
  {
   "cell_type": "code",
   "execution_count": 25,
   "metadata": {},
   "outputs": [],
   "source": [
    "from sklearn.feature_selection import SelectFromModel\n",
    "from sklearn.linear_model import LassoCV"
   ]
  },
  {
   "cell_type": "code",
   "execution_count": 26,
   "metadata": {},
   "outputs": [],
   "source": [
    "clf = LassoCV()"
   ]
  },
  {
   "cell_type": "code",
   "execution_count": 27,
   "metadata": {},
   "outputs": [
    {
     "data": {
      "text/plain": [
       "SelectFromModel(estimator=LassoCV(alphas=None, copy_X=True, cv=None, eps=0.001, fit_intercept=True,\n",
       "    max_iter=1000, n_alphas=100, n_jobs=1, normalize=False, positive=False,\n",
       "    precompute='auto', random_state=None, selection='cyclic', tol=0.0001,\n",
       "    verbose=False),\n",
       "        norm_order=1, prefit=False, threshold=0.25)"
      ]
     },
     "execution_count": 27,
     "metadata": {},
     "output_type": "execute_result"
    }
   ],
   "source": [
    "sfm = SelectFromModel(clf, threshold=0.25)\n",
    "sfm.fit(X_train, y_train)"
   ]
  },
  {
   "cell_type": "code",
   "execution_count": 30,
   "metadata": {},
   "outputs": [
    {
     "data": {
      "text/plain": [
       "(1160, 1)"
      ]
     },
     "execution_count": 30,
     "metadata": {},
     "output_type": "execute_result"
    }
   ],
   "source": [
    "sfm.transform(X_train).shape"
   ]
  },
  {
   "cell_type": "code",
   "execution_count": null,
   "metadata": {},
   "outputs": [],
   "source": []
  }
 ],
 "metadata": {
  "kernelspec": {
   "display_name": "Python 3",
   "language": "python",
   "name": "python3"
  },
  "language_info": {
   "codemirror_mode": {
    "name": "ipython",
    "version": 3
   },
   "file_extension": ".py",
   "mimetype": "text/x-python",
   "name": "python",
   "nbconvert_exporter": "python",
   "pygments_lexer": "ipython3",
   "version": "3.6.4"
  }
 },
 "nbformat": 4,
 "nbformat_minor": 2
}
