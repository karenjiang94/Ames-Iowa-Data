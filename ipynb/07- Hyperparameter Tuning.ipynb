{
 "cells": [
  {
   "cell_type": "markdown",
   "metadata": {},
   "source": [
    "## Hyperparameter Tuning with CVGridSearch"
   ]
  },
  {
   "cell_type": "code",
   "execution_count": 1,
   "metadata": {},
   "outputs": [],
   "source": [
    "!pip --quiet install mglearn"
   ]
  },
  {
   "cell_type": "markdown",
   "metadata": {},
   "source": [
    "We will select our Ridge, Lasso, and SVR models and tune our hyperparameters to refine our model."
   ]
  },
  {
   "cell_type": "code",
   "execution_count": 2,
   "metadata": {},
   "outputs": [],
   "source": [
    "import pandas as pd\n",
    "import numpy as np\n",
    "\n",
    "import mglearn\n",
    "from sklearn.linear_model import Ridge, Lasso\n",
    "from sklearn.svm import SVR\n",
    "\n",
    "import matplotlib.pyplot as plt\n",
    "%matplotlib inline"
   ]
  },
  {
   "cell_type": "code",
   "execution_count": 3,
   "metadata": {},
   "outputs": [
    {
     "name": "stdout",
     "output_type": "stream",
     "text": [
      "/home/jovyan/Ames-Iowa-Data\n"
     ]
    }
   ],
   "source": [
    "cd .."
   ]
  },
  {
   "cell_type": "code",
   "execution_count": 4,
   "metadata": {},
   "outputs": [],
   "source": [
    "df = pd.read_csv('data/final_ames_df.csv')"
   ]
  },
  {
   "cell_type": "code",
   "execution_count": 5,
   "metadata": {},
   "outputs": [],
   "source": [
    "final_ames_df = pd.DataFrame(df)"
   ]
  },
  {
   "cell_type": "code",
   "execution_count": 6,
   "metadata": {},
   "outputs": [],
   "source": [
    "final_ames_df = final_ames_df.drop(['Unnamed: 0'], axis = 1)\n",
    "target = final_ames_df['SalePrice']\n",
    "features = final_ames_df.drop(['SalePrice'], axis = 1)"
   ]
  },
  {
   "cell_type": "code",
   "execution_count": 7,
   "metadata": {},
   "outputs": [],
   "source": [
    "from sklearn.model_selection import GridSearchCV, ShuffleSplit, StratifiedShuffleSplit, train_test_split"
   ]
  },
  {
   "cell_type": "code",
   "execution_count": 8,
   "metadata": {},
   "outputs": [],
   "source": [
    "X_train, X_test, y_train, y_test = train_test_split(features, target, random_state=42)"
   ]
  },
  {
   "cell_type": "markdown",
   "metadata": {},
   "source": [
    "### Ridge Regression\n",
    "\n",
    "Hyperparameters to tune:\n",
    "\n",
    "**alpha** : {float, array-like}, shape (n_targets)\n",
    "\n",
    "Regularization strength; must be a positive float. Regularization improves the conditioning of the problem and reduces the variance of the estimates. Larger values specify stronger regularization. Alpha corresponds to C^-1 in other linear models such as LogisticRegression or LinearSVC. If an array is passed, penalties are assumed to be specific to the targets. Hence they must correspond in number.\n",
    "\n",
    "**max_iter** : int, optional\n",
    "\n",
    "Maximum number of iterations for conjugate gradient solver. For ‘sparse_cg’ and ‘lsqr’ solvers, the default value is determined by scipy.sparse.linalg. For ‘sag’ solver, the default value is 1000.\n",
    "\n",
    "**solver** : {‘auto’, ‘svd’, ‘cholesky’, ‘lsqr’, ‘sparse_cg’, ‘sag’, ‘saga’}\n",
    "\n",
    "Solver to use in the computational routines:\n",
    "\n",
    "*‘auto’* chooses the solver automatically based on the type of data.\n",
    "*‘svd’* uses a Singular Value Decomposition of X to compute the Ridge coefficients. More stable for singular matrices than ‘cholesky’.\n",
    "*‘cholesky’* uses the standard scipy.linalg.solve function to obtain a closed-form solution.\n",
    "*‘sparse_cg’* uses the conjugate gradient solver as found in scipy.sparse.linalg.cg. As an iterative algorithm, this solver is more appropriate than ‘cholesky’ for large-scale data (possibility to set tol and max_iter).\n",
    "*‘lsqr’* uses the dedicated regularized least-squares routine scipy.sparse.linalg.lsqr. It is the fastest but may not be available in old scipy versions. It also uses an iterative procedure.\n",
    "*‘sag’* uses a Stochastic Average Gradient descent, and ‘saga’ uses its improved, unbiased version named SAGA. Both methods also use an iterative procedure, and are often faster than other solvers when both n_samples and n_features are large. Note that ‘sag’ and ‘saga’ fast convergence is only guaranteed on features with approximately the same scale. You can preprocess the data with a scaler from sklearn.preprocessing."
   ]
  },
  {
   "cell_type": "code",
   "execution_count": 17,
   "metadata": {},
   "outputs": [],
   "source": [
    "ridge_params ={\n",
    "    'alpha' : np.logspace(-3, 3, 7),\n",
    "    'solver' : ['sag', 'saga']\n",
    "}"
   ]
  },
  {
   "cell_type": "code",
   "execution_count": 18,
   "metadata": {},
   "outputs": [],
   "source": [
    "ridge_gs = GridSearchCV(Ridge(), param_grid = ridge_params, return_train_score=True)"
   ]
  },
  {
   "cell_type": "code",
   "execution_count": 19,
   "metadata": {},
   "outputs": [
    {
     "data": {
      "text/plain": [
       "GridSearchCV(cv=None, error_score='raise',\n",
       "       estimator=Ridge(alpha=1.0, copy_X=True, fit_intercept=True, max_iter=None,\n",
       "   normalize=False, random_state=None, solver='auto', tol=0.001),\n",
       "       fit_params=None, iid=True, n_jobs=1,\n",
       "       param_grid={'alpha': array([  1.00000e-03,   1.00000e-02,   1.00000e-01,   1.00000e+00,\n",
       "         1.00000e+01,   1.00000e+02,   1.00000e+03]), 'solver': ['sag', 'saga']},\n",
       "       pre_dispatch='2*n_jobs', refit=True, return_train_score=True,\n",
       "       scoring=None, verbose=0)"
      ]
     },
     "execution_count": 19,
     "metadata": {},
     "output_type": "execute_result"
    }
   ],
   "source": [
    "ridge_gs.fit(X_train, y_train)"
   ]
  },
  {
   "cell_type": "code",
   "execution_count": 20,
   "metadata": {},
   "outputs": [
    {
     "data": {
      "text/html": [
       "<div>\n",
       "<style scoped>\n",
       "    .dataframe tbody tr th:only-of-type {\n",
       "        vertical-align: middle;\n",
       "    }\n",
       "\n",
       "    .dataframe tbody tr th {\n",
       "        vertical-align: top;\n",
       "    }\n",
       "\n",
       "    .dataframe thead th {\n",
       "        text-align: right;\n",
       "    }\n",
       "</style>\n",
       "<table border=\"1\" class=\"dataframe\">\n",
       "  <thead>\n",
       "    <tr style=\"text-align: right;\">\n",
       "      <th></th>\n",
       "      <th>mean_fit_time</th>\n",
       "      <th>mean_score_time</th>\n",
       "      <th>mean_test_score</th>\n",
       "      <th>mean_train_score</th>\n",
       "      <th>param_alpha</th>\n",
       "      <th>param_solver</th>\n",
       "      <th>params</th>\n",
       "      <th>rank_test_score</th>\n",
       "      <th>split0_test_score</th>\n",
       "      <th>split0_train_score</th>\n",
       "      <th>split1_test_score</th>\n",
       "      <th>split1_train_score</th>\n",
       "      <th>split2_test_score</th>\n",
       "      <th>split2_train_score</th>\n",
       "      <th>std_fit_time</th>\n",
       "      <th>std_score_time</th>\n",
       "      <th>std_test_score</th>\n",
       "      <th>std_train_score</th>\n",
       "    </tr>\n",
       "  </thead>\n",
       "  <tbody>\n",
       "    <tr>\n",
       "      <th>11</th>\n",
       "      <td>0.505927</td>\n",
       "      <td>0.000746</td>\n",
       "      <td>0.880314</td>\n",
       "      <td>0.959749</td>\n",
       "      <td>100</td>\n",
       "      <td>saga</td>\n",
       "      <td>{'alpha': 100.0, 'solver': 'saga'}</td>\n",
       "      <td>1</td>\n",
       "      <td>0.831846</td>\n",
       "      <td>0.966047</td>\n",
       "      <td>0.892674</td>\n",
       "      <td>0.957733</td>\n",
       "      <td>0.916520</td>\n",
       "      <td>0.955467</td>\n",
       "      <td>0.075475</td>\n",
       "      <td>0.000018</td>\n",
       "      <td>0.035650</td>\n",
       "      <td>0.004548</td>\n",
       "    </tr>\n",
       "    <tr>\n",
       "      <th>10</th>\n",
       "      <td>0.184194</td>\n",
       "      <td>0.000758</td>\n",
       "      <td>0.879673</td>\n",
       "      <td>0.960143</td>\n",
       "      <td>100</td>\n",
       "      <td>sag</td>\n",
       "      <td>{'alpha': 100.0, 'solver': 'sag'}</td>\n",
       "      <td>2</td>\n",
       "      <td>0.831064</td>\n",
       "      <td>0.966386</td>\n",
       "      <td>0.892458</td>\n",
       "      <td>0.958091</td>\n",
       "      <td>0.915598</td>\n",
       "      <td>0.955953</td>\n",
       "      <td>0.021403</td>\n",
       "      <td>0.000002</td>\n",
       "      <td>0.035669</td>\n",
       "      <td>0.004500</td>\n",
       "    </tr>\n",
       "    <tr>\n",
       "      <th>12</th>\n",
       "      <td>0.055650</td>\n",
       "      <td>0.000703</td>\n",
       "      <td>0.873041</td>\n",
       "      <td>0.923959</td>\n",
       "      <td>1000</td>\n",
       "      <td>sag</td>\n",
       "      <td>{'alpha': 1000.0, 'solver': 'sag'}</td>\n",
       "      <td>3</td>\n",
       "      <td>0.839243</td>\n",
       "      <td>0.934968</td>\n",
       "      <td>0.882173</td>\n",
       "      <td>0.919566</td>\n",
       "      <td>0.897776</td>\n",
       "      <td>0.917344</td>\n",
       "      <td>0.002271</td>\n",
       "      <td>0.000043</td>\n",
       "      <td>0.024749</td>\n",
       "      <td>0.007837</td>\n",
       "    </tr>\n",
       "    <tr>\n",
       "      <th>13</th>\n",
       "      <td>0.139342</td>\n",
       "      <td>0.000726</td>\n",
       "      <td>0.872852</td>\n",
       "      <td>0.923677</td>\n",
       "      <td>1000</td>\n",
       "      <td>saga</td>\n",
       "      <td>{'alpha': 1000.0, 'solver': 'saga'}</td>\n",
       "      <td>4</td>\n",
       "      <td>0.839068</td>\n",
       "      <td>0.934634</td>\n",
       "      <td>0.882031</td>\n",
       "      <td>0.919372</td>\n",
       "      <td>0.897526</td>\n",
       "      <td>0.917026</td>\n",
       "      <td>0.008636</td>\n",
       "      <td>0.000003</td>\n",
       "      <td>0.024728</td>\n",
       "      <td>0.007807</td>\n",
       "    </tr>\n",
       "    <tr>\n",
       "      <th>9</th>\n",
       "      <td>1.220285</td>\n",
       "      <td>0.000771</td>\n",
       "      <td>0.854359</td>\n",
       "      <td>0.965325</td>\n",
       "      <td>10</td>\n",
       "      <td>saga</td>\n",
       "      <td>{'alpha': 10.0, 'solver': 'saga'}</td>\n",
       "      <td>5</td>\n",
       "      <td>0.809357</td>\n",
       "      <td>0.969961</td>\n",
       "      <td>0.855135</td>\n",
       "      <td>0.965329</td>\n",
       "      <td>0.898708</td>\n",
       "      <td>0.960686</td>\n",
       "      <td>0.314149</td>\n",
       "      <td>0.000011</td>\n",
       "      <td>0.036473</td>\n",
       "      <td>0.003786</td>\n",
       "    </tr>\n",
       "    <tr>\n",
       "      <th>8</th>\n",
       "      <td>0.519624</td>\n",
       "      <td>0.000760</td>\n",
       "      <td>0.849656</td>\n",
       "      <td>0.965854</td>\n",
       "      <td>10</td>\n",
       "      <td>sag</td>\n",
       "      <td>{'alpha': 10.0, 'solver': 'sag'}</td>\n",
       "      <td>6</td>\n",
       "      <td>0.805561</td>\n",
       "      <td>0.970578</td>\n",
       "      <td>0.848400</td>\n",
       "      <td>0.965834</td>\n",
       "      <td>0.895134</td>\n",
       "      <td>0.961149</td>\n",
       "      <td>0.090623</td>\n",
       "      <td>0.000014</td>\n",
       "      <td>0.036570</td>\n",
       "      <td>0.003849</td>\n",
       "    </tr>\n",
       "    <tr>\n",
       "      <th>7</th>\n",
       "      <td>1.517133</td>\n",
       "      <td>0.000740</td>\n",
       "      <td>0.843088</td>\n",
       "      <td>0.965998</td>\n",
       "      <td>1</td>\n",
       "      <td>saga</td>\n",
       "      <td>{'alpha': 1.0, 'solver': 'saga'}</td>\n",
       "      <td>7</td>\n",
       "      <td>0.802527</td>\n",
       "      <td>0.970510</td>\n",
       "      <td>0.834106</td>\n",
       "      <td>0.966335</td>\n",
       "      <td>0.892768</td>\n",
       "      <td>0.961148</td>\n",
       "      <td>0.406506</td>\n",
       "      <td>0.000007</td>\n",
       "      <td>0.037377</td>\n",
       "      <td>0.003830</td>\n",
       "    </tr>\n",
       "    <tr>\n",
       "      <th>5</th>\n",
       "      <td>1.553943</td>\n",
       "      <td>0.000750</td>\n",
       "      <td>0.841562</td>\n",
       "      <td>0.966062</td>\n",
       "      <td>0.1</td>\n",
       "      <td>saga</td>\n",
       "      <td>{'alpha': 0.1, 'solver': 'saga'}</td>\n",
       "      <td>8</td>\n",
       "      <td>0.801777</td>\n",
       "      <td>0.970571</td>\n",
       "      <td>0.830914</td>\n",
       "      <td>0.966428</td>\n",
       "      <td>0.892134</td>\n",
       "      <td>0.961188</td>\n",
       "      <td>0.421094</td>\n",
       "      <td>0.000008</td>\n",
       "      <td>0.037641</td>\n",
       "      <td>0.003839</td>\n",
       "    </tr>\n",
       "    <tr>\n",
       "      <th>3</th>\n",
       "      <td>1.544111</td>\n",
       "      <td>0.000737</td>\n",
       "      <td>0.841548</td>\n",
       "      <td>0.966069</td>\n",
       "      <td>0.01</td>\n",
       "      <td>saga</td>\n",
       "      <td>{'alpha': 0.01, 'solver': 'saga'}</td>\n",
       "      <td>9</td>\n",
       "      <td>0.801977</td>\n",
       "      <td>0.970575</td>\n",
       "      <td>0.830723</td>\n",
       "      <td>0.966440</td>\n",
       "      <td>0.892083</td>\n",
       "      <td>0.961192</td>\n",
       "      <td>0.413934</td>\n",
       "      <td>0.000011</td>\n",
       "      <td>0.037566</td>\n",
       "      <td>0.003840</td>\n",
       "    </tr>\n",
       "    <tr>\n",
       "      <th>1</th>\n",
       "      <td>1.551249</td>\n",
       "      <td>0.000742</td>\n",
       "      <td>0.841456</td>\n",
       "      <td>0.966065</td>\n",
       "      <td>0.001</td>\n",
       "      <td>saga</td>\n",
       "      <td>{'alpha': 0.001, 'solver': 'saga'}</td>\n",
       "      <td>10</td>\n",
       "      <td>0.801849</td>\n",
       "      <td>0.970571</td>\n",
       "      <td>0.830783</td>\n",
       "      <td>0.966432</td>\n",
       "      <td>0.891875</td>\n",
       "      <td>0.961194</td>\n",
       "      <td>0.409553</td>\n",
       "      <td>0.000017</td>\n",
       "      <td>0.037513</td>\n",
       "      <td>0.003837</td>\n",
       "    </tr>\n",
       "    <tr>\n",
       "      <th>6</th>\n",
       "      <td>0.720791</td>\n",
       "      <td>0.000746</td>\n",
       "      <td>0.835351</td>\n",
       "      <td>0.966652</td>\n",
       "      <td>1</td>\n",
       "      <td>sag</td>\n",
       "      <td>{'alpha': 1.0, 'solver': 'sag'}</td>\n",
       "      <td>11</td>\n",
       "      <td>0.797343</td>\n",
       "      <td>0.971536</td>\n",
       "      <td>0.820521</td>\n",
       "      <td>0.966856</td>\n",
       "      <td>0.888336</td>\n",
       "      <td>0.961565</td>\n",
       "      <td>0.138604</td>\n",
       "      <td>0.000018</td>\n",
       "      <td>0.038593</td>\n",
       "      <td>0.004073</td>\n",
       "    </tr>\n",
       "    <tr>\n",
       "      <th>4</th>\n",
       "      <td>0.763803</td>\n",
       "      <td>0.000734</td>\n",
       "      <td>0.832992</td>\n",
       "      <td>0.966753</td>\n",
       "      <td>0.1</td>\n",
       "      <td>sag</td>\n",
       "      <td>{'alpha': 0.1, 'solver': 'sag'}</td>\n",
       "      <td>12</td>\n",
       "      <td>0.796319</td>\n",
       "      <td>0.971684</td>\n",
       "      <td>0.815286</td>\n",
       "      <td>0.966970</td>\n",
       "      <td>0.887520</td>\n",
       "      <td>0.961606</td>\n",
       "      <td>0.160672</td>\n",
       "      <td>0.000008</td>\n",
       "      <td>0.039275</td>\n",
       "      <td>0.004117</td>\n",
       "    </tr>\n",
       "    <tr>\n",
       "      <th>2</th>\n",
       "      <td>0.763631</td>\n",
       "      <td>0.000756</td>\n",
       "      <td>0.832806</td>\n",
       "      <td>0.966759</td>\n",
       "      <td>0.01</td>\n",
       "      <td>sag</td>\n",
       "      <td>{'alpha': 0.01, 'solver': 'sag'}</td>\n",
       "      <td>13</td>\n",
       "      <td>0.796276</td>\n",
       "      <td>0.971704</td>\n",
       "      <td>0.814928</td>\n",
       "      <td>0.966963</td>\n",
       "      <td>0.887365</td>\n",
       "      <td>0.961609</td>\n",
       "      <td>0.164703</td>\n",
       "      <td>0.000018</td>\n",
       "      <td>0.039272</td>\n",
       "      <td>0.004124</td>\n",
       "    </tr>\n",
       "    <tr>\n",
       "      <th>0</th>\n",
       "      <td>0.761873</td>\n",
       "      <td>0.000735</td>\n",
       "      <td>0.832738</td>\n",
       "      <td>0.966758</td>\n",
       "      <td>0.001</td>\n",
       "      <td>sag</td>\n",
       "      <td>{'alpha': 0.001, 'solver': 'sag'}</td>\n",
       "      <td>14</td>\n",
       "      <td>0.796265</td>\n",
       "      <td>0.971697</td>\n",
       "      <td>0.814675</td>\n",
       "      <td>0.966972</td>\n",
       "      <td>0.887424</td>\n",
       "      <td>0.961606</td>\n",
       "      <td>0.164479</td>\n",
       "      <td>0.000005</td>\n",
       "      <td>0.039341</td>\n",
       "      <td>0.004123</td>\n",
       "    </tr>\n",
       "  </tbody>\n",
       "</table>\n",
       "</div>"
      ],
      "text/plain": [
       "    mean_fit_time  mean_score_time  mean_test_score  mean_train_score  \\\n",
       "11       0.505927         0.000746         0.880314          0.959749   \n",
       "10       0.184194         0.000758         0.879673          0.960143   \n",
       "12       0.055650         0.000703         0.873041          0.923959   \n",
       "13       0.139342         0.000726         0.872852          0.923677   \n",
       "9        1.220285         0.000771         0.854359          0.965325   \n",
       "8        0.519624         0.000760         0.849656          0.965854   \n",
       "7        1.517133         0.000740         0.843088          0.965998   \n",
       "5        1.553943         0.000750         0.841562          0.966062   \n",
       "3        1.544111         0.000737         0.841548          0.966069   \n",
       "1        1.551249         0.000742         0.841456          0.966065   \n",
       "6        0.720791         0.000746         0.835351          0.966652   \n",
       "4        0.763803         0.000734         0.832992          0.966753   \n",
       "2        0.763631         0.000756         0.832806          0.966759   \n",
       "0        0.761873         0.000735         0.832738          0.966758   \n",
       "\n",
       "   param_alpha param_solver                               params  \\\n",
       "11         100         saga   {'alpha': 100.0, 'solver': 'saga'}   \n",
       "10         100          sag    {'alpha': 100.0, 'solver': 'sag'}   \n",
       "12        1000          sag   {'alpha': 1000.0, 'solver': 'sag'}   \n",
       "13        1000         saga  {'alpha': 1000.0, 'solver': 'saga'}   \n",
       "9           10         saga    {'alpha': 10.0, 'solver': 'saga'}   \n",
       "8           10          sag     {'alpha': 10.0, 'solver': 'sag'}   \n",
       "7            1         saga     {'alpha': 1.0, 'solver': 'saga'}   \n",
       "5          0.1         saga     {'alpha': 0.1, 'solver': 'saga'}   \n",
       "3         0.01         saga    {'alpha': 0.01, 'solver': 'saga'}   \n",
       "1        0.001         saga   {'alpha': 0.001, 'solver': 'saga'}   \n",
       "6            1          sag      {'alpha': 1.0, 'solver': 'sag'}   \n",
       "4          0.1          sag      {'alpha': 0.1, 'solver': 'sag'}   \n",
       "2         0.01          sag     {'alpha': 0.01, 'solver': 'sag'}   \n",
       "0        0.001          sag    {'alpha': 0.001, 'solver': 'sag'}   \n",
       "\n",
       "    rank_test_score  split0_test_score  split0_train_score  split1_test_score  \\\n",
       "11                1           0.831846            0.966047           0.892674   \n",
       "10                2           0.831064            0.966386           0.892458   \n",
       "12                3           0.839243            0.934968           0.882173   \n",
       "13                4           0.839068            0.934634           0.882031   \n",
       "9                 5           0.809357            0.969961           0.855135   \n",
       "8                 6           0.805561            0.970578           0.848400   \n",
       "7                 7           0.802527            0.970510           0.834106   \n",
       "5                 8           0.801777            0.970571           0.830914   \n",
       "3                 9           0.801977            0.970575           0.830723   \n",
       "1                10           0.801849            0.970571           0.830783   \n",
       "6                11           0.797343            0.971536           0.820521   \n",
       "4                12           0.796319            0.971684           0.815286   \n",
       "2                13           0.796276            0.971704           0.814928   \n",
       "0                14           0.796265            0.971697           0.814675   \n",
       "\n",
       "    split1_train_score  split2_test_score  split2_train_score  std_fit_time  \\\n",
       "11            0.957733           0.916520            0.955467      0.075475   \n",
       "10            0.958091           0.915598            0.955953      0.021403   \n",
       "12            0.919566           0.897776            0.917344      0.002271   \n",
       "13            0.919372           0.897526            0.917026      0.008636   \n",
       "9             0.965329           0.898708            0.960686      0.314149   \n",
       "8             0.965834           0.895134            0.961149      0.090623   \n",
       "7             0.966335           0.892768            0.961148      0.406506   \n",
       "5             0.966428           0.892134            0.961188      0.421094   \n",
       "3             0.966440           0.892083            0.961192      0.413934   \n",
       "1             0.966432           0.891875            0.961194      0.409553   \n",
       "6             0.966856           0.888336            0.961565      0.138604   \n",
       "4             0.966970           0.887520            0.961606      0.160672   \n",
       "2             0.966963           0.887365            0.961609      0.164703   \n",
       "0             0.966972           0.887424            0.961606      0.164479   \n",
       "\n",
       "    std_score_time  std_test_score  std_train_score  \n",
       "11        0.000018        0.035650         0.004548  \n",
       "10        0.000002        0.035669         0.004500  \n",
       "12        0.000043        0.024749         0.007837  \n",
       "13        0.000003        0.024728         0.007807  \n",
       "9         0.000011        0.036473         0.003786  \n",
       "8         0.000014        0.036570         0.003849  \n",
       "7         0.000007        0.037377         0.003830  \n",
       "5         0.000008        0.037641         0.003839  \n",
       "3         0.000011        0.037566         0.003840  \n",
       "1         0.000017        0.037513         0.003837  \n",
       "6         0.000018        0.038593         0.004073  \n",
       "4         0.000008        0.039275         0.004117  \n",
       "2         0.000018        0.039272         0.004124  \n",
       "0         0.000005        0.039341         0.004123  "
      ]
     },
     "execution_count": 20,
     "metadata": {},
     "output_type": "execute_result"
    }
   ],
   "source": [
    "cv_results = pd.DataFrame(ridge_gs.cv_results_)\n",
    "cv_results.sort_values('mean_test_score', ascending=False)"
   ]
  },
  {
   "cell_type": "code",
   "execution_count": 21,
   "metadata": {},
   "outputs": [
    {
     "data": {
      "text/plain": [
       "{'alpha': 100.0, 'solver': 'saga'}"
      ]
     },
     "execution_count": 21,
     "metadata": {},
     "output_type": "execute_result"
    }
   ],
   "source": [
    "ridge_gs.best_params_"
   ]
  },
  {
   "cell_type": "code",
   "execution_count": 22,
   "metadata": {},
   "outputs": [
    {
     "data": {
      "text/plain": [
       "0.88031379774797136"
      ]
     },
     "execution_count": 22,
     "metadata": {},
     "output_type": "execute_result"
    }
   ],
   "source": [
    "ridge_gs.best_score_"
   ]
  },
  {
   "cell_type": "markdown",
   "metadata": {},
   "source": [
    "### Lasso Regression\n",
    "\n",
    "**alpha** : float, optional\n",
    "\n",
    "Constant that multiplies the L1 term. Defaults to 1.0. alpha = 0 is equivalent to an ordinary least square, solved by the LinearRegression object. For numerical reasons, using alpha = 0 with the Lasso object is not advised. Given this, you should use the LinearRegression object."
   ]
  },
  {
   "cell_type": "code",
   "execution_count": 26,
   "metadata": {},
   "outputs": [],
   "source": [
    "lasso_params = {\n",
    "    'alpha' : np.logspace(-4, -1, 4)\n",
    "}"
   ]
  },
  {
   "cell_type": "code",
   "execution_count": 27,
   "metadata": {},
   "outputs": [],
   "source": [
    "lasso_gs = GridSearchCV(Lasso(), param_grid = lasso_params, return_train_score=True)"
   ]
  },
  {
   "cell_type": "code",
   "execution_count": 28,
   "metadata": {},
   "outputs": [
    {
     "name": "stderr",
     "output_type": "stream",
     "text": [
      "/opt/conda/lib/python3.6/site-packages/sklearn/linear_model/coordinate_descent.py:491: ConvergenceWarning: Objective did not converge. You might want to increase the number of iterations. Fitting data with very small alpha may cause precision problems.\n",
      "  ConvergenceWarning)\n",
      "/opt/conda/lib/python3.6/site-packages/sklearn/linear_model/coordinate_descent.py:491: ConvergenceWarning: Objective did not converge. You might want to increase the number of iterations. Fitting data with very small alpha may cause precision problems.\n",
      "  ConvergenceWarning)\n",
      "/opt/conda/lib/python3.6/site-packages/sklearn/linear_model/coordinate_descent.py:491: ConvergenceWarning: Objective did not converge. You might want to increase the number of iterations. Fitting data with very small alpha may cause precision problems.\n",
      "  ConvergenceWarning)\n"
     ]
    },
    {
     "data": {
      "text/html": [
       "<div>\n",
       "<style scoped>\n",
       "    .dataframe tbody tr th:only-of-type {\n",
       "        vertical-align: middle;\n",
       "    }\n",
       "\n",
       "    .dataframe tbody tr th {\n",
       "        vertical-align: top;\n",
       "    }\n",
       "\n",
       "    .dataframe thead th {\n",
       "        text-align: right;\n",
       "    }\n",
       "</style>\n",
       "<table border=\"1\" class=\"dataframe\">\n",
       "  <thead>\n",
       "    <tr style=\"text-align: right;\">\n",
       "      <th></th>\n",
       "      <th>mean_fit_time</th>\n",
       "      <th>mean_score_time</th>\n",
       "      <th>mean_test_score</th>\n",
       "      <th>mean_train_score</th>\n",
       "      <th>param_alpha</th>\n",
       "      <th>params</th>\n",
       "      <th>rank_test_score</th>\n",
       "      <th>split0_test_score</th>\n",
       "      <th>split0_train_score</th>\n",
       "      <th>split1_test_score</th>\n",
       "      <th>split1_train_score</th>\n",
       "      <th>split2_test_score</th>\n",
       "      <th>split2_train_score</th>\n",
       "      <th>std_fit_time</th>\n",
       "      <th>std_score_time</th>\n",
       "      <th>std_test_score</th>\n",
       "      <th>std_train_score</th>\n",
       "    </tr>\n",
       "  </thead>\n",
       "  <tbody>\n",
       "    <tr>\n",
       "      <th>2</th>\n",
       "      <td>0.016454</td>\n",
       "      <td>0.000602</td>\n",
       "      <td>0.887108</td>\n",
       "      <td>0.949295</td>\n",
       "      <td>0.01</td>\n",
       "      <td>{'alpha': 0.01}</td>\n",
       "      <td>1</td>\n",
       "      <td>0.841858</td>\n",
       "      <td>0.955326</td>\n",
       "      <td>0.901027</td>\n",
       "      <td>0.948570</td>\n",
       "      <td>0.918525</td>\n",
       "      <td>0.943987</td>\n",
       "      <td>0.001142</td>\n",
       "      <td>0.000032</td>\n",
       "      <td>0.032805</td>\n",
       "      <td>0.004657</td>\n",
       "    </tr>\n",
       "    <tr>\n",
       "      <th>1</th>\n",
       "      <td>0.099546</td>\n",
       "      <td>0.000738</td>\n",
       "      <td>0.855098</td>\n",
       "      <td>0.965735</td>\n",
       "      <td>0.001</td>\n",
       "      <td>{'alpha': 0.001}</td>\n",
       "      <td>2</td>\n",
       "      <td>0.817414</td>\n",
       "      <td>0.970932</td>\n",
       "      <td>0.845166</td>\n",
       "      <td>0.965449</td>\n",
       "      <td>0.902847</td>\n",
       "      <td>0.960826</td>\n",
       "      <td>0.029389</td>\n",
       "      <td>0.000020</td>\n",
       "      <td>0.035571</td>\n",
       "      <td>0.004131</td>\n",
       "    </tr>\n",
       "    <tr>\n",
       "      <th>0</th>\n",
       "      <td>0.187474</td>\n",
       "      <td>0.000711</td>\n",
       "      <td>0.823073</td>\n",
       "      <td>0.968591</td>\n",
       "      <td>0.0001</td>\n",
       "      <td>{'alpha': 0.0001}</td>\n",
       "      <td>3</td>\n",
       "      <td>0.800072</td>\n",
       "      <td>0.973871</td>\n",
       "      <td>0.782236</td>\n",
       "      <td>0.969071</td>\n",
       "      <td>0.887086</td>\n",
       "      <td>0.962831</td>\n",
       "      <td>0.010779</td>\n",
       "      <td>0.000007</td>\n",
       "      <td>0.045785</td>\n",
       "      <td>0.004520</td>\n",
       "    </tr>\n",
       "    <tr>\n",
       "      <th>3</th>\n",
       "      <td>0.006979</td>\n",
       "      <td>0.000537</td>\n",
       "      <td>0.806663</td>\n",
       "      <td>0.826697</td>\n",
       "      <td>0.1</td>\n",
       "      <td>{'alpha': 0.1}</td>\n",
       "      <td>4</td>\n",
       "      <td>0.767506</td>\n",
       "      <td>0.837430</td>\n",
       "      <td>0.833861</td>\n",
       "      <td>0.824428</td>\n",
       "      <td>0.818655</td>\n",
       "      <td>0.818235</td>\n",
       "      <td>0.000137</td>\n",
       "      <td>0.000015</td>\n",
       "      <td>0.028394</td>\n",
       "      <td>0.007999</td>\n",
       "    </tr>\n",
       "  </tbody>\n",
       "</table>\n",
       "</div>"
      ],
      "text/plain": [
       "   mean_fit_time  mean_score_time  mean_test_score  mean_train_score  \\\n",
       "2       0.016454         0.000602         0.887108          0.949295   \n",
       "1       0.099546         0.000738         0.855098          0.965735   \n",
       "0       0.187474         0.000711         0.823073          0.968591   \n",
       "3       0.006979         0.000537         0.806663          0.826697   \n",
       "\n",
       "  param_alpha             params  rank_test_score  split0_test_score  \\\n",
       "2        0.01    {'alpha': 0.01}                1           0.841858   \n",
       "1       0.001   {'alpha': 0.001}                2           0.817414   \n",
       "0      0.0001  {'alpha': 0.0001}                3           0.800072   \n",
       "3         0.1     {'alpha': 0.1}                4           0.767506   \n",
       "\n",
       "   split0_train_score  split1_test_score  split1_train_score  \\\n",
       "2            0.955326           0.901027            0.948570   \n",
       "1            0.970932           0.845166            0.965449   \n",
       "0            0.973871           0.782236            0.969071   \n",
       "3            0.837430           0.833861            0.824428   \n",
       "\n",
       "   split2_test_score  split2_train_score  std_fit_time  std_score_time  \\\n",
       "2           0.918525            0.943987      0.001142        0.000032   \n",
       "1           0.902847            0.960826      0.029389        0.000020   \n",
       "0           0.887086            0.962831      0.010779        0.000007   \n",
       "3           0.818655            0.818235      0.000137        0.000015   \n",
       "\n",
       "   std_test_score  std_train_score  \n",
       "2        0.032805         0.004657  \n",
       "1        0.035571         0.004131  \n",
       "0        0.045785         0.004520  \n",
       "3        0.028394         0.007999  "
      ]
     },
     "execution_count": 28,
     "metadata": {},
     "output_type": "execute_result"
    }
   ],
   "source": [
    "lasso_gs.fit(X_train, y_train)\n",
    "cv_results = pd.DataFrame(lasso_gs.cv_results_)\n",
    "cv_results.sort_values('mean_test_score', ascending=False).head()"
   ]
  },
  {
   "cell_type": "code",
   "execution_count": 29,
   "metadata": {},
   "outputs": [
    {
     "data": {
      "text/plain": [
       "{'alpha': 0.01}"
      ]
     },
     "execution_count": 29,
     "metadata": {},
     "output_type": "execute_result"
    }
   ],
   "source": [
    "lasso_gs.best_params_"
   ]
  },
  {
   "cell_type": "code",
   "execution_count": 30,
   "metadata": {},
   "outputs": [
    {
     "data": {
      "text/plain": [
       "0.88710806168687895"
      ]
     },
     "execution_count": 30,
     "metadata": {},
     "output_type": "execute_result"
    }
   ],
   "source": [
    "lasso_gs.best_score_"
   ]
  },
  {
   "cell_type": "markdown",
   "metadata": {},
   "source": [
    "### SVR Regression"
   ]
  },
  {
   "cell_type": "code",
   "execution_count": 35,
   "metadata": {},
   "outputs": [],
   "source": [
    "svr_params = {\n",
    "    'C' : np.logspace(-3,3,7),\n",
    "    'kernel' : ['linear', 'poly', 'rbf', 'sigmoid']\n",
    "}"
   ]
  },
  {
   "cell_type": "code",
   "execution_count": 36,
   "metadata": {},
   "outputs": [],
   "source": [
    "svr_gs = GridSearchCV(SVR(), param_grid= svr_params, return_train_score=True)"
   ]
  },
  {
   "cell_type": "code",
   "execution_count": 37,
   "metadata": {},
   "outputs": [
    {
     "ename": "KeyboardInterrupt",
     "evalue": "",
     "output_type": "error",
     "traceback": [
      "\u001b[0;31m---------------------------------------------------------------------------\u001b[0m",
      "\u001b[0;31mKeyboardInterrupt\u001b[0m                         Traceback (most recent call last)",
      "\u001b[0;32m<ipython-input-37-8c35b366c0d4>\u001b[0m in \u001b[0;36m<module>\u001b[0;34m()\u001b[0m\n\u001b[0;32m----> 1\u001b[0;31m \u001b[0msvr_gs\u001b[0m\u001b[0;34m.\u001b[0m\u001b[0mfit\u001b[0m\u001b[0;34m(\u001b[0m\u001b[0mX_train\u001b[0m\u001b[0;34m,\u001b[0m \u001b[0my_train\u001b[0m\u001b[0;34m)\u001b[0m\u001b[0;34m\u001b[0m\u001b[0m\n\u001b[0m\u001b[1;32m      2\u001b[0m \u001b[0mcv_results\u001b[0m \u001b[0;34m=\u001b[0m \u001b[0mpd\u001b[0m\u001b[0;34m.\u001b[0m\u001b[0mDataFrame\u001b[0m\u001b[0;34m(\u001b[0m\u001b[0msvr_gs\u001b[0m\u001b[0;34m.\u001b[0m\u001b[0mcv_results_\u001b[0m\u001b[0;34m)\u001b[0m\u001b[0;34m\u001b[0m\u001b[0m\n\u001b[1;32m      3\u001b[0m \u001b[0mcv_results\u001b[0m\u001b[0;34m.\u001b[0m\u001b[0msort_values\u001b[0m\u001b[0;34m(\u001b[0m\u001b[0;34m'mean_test_score'\u001b[0m\u001b[0;34m,\u001b[0m \u001b[0mascending\u001b[0m\u001b[0;34m=\u001b[0m\u001b[0;32mFalse\u001b[0m\u001b[0;34m)\u001b[0m\u001b[0;34m.\u001b[0m\u001b[0mhead\u001b[0m\u001b[0;34m(\u001b[0m\u001b[0;34m)\u001b[0m\u001b[0;34m\u001b[0m\u001b[0m\n",
      "\u001b[0;32m/opt/conda/lib/python3.6/site-packages/sklearn/model_selection/_search.py\u001b[0m in \u001b[0;36mfit\u001b[0;34m(self, X, y, groups, **fit_params)\u001b[0m\n\u001b[1;32m    637\u001b[0m                                   error_score=self.error_score)\n\u001b[1;32m    638\u001b[0m           for parameters, (train, test) in product(candidate_params,\n\u001b[0;32m--> 639\u001b[0;31m                                                    cv.split(X, y, groups)))\n\u001b[0m\u001b[1;32m    640\u001b[0m \u001b[0;34m\u001b[0m\u001b[0m\n\u001b[1;32m    641\u001b[0m         \u001b[0;31m# if one choose to see train score, \"out\" will contain train score info\u001b[0m\u001b[0;34m\u001b[0m\u001b[0;34m\u001b[0m\u001b[0m\n",
      "\u001b[0;32m/opt/conda/lib/python3.6/site-packages/sklearn/externals/joblib/parallel.py\u001b[0m in \u001b[0;36m__call__\u001b[0;34m(self, iterable)\u001b[0m\n\u001b[1;32m    777\u001b[0m             \u001b[0;31m# was dispatched. In particular this covers the edge\u001b[0m\u001b[0;34m\u001b[0m\u001b[0;34m\u001b[0m\u001b[0m\n\u001b[1;32m    778\u001b[0m             \u001b[0;31m# case of Parallel used with an exhausted iterator.\u001b[0m\u001b[0;34m\u001b[0m\u001b[0;34m\u001b[0m\u001b[0m\n\u001b[0;32m--> 779\u001b[0;31m             \u001b[0;32mwhile\u001b[0m \u001b[0mself\u001b[0m\u001b[0;34m.\u001b[0m\u001b[0mdispatch_one_batch\u001b[0m\u001b[0;34m(\u001b[0m\u001b[0miterator\u001b[0m\u001b[0;34m)\u001b[0m\u001b[0;34m:\u001b[0m\u001b[0;34m\u001b[0m\u001b[0m\n\u001b[0m\u001b[1;32m    780\u001b[0m                 \u001b[0mself\u001b[0m\u001b[0;34m.\u001b[0m\u001b[0m_iterating\u001b[0m \u001b[0;34m=\u001b[0m \u001b[0;32mTrue\u001b[0m\u001b[0;34m\u001b[0m\u001b[0m\n\u001b[1;32m    781\u001b[0m             \u001b[0;32melse\u001b[0m\u001b[0;34m:\u001b[0m\u001b[0;34m\u001b[0m\u001b[0m\n",
      "\u001b[0;32m/opt/conda/lib/python3.6/site-packages/sklearn/externals/joblib/parallel.py\u001b[0m in \u001b[0;36mdispatch_one_batch\u001b[0;34m(self, iterator)\u001b[0m\n\u001b[1;32m    623\u001b[0m                 \u001b[0;32mreturn\u001b[0m \u001b[0;32mFalse\u001b[0m\u001b[0;34m\u001b[0m\u001b[0m\n\u001b[1;32m    624\u001b[0m             \u001b[0;32melse\u001b[0m\u001b[0;34m:\u001b[0m\u001b[0;34m\u001b[0m\u001b[0m\n\u001b[0;32m--> 625\u001b[0;31m                 \u001b[0mself\u001b[0m\u001b[0;34m.\u001b[0m\u001b[0m_dispatch\u001b[0m\u001b[0;34m(\u001b[0m\u001b[0mtasks\u001b[0m\u001b[0;34m)\u001b[0m\u001b[0;34m\u001b[0m\u001b[0m\n\u001b[0m\u001b[1;32m    626\u001b[0m                 \u001b[0;32mreturn\u001b[0m \u001b[0;32mTrue\u001b[0m\u001b[0;34m\u001b[0m\u001b[0m\n\u001b[1;32m    627\u001b[0m \u001b[0;34m\u001b[0m\u001b[0m\n",
      "\u001b[0;32m/opt/conda/lib/python3.6/site-packages/sklearn/externals/joblib/parallel.py\u001b[0m in \u001b[0;36m_dispatch\u001b[0;34m(self, batch)\u001b[0m\n\u001b[1;32m    586\u001b[0m         \u001b[0mdispatch_timestamp\u001b[0m \u001b[0;34m=\u001b[0m \u001b[0mtime\u001b[0m\u001b[0;34m.\u001b[0m\u001b[0mtime\u001b[0m\u001b[0;34m(\u001b[0m\u001b[0;34m)\u001b[0m\u001b[0;34m\u001b[0m\u001b[0m\n\u001b[1;32m    587\u001b[0m         \u001b[0mcb\u001b[0m \u001b[0;34m=\u001b[0m \u001b[0mBatchCompletionCallBack\u001b[0m\u001b[0;34m(\u001b[0m\u001b[0mdispatch_timestamp\u001b[0m\u001b[0;34m,\u001b[0m \u001b[0mlen\u001b[0m\u001b[0;34m(\u001b[0m\u001b[0mbatch\u001b[0m\u001b[0;34m)\u001b[0m\u001b[0;34m,\u001b[0m \u001b[0mself\u001b[0m\u001b[0;34m)\u001b[0m\u001b[0;34m\u001b[0m\u001b[0m\n\u001b[0;32m--> 588\u001b[0;31m         \u001b[0mjob\u001b[0m \u001b[0;34m=\u001b[0m \u001b[0mself\u001b[0m\u001b[0;34m.\u001b[0m\u001b[0m_backend\u001b[0m\u001b[0;34m.\u001b[0m\u001b[0mapply_async\u001b[0m\u001b[0;34m(\u001b[0m\u001b[0mbatch\u001b[0m\u001b[0;34m,\u001b[0m \u001b[0mcallback\u001b[0m\u001b[0;34m=\u001b[0m\u001b[0mcb\u001b[0m\u001b[0;34m)\u001b[0m\u001b[0;34m\u001b[0m\u001b[0m\n\u001b[0m\u001b[1;32m    589\u001b[0m         \u001b[0mself\u001b[0m\u001b[0;34m.\u001b[0m\u001b[0m_jobs\u001b[0m\u001b[0;34m.\u001b[0m\u001b[0mappend\u001b[0m\u001b[0;34m(\u001b[0m\u001b[0mjob\u001b[0m\u001b[0;34m)\u001b[0m\u001b[0;34m\u001b[0m\u001b[0m\n\u001b[1;32m    590\u001b[0m \u001b[0;34m\u001b[0m\u001b[0m\n",
      "\u001b[0;32m/opt/conda/lib/python3.6/site-packages/sklearn/externals/joblib/_parallel_backends.py\u001b[0m in \u001b[0;36mapply_async\u001b[0;34m(self, func, callback)\u001b[0m\n\u001b[1;32m    109\u001b[0m     \u001b[0;32mdef\u001b[0m \u001b[0mapply_async\u001b[0m\u001b[0;34m(\u001b[0m\u001b[0mself\u001b[0m\u001b[0;34m,\u001b[0m \u001b[0mfunc\u001b[0m\u001b[0;34m,\u001b[0m \u001b[0mcallback\u001b[0m\u001b[0;34m=\u001b[0m\u001b[0;32mNone\u001b[0m\u001b[0;34m)\u001b[0m\u001b[0;34m:\u001b[0m\u001b[0;34m\u001b[0m\u001b[0m\n\u001b[1;32m    110\u001b[0m         \u001b[0;34m\"\"\"Schedule a func to be run\"\"\"\u001b[0m\u001b[0;34m\u001b[0m\u001b[0m\n\u001b[0;32m--> 111\u001b[0;31m         \u001b[0mresult\u001b[0m \u001b[0;34m=\u001b[0m \u001b[0mImmediateResult\u001b[0m\u001b[0;34m(\u001b[0m\u001b[0mfunc\u001b[0m\u001b[0;34m)\u001b[0m\u001b[0;34m\u001b[0m\u001b[0m\n\u001b[0m\u001b[1;32m    112\u001b[0m         \u001b[0;32mif\u001b[0m \u001b[0mcallback\u001b[0m\u001b[0;34m:\u001b[0m\u001b[0;34m\u001b[0m\u001b[0m\n\u001b[1;32m    113\u001b[0m             \u001b[0mcallback\u001b[0m\u001b[0;34m(\u001b[0m\u001b[0mresult\u001b[0m\u001b[0;34m)\u001b[0m\u001b[0;34m\u001b[0m\u001b[0m\n",
      "\u001b[0;32m/opt/conda/lib/python3.6/site-packages/sklearn/externals/joblib/_parallel_backends.py\u001b[0m in \u001b[0;36m__init__\u001b[0;34m(self, batch)\u001b[0m\n\u001b[1;32m    330\u001b[0m         \u001b[0;31m# Don't delay the application, to avoid keeping the input\u001b[0m\u001b[0;34m\u001b[0m\u001b[0;34m\u001b[0m\u001b[0m\n\u001b[1;32m    331\u001b[0m         \u001b[0;31m# arguments in memory\u001b[0m\u001b[0;34m\u001b[0m\u001b[0;34m\u001b[0m\u001b[0m\n\u001b[0;32m--> 332\u001b[0;31m         \u001b[0mself\u001b[0m\u001b[0;34m.\u001b[0m\u001b[0mresults\u001b[0m \u001b[0;34m=\u001b[0m \u001b[0mbatch\u001b[0m\u001b[0;34m(\u001b[0m\u001b[0;34m)\u001b[0m\u001b[0;34m\u001b[0m\u001b[0m\n\u001b[0m\u001b[1;32m    333\u001b[0m \u001b[0;34m\u001b[0m\u001b[0m\n\u001b[1;32m    334\u001b[0m     \u001b[0;32mdef\u001b[0m \u001b[0mget\u001b[0m\u001b[0;34m(\u001b[0m\u001b[0mself\u001b[0m\u001b[0;34m)\u001b[0m\u001b[0;34m:\u001b[0m\u001b[0;34m\u001b[0m\u001b[0m\n",
      "\u001b[0;32m/opt/conda/lib/python3.6/site-packages/sklearn/externals/joblib/parallel.py\u001b[0m in \u001b[0;36m__call__\u001b[0;34m(self)\u001b[0m\n\u001b[1;32m    129\u001b[0m \u001b[0;34m\u001b[0m\u001b[0m\n\u001b[1;32m    130\u001b[0m     \u001b[0;32mdef\u001b[0m \u001b[0m__call__\u001b[0m\u001b[0;34m(\u001b[0m\u001b[0mself\u001b[0m\u001b[0;34m)\u001b[0m\u001b[0;34m:\u001b[0m\u001b[0;34m\u001b[0m\u001b[0m\n\u001b[0;32m--> 131\u001b[0;31m         \u001b[0;32mreturn\u001b[0m \u001b[0;34m[\u001b[0m\u001b[0mfunc\u001b[0m\u001b[0;34m(\u001b[0m\u001b[0;34m*\u001b[0m\u001b[0margs\u001b[0m\u001b[0;34m,\u001b[0m \u001b[0;34m**\u001b[0m\u001b[0mkwargs\u001b[0m\u001b[0;34m)\u001b[0m \u001b[0;32mfor\u001b[0m \u001b[0mfunc\u001b[0m\u001b[0;34m,\u001b[0m \u001b[0margs\u001b[0m\u001b[0;34m,\u001b[0m \u001b[0mkwargs\u001b[0m \u001b[0;32min\u001b[0m \u001b[0mself\u001b[0m\u001b[0;34m.\u001b[0m\u001b[0mitems\u001b[0m\u001b[0;34m]\u001b[0m\u001b[0;34m\u001b[0m\u001b[0m\n\u001b[0m\u001b[1;32m    132\u001b[0m \u001b[0;34m\u001b[0m\u001b[0m\n\u001b[1;32m    133\u001b[0m     \u001b[0;32mdef\u001b[0m \u001b[0m__len__\u001b[0m\u001b[0;34m(\u001b[0m\u001b[0mself\u001b[0m\u001b[0;34m)\u001b[0m\u001b[0;34m:\u001b[0m\u001b[0;34m\u001b[0m\u001b[0m\n",
      "\u001b[0;32m/opt/conda/lib/python3.6/site-packages/sklearn/externals/joblib/parallel.py\u001b[0m in \u001b[0;36m<listcomp>\u001b[0;34m(.0)\u001b[0m\n\u001b[1;32m    129\u001b[0m \u001b[0;34m\u001b[0m\u001b[0m\n\u001b[1;32m    130\u001b[0m     \u001b[0;32mdef\u001b[0m \u001b[0m__call__\u001b[0m\u001b[0;34m(\u001b[0m\u001b[0mself\u001b[0m\u001b[0;34m)\u001b[0m\u001b[0;34m:\u001b[0m\u001b[0;34m\u001b[0m\u001b[0m\n\u001b[0;32m--> 131\u001b[0;31m         \u001b[0;32mreturn\u001b[0m \u001b[0;34m[\u001b[0m\u001b[0mfunc\u001b[0m\u001b[0;34m(\u001b[0m\u001b[0;34m*\u001b[0m\u001b[0margs\u001b[0m\u001b[0;34m,\u001b[0m \u001b[0;34m**\u001b[0m\u001b[0mkwargs\u001b[0m\u001b[0;34m)\u001b[0m \u001b[0;32mfor\u001b[0m \u001b[0mfunc\u001b[0m\u001b[0;34m,\u001b[0m \u001b[0margs\u001b[0m\u001b[0;34m,\u001b[0m \u001b[0mkwargs\u001b[0m \u001b[0;32min\u001b[0m \u001b[0mself\u001b[0m\u001b[0;34m.\u001b[0m\u001b[0mitems\u001b[0m\u001b[0;34m]\u001b[0m\u001b[0;34m\u001b[0m\u001b[0m\n\u001b[0m\u001b[1;32m    132\u001b[0m \u001b[0;34m\u001b[0m\u001b[0m\n\u001b[1;32m    133\u001b[0m     \u001b[0;32mdef\u001b[0m \u001b[0m__len__\u001b[0m\u001b[0;34m(\u001b[0m\u001b[0mself\u001b[0m\u001b[0;34m)\u001b[0m\u001b[0;34m:\u001b[0m\u001b[0;34m\u001b[0m\u001b[0m\n",
      "\u001b[0;32m/opt/conda/lib/python3.6/site-packages/sklearn/model_selection/_validation.py\u001b[0m in \u001b[0;36m_fit_and_score\u001b[0;34m(estimator, X, y, scorer, train, test, verbose, parameters, fit_params, return_train_score, return_parameters, return_n_test_samples, return_times, error_score)\u001b[0m\n\u001b[1;32m    456\u001b[0m             \u001b[0mestimator\u001b[0m\u001b[0;34m.\u001b[0m\u001b[0mfit\u001b[0m\u001b[0;34m(\u001b[0m\u001b[0mX_train\u001b[0m\u001b[0;34m,\u001b[0m \u001b[0;34m**\u001b[0m\u001b[0mfit_params\u001b[0m\u001b[0;34m)\u001b[0m\u001b[0;34m\u001b[0m\u001b[0m\n\u001b[1;32m    457\u001b[0m         \u001b[0;32melse\u001b[0m\u001b[0;34m:\u001b[0m\u001b[0;34m\u001b[0m\u001b[0m\n\u001b[0;32m--> 458\u001b[0;31m             \u001b[0mestimator\u001b[0m\u001b[0;34m.\u001b[0m\u001b[0mfit\u001b[0m\u001b[0;34m(\u001b[0m\u001b[0mX_train\u001b[0m\u001b[0;34m,\u001b[0m \u001b[0my_train\u001b[0m\u001b[0;34m,\u001b[0m \u001b[0;34m**\u001b[0m\u001b[0mfit_params\u001b[0m\u001b[0;34m)\u001b[0m\u001b[0;34m\u001b[0m\u001b[0m\n\u001b[0m\u001b[1;32m    459\u001b[0m \u001b[0;34m\u001b[0m\u001b[0m\n\u001b[1;32m    460\u001b[0m     \u001b[0;32mexcept\u001b[0m \u001b[0mException\u001b[0m \u001b[0;32mas\u001b[0m \u001b[0me\u001b[0m\u001b[0;34m:\u001b[0m\u001b[0;34m\u001b[0m\u001b[0m\n",
      "\u001b[0;32m/opt/conda/lib/python3.6/site-packages/sklearn/svm/base.py\u001b[0m in \u001b[0;36mfit\u001b[0;34m(self, X, y, sample_weight)\u001b[0m\n\u001b[1;32m    185\u001b[0m \u001b[0;34m\u001b[0m\u001b[0m\n\u001b[1;32m    186\u001b[0m         \u001b[0mseed\u001b[0m \u001b[0;34m=\u001b[0m \u001b[0mrnd\u001b[0m\u001b[0;34m.\u001b[0m\u001b[0mrandint\u001b[0m\u001b[0;34m(\u001b[0m\u001b[0mnp\u001b[0m\u001b[0;34m.\u001b[0m\u001b[0miinfo\u001b[0m\u001b[0;34m(\u001b[0m\u001b[0;34m'i'\u001b[0m\u001b[0;34m)\u001b[0m\u001b[0;34m.\u001b[0m\u001b[0mmax\u001b[0m\u001b[0;34m)\u001b[0m\u001b[0;34m\u001b[0m\u001b[0m\n\u001b[0;32m--> 187\u001b[0;31m         \u001b[0mfit\u001b[0m\u001b[0;34m(\u001b[0m\u001b[0mX\u001b[0m\u001b[0;34m,\u001b[0m \u001b[0my\u001b[0m\u001b[0;34m,\u001b[0m \u001b[0msample_weight\u001b[0m\u001b[0;34m,\u001b[0m \u001b[0msolver_type\u001b[0m\u001b[0;34m,\u001b[0m \u001b[0mkernel\u001b[0m\u001b[0;34m,\u001b[0m \u001b[0mrandom_seed\u001b[0m\u001b[0;34m=\u001b[0m\u001b[0mseed\u001b[0m\u001b[0;34m)\u001b[0m\u001b[0;34m\u001b[0m\u001b[0m\n\u001b[0m\u001b[1;32m    188\u001b[0m         \u001b[0;31m# see comment on the other call to np.iinfo in this file\u001b[0m\u001b[0;34m\u001b[0m\u001b[0;34m\u001b[0m\u001b[0m\n\u001b[1;32m    189\u001b[0m \u001b[0;34m\u001b[0m\u001b[0m\n",
      "\u001b[0;32m/opt/conda/lib/python3.6/site-packages/sklearn/svm/base.py\u001b[0m in \u001b[0;36m_dense_fit\u001b[0;34m(self, X, y, sample_weight, solver_type, kernel, random_seed)\u001b[0m\n\u001b[1;32m    252\u001b[0m                 \u001b[0mcache_size\u001b[0m\u001b[0;34m=\u001b[0m\u001b[0mself\u001b[0m\u001b[0;34m.\u001b[0m\u001b[0mcache_size\u001b[0m\u001b[0;34m,\u001b[0m \u001b[0mcoef0\u001b[0m\u001b[0;34m=\u001b[0m\u001b[0mself\u001b[0m\u001b[0;34m.\u001b[0m\u001b[0mcoef0\u001b[0m\u001b[0;34m,\u001b[0m\u001b[0;34m\u001b[0m\u001b[0m\n\u001b[1;32m    253\u001b[0m                 \u001b[0mgamma\u001b[0m\u001b[0;34m=\u001b[0m\u001b[0mself\u001b[0m\u001b[0;34m.\u001b[0m\u001b[0m_gamma\u001b[0m\u001b[0;34m,\u001b[0m \u001b[0mepsilon\u001b[0m\u001b[0;34m=\u001b[0m\u001b[0mself\u001b[0m\u001b[0;34m.\u001b[0m\u001b[0mepsilon\u001b[0m\u001b[0;34m,\u001b[0m\u001b[0;34m\u001b[0m\u001b[0m\n\u001b[0;32m--> 254\u001b[0;31m                 max_iter=self.max_iter, random_seed=random_seed)\n\u001b[0m\u001b[1;32m    255\u001b[0m \u001b[0;34m\u001b[0m\u001b[0m\n\u001b[1;32m    256\u001b[0m         \u001b[0mself\u001b[0m\u001b[0;34m.\u001b[0m\u001b[0m_warn_from_fit_status\u001b[0m\u001b[0;34m(\u001b[0m\u001b[0;34m)\u001b[0m\u001b[0;34m\u001b[0m\u001b[0m\n",
      "\u001b[0;31mKeyboardInterrupt\u001b[0m: "
     ]
    }
   ],
   "source": [
    "svr_gs.fit(X_train, y_train)\n",
    "cv_results = pd.DataFrame(svr_gs.cv_results_)\n",
    "cv_results.sort_values('mean_test_score', ascending=False).head()"
   ]
  },
  {
   "cell_type": "code",
   "execution_count": null,
   "metadata": {},
   "outputs": [],
   "source": [
    "svr_gs.best_params_"
   ]
  },
  {
   "cell_type": "code",
   "execution_count": null,
   "metadata": {},
   "outputs": [],
   "source": [
    "svr_gs.best_score_"
   ]
  },
  {
   "cell_type": "code",
   "execution_count": null,
   "metadata": {},
   "outputs": [],
   "source": []
  }
 ],
 "metadata": {
  "kernelspec": {
   "display_name": "Python 3",
   "language": "python",
   "name": "python3"
  },
  "language_info": {
   "codemirror_mode": {
    "name": "ipython",
    "version": 3
   },
   "file_extension": ".py",
   "mimetype": "text/x-python",
   "name": "python",
   "nbconvert_exporter": "python",
   "pygments_lexer": "ipython3",
   "version": "3.6.4"
  }
 },
 "nbformat": 4,
 "nbformat_minor": 2
}
