{
 "cells": [
  {
   "cell_type": "code",
   "execution_count": 1,
   "metadata": {},
   "outputs": [],
   "source": [
    "source('../src/load_data.r')\n",
    "source('../src/multiplot.r')"
   ]
  },
  {
   "cell_type": "code",
   "execution_count": 2,
   "metadata": {},
   "outputs": [
    {
     "data": {
      "text/html": [
       "<table>\n",
       "<thead><tr><th scope=col>MSSubClass.20</th><th scope=col>MSSubClass.30</th><th scope=col>MSSubClass.40</th><th scope=col>MSSubClass.45</th><th scope=col>MSSubClass.50</th><th scope=col>MSSubClass.60</th><th scope=col>MSSubClass.70</th><th scope=col>MSSubClass.75</th><th scope=col>MSSubClass.80</th><th scope=col>MSSubClass.85</th><th scope=col>⋯</th><th scope=col>YearBuilt</th><th scope=col>YearRemodAdd</th><th scope=col>BsmtFinSF1</th><th scope=col>BsmtUnfSF</th><th scope=col>TotalBsmtSF</th><th scope=col>FirstFlrSF</th><th scope=col>GrLivArea</th><th scope=col>GarageYrBlt</th><th scope=col>GarageArea</th><th scope=col>SalePrice</th></tr></thead>\n",
       "<tbody>\n",
       "\t<tr><td>-0.760586  </td><td>-0.2233679 </td><td>-0.05255887</td><td>-0.09128733</td><td>-0.3318133 </td><td> 1.9746741 </td><td>-0.2076167 </td><td>-0.1055563 </td><td>-0.2021419 </td><td>-0.1181804 </td><td>⋯          </td><td> 1.0509849 </td><td> 0.8820760 </td><td>0.7205018  </td><td> 0.08917398</td><td>0.10842138 </td><td>-0.8026317 </td><td> 0.5315369 </td><td> 1.02265460</td><td>0.2771098  </td><td> 0.5639683 </td></tr>\n",
       "\t<tr><td> 1.313870  </td><td>-0.2233679 </td><td>-0.05255887</td><td>-0.09128733</td><td>-0.3318133 </td><td>-0.5060637 </td><td>-0.2076167 </td><td>-0.1055563 </td><td>-0.2021419 </td><td>-0.1181804 </td><td>⋯          </td><td> 0.1692304 </td><td>-0.4188065 </td><td>0.7552734  </td><td> 0.20492237</td><td>0.22641726 </td><td> 0.4214040 </td><td>-0.3785471 </td><td>-0.09204807</td><td>0.2390487  </td><td> 0.2168273 </td></tr>\n",
       "\t<tr><td>-0.760586  </td><td>-0.2233679 </td><td>-0.05255887</td><td>-0.09128733</td><td>-0.3318133 </td><td> 1.9746741 </td><td>-0.2076167 </td><td>-0.1055563 </td><td>-0.2021419 </td><td>-0.1181804 </td><td>⋯          </td><td> 0.9860786 </td><td> 0.8342087 </td><td>0.6806608  </td><td> 0.28181796</td><td>0.13033862 </td><td>-0.5752722 </td><td> 0.6618057 </td><td> 0.94060083</td><td>0.2997008  </td><td> 0.7378659 </td></tr>\n",
       "\t<tr><td>-0.760586  </td><td>-0.2233679 </td><td>-0.05255887</td><td>-0.09128733</td><td>-0.3318133 </td><td>-0.5060637 </td><td> 4.8132480 </td><td>-0.1055563 </td><td>-0.2021419 </td><td>-0.1181804 </td><td>⋯          </td><td>-1.8680714 </td><td>-0.7103048 </td><td>0.5941378  </td><td> 0.32144248</td><td>0.07065950 </td><td>-0.4377884 </td><td> 0.5437750 </td><td> 0.81736628</td><td>0.3115320  </td><td>-0.4330156 </td></tr>\n",
       "\t<tr><td>-0.760586  </td><td>-0.2233679 </td><td>-0.05255887</td><td>-0.09128733</td><td>-0.3318133 </td><td> 1.9746741 </td><td>-0.2076167 </td><td>-0.1055563 </td><td>-0.2021419 </td><td>-0.1181804 </td><td>⋯          </td><td> 0.9536011 </td><td> 0.7384023 </td><td>0.7125017  </td><td> 0.30382402</td><td>0.19684307 </td><td> 0.1146148 </td><td> 1.2836237 </td><td> 0.89954319</td><td>0.3689426  </td><td> 1.0183392 </td></tr>\n",
       "\t<tr><td>-0.760586  </td><td>-0.2233679 </td><td>-0.05255887</td><td>-0.09128733</td><td> 3.0116663 </td><td>-0.5060637 </td><td>-0.2076167 </td><td>-0.1055563 </td><td>-0.2021419 </td><td>-0.1181804 </td><td>⋯          </td><td> 0.7258029 </td><td> 0.4984665 </td><td>0.7243605  </td><td>-0.06527209</td><td>0.08633152 </td><td>-1.0317819 </td><td>-0.1501048 </td><td> 0.61156359</td><td>0.2483025  </td><td>-0.3799439 </td></tr>\n",
       "</tbody>\n",
       "</table>\n"
      ],
      "text/latex": [
       "\\begin{tabular}{r|lllllllllllllllllllllllllllllllllllllllllllllllllllllllllllllllllllllllllllllllllllllllllllllllllllllllllllllllllllllllllllllllllllllllllllllllllllllllllllllllllllllllllllllllllllllllllllllllllllllllllllllllllllllllllllllllllllllllllllllllllllllllllllllllllllllllllllllllllllllllllllllllllllllllllllllllllllllllllllllllllllllllllllllllllllllllllllllllllllllllllllllllllllllllllllllllllllllllllllllllllll}\n",
       " MSSubClass.20 & MSSubClass.30 & MSSubClass.40 & MSSubClass.45 & MSSubClass.50 & MSSubClass.60 & MSSubClass.70 & MSSubClass.75 & MSSubClass.80 & MSSubClass.85 & ⋯ & YearBuilt & YearRemodAdd & BsmtFinSF1 & BsmtUnfSF & TotalBsmtSF & FirstFlrSF & GrLivArea & GarageYrBlt & GarageArea & SalePrice\\\\\n",
       "\\hline\n",
       "\t -0.760586   & -0.2233679  & -0.05255887 & -0.09128733 & -0.3318133  &  1.9746741  & -0.2076167  & -0.1055563  & -0.2021419  & -0.1181804  & ⋯           &  1.0509849  &  0.8820760  & 0.7205018   &  0.08917398 & 0.10842138  & -0.8026317  &  0.5315369  &  1.02265460 & 0.2771098   &  0.5639683 \\\\\n",
       "\t  1.313870   & -0.2233679  & -0.05255887 & -0.09128733 & -0.3318133  & -0.5060637  & -0.2076167  & -0.1055563  & -0.2021419  & -0.1181804  & ⋯           &  0.1692304  & -0.4188065  & 0.7552734   &  0.20492237 & 0.22641726  &  0.4214040  & -0.3785471  & -0.09204807 & 0.2390487   &  0.2168273 \\\\\n",
       "\t -0.760586   & -0.2233679  & -0.05255887 & -0.09128733 & -0.3318133  &  1.9746741  & -0.2076167  & -0.1055563  & -0.2021419  & -0.1181804  & ⋯           &  0.9860786  &  0.8342087  & 0.6806608   &  0.28181796 & 0.13033862  & -0.5752722  &  0.6618057  &  0.94060083 & 0.2997008   &  0.7378659 \\\\\n",
       "\t -0.760586   & -0.2233679  & -0.05255887 & -0.09128733 & -0.3318133  & -0.5060637  &  4.8132480  & -0.1055563  & -0.2021419  & -0.1181804  & ⋯           & -1.8680714  & -0.7103048  & 0.5941378   &  0.32144248 & 0.07065950  & -0.4377884  &  0.5437750  &  0.81736628 & 0.3115320   & -0.4330156 \\\\\n",
       "\t -0.760586   & -0.2233679  & -0.05255887 & -0.09128733 & -0.3318133  &  1.9746741  & -0.2076167  & -0.1055563  & -0.2021419  & -0.1181804  & ⋯           &  0.9536011  &  0.7384023  & 0.7125017   &  0.30382402 & 0.19684307  &  0.1146148  &  1.2836237  &  0.89954319 & 0.3689426   &  1.0183392 \\\\\n",
       "\t -0.760586   & -0.2233679  & -0.05255887 & -0.09128733 &  3.0116663  & -0.5060637  & -0.2076167  & -0.1055563  & -0.2021419  & -0.1181804  & ⋯           &  0.7258029  &  0.4984665  & 0.7243605   & -0.06527209 & 0.08633152  & -1.0317819  & -0.1501048  &  0.61156359 & 0.2483025   & -0.3799439 \\\\\n",
       "\\end{tabular}\n"
      ],
      "text/markdown": [
       "\n",
       "MSSubClass.20 | MSSubClass.30 | MSSubClass.40 | MSSubClass.45 | MSSubClass.50 | MSSubClass.60 | MSSubClass.70 | MSSubClass.75 | MSSubClass.80 | MSSubClass.85 | ⋯ | YearBuilt | YearRemodAdd | BsmtFinSF1 | BsmtUnfSF | TotalBsmtSF | FirstFlrSF | GrLivArea | GarageYrBlt | GarageArea | SalePrice | \n",
       "|---|---|---|---|---|---|\n",
       "| -0.760586   | -0.2233679  | -0.05255887 | -0.09128733 | -0.3318133  |  1.9746741  | -0.2076167  | -0.1055563  | -0.2021419  | -0.1181804  | ⋯           |  1.0509849  |  0.8820760  | 0.7205018   |  0.08917398 | 0.10842138  | -0.8026317  |  0.5315369  |  1.02265460 | 0.2771098   |  0.5639683  | \n",
       "|  1.313870   | -0.2233679  | -0.05255887 | -0.09128733 | -0.3318133  | -0.5060637  | -0.2076167  | -0.1055563  | -0.2021419  | -0.1181804  | ⋯           |  0.1692304  | -0.4188065  | 0.7552734   |  0.20492237 | 0.22641726  |  0.4214040  | -0.3785471  | -0.09204807 | 0.2390487   |  0.2168273  | \n",
       "| -0.760586   | -0.2233679  | -0.05255887 | -0.09128733 | -0.3318133  |  1.9746741  | -0.2076167  | -0.1055563  | -0.2021419  | -0.1181804  | ⋯           |  0.9860786  |  0.8342087  | 0.6806608   |  0.28181796 | 0.13033862  | -0.5752722  |  0.6618057  |  0.94060083 | 0.2997008   |  0.7378659  | \n",
       "| -0.760586   | -0.2233679  | -0.05255887 | -0.09128733 | -0.3318133  | -0.5060637  |  4.8132480  | -0.1055563  | -0.2021419  | -0.1181804  | ⋯           | -1.8680714  | -0.7103048  | 0.5941378   |  0.32144248 | 0.07065950  | -0.4377884  |  0.5437750  |  0.81736628 | 0.3115320   | -0.4330156  | \n",
       "| -0.760586   | -0.2233679  | -0.05255887 | -0.09128733 | -0.3318133  |  1.9746741  | -0.2076167  | -0.1055563  | -0.2021419  | -0.1181804  | ⋯           |  0.9536011  |  0.7384023  | 0.7125017   |  0.30382402 | 0.19684307  |  0.1146148  |  1.2836237  |  0.89954319 | 0.3689426   |  1.0183392  | \n",
       "| -0.760586   | -0.2233679  | -0.05255887 | -0.09128733 |  3.0116663  | -0.5060637  | -0.2076167  | -0.1055563  | -0.2021419  | -0.1181804  | ⋯           |  0.7258029  |  0.4984665  | 0.7243605   | -0.06527209 | 0.08633152  | -1.0317819  | -0.1501048  |  0.61156359 | 0.2483025   | -0.3799439  | \n",
       "\n",
       "\n"
      ],
      "text/plain": [
       "  MSSubClass.20 MSSubClass.30 MSSubClass.40 MSSubClass.45 MSSubClass.50\n",
       "1 -0.760586     -0.2233679    -0.05255887   -0.09128733   -0.3318133   \n",
       "2  1.313870     -0.2233679    -0.05255887   -0.09128733   -0.3318133   \n",
       "3 -0.760586     -0.2233679    -0.05255887   -0.09128733   -0.3318133   \n",
       "4 -0.760586     -0.2233679    -0.05255887   -0.09128733   -0.3318133   \n",
       "5 -0.760586     -0.2233679    -0.05255887   -0.09128733   -0.3318133   \n",
       "6 -0.760586     -0.2233679    -0.05255887   -0.09128733    3.0116663   \n",
       "  MSSubClass.60 MSSubClass.70 MSSubClass.75 MSSubClass.80 MSSubClass.85 ⋯\n",
       "1  1.9746741    -0.2076167    -0.1055563    -0.2021419    -0.1181804    ⋯\n",
       "2 -0.5060637    -0.2076167    -0.1055563    -0.2021419    -0.1181804    ⋯\n",
       "3  1.9746741    -0.2076167    -0.1055563    -0.2021419    -0.1181804    ⋯\n",
       "4 -0.5060637     4.8132480    -0.1055563    -0.2021419    -0.1181804    ⋯\n",
       "5  1.9746741    -0.2076167    -0.1055563    -0.2021419    -0.1181804    ⋯\n",
       "6 -0.5060637    -0.2076167    -0.1055563    -0.2021419    -0.1181804    ⋯\n",
       "  YearBuilt  YearRemodAdd BsmtFinSF1 BsmtUnfSF   TotalBsmtSF FirstFlrSF\n",
       "1  1.0509849  0.8820760   0.7205018   0.08917398 0.10842138  -0.8026317\n",
       "2  0.1692304 -0.4188065   0.7552734   0.20492237 0.22641726   0.4214040\n",
       "3  0.9860786  0.8342087   0.6806608   0.28181796 0.13033862  -0.5752722\n",
       "4 -1.8680714 -0.7103048   0.5941378   0.32144248 0.07065950  -0.4377884\n",
       "5  0.9536011  0.7384023   0.7125017   0.30382402 0.19684307   0.1146148\n",
       "6  0.7258029  0.4984665   0.7243605  -0.06527209 0.08633152  -1.0317819\n",
       "  GrLivArea  GarageYrBlt GarageArea SalePrice \n",
       "1  0.5315369  1.02265460 0.2771098   0.5639683\n",
       "2 -0.3785471 -0.09204807 0.2390487   0.2168273\n",
       "3  0.6618057  0.94060083 0.2997008   0.7378659\n",
       "4  0.5437750  0.81736628 0.3115320  -0.4330156\n",
       "5  1.2836237  0.89954319 0.3689426   1.0183392\n",
       "6 -0.1501048  0.61156359 0.2483025  -0.3799439"
      ]
     },
     "metadata": {},
     "output_type": "display_data"
    },
    {
     "data": {
      "text/html": [
       "<table>\n",
       "<tbody>\n",
       "\t<tr><td>1451</td><td>403 </td></tr>\n",
       "</tbody>\n",
       "</table>\n"
      ],
      "text/latex": [
       "\\begin{tabular}{ll}\n",
       "\t 1451 & 403 \\\\\n",
       "\\end{tabular}\n"
      ],
      "text/markdown": [
       "\n",
       "| 1451 | 403  | \n",
       "\n",
       "\n"
      ],
      "text/plain": [
       "     [,1] [,2]\n",
       "[1,] 1451 403 "
      ]
     },
     "metadata": {},
     "output_type": "display_data"
    }
   ],
   "source": [
    "final_ames_df$X <- NULL\n",
    "head(final_ames_df)\n",
    "t(dim(final_ames_df))"
   ]
  },
  {
   "cell_type": "code",
   "execution_count": 3,
   "metadata": {},
   "outputs": [
    {
     "name": "stderr",
     "output_type": "stream",
     "text": [
      "Updating HTML index of packages in '.Library'\n",
      "Making 'packages.html' ... done\n",
      "Loading required package: lattice\n"
     ]
    }
   ],
   "source": [
    "install.packages('mlbench')\n",
    "library(mlbench)\n",
    "library(caret)"
   ]
  },
  {
   "cell_type": "code",
   "execution_count": null,
   "metadata": {},
   "outputs": [],
   "source": [
    "set.seed(42)"
   ]
  },
  {
   "cell_type": "code",
   "execution_count": null,
   "metadata": {},
   "outputs": [],
   "source": [
    "final_ames_df$SalePrice <- sale_price"
   ]
  },
  {
   "cell_type": "code",
   "execution_count": null,
   "metadata": {},
   "outputs": [],
   "source": [
    "train_index <- (createDataPartition(final_ames_df$SalePrice, p =0.6, list=FALSE, times=1))\n"
   ]
  },
  {
   "cell_type": "code",
   "execution_count": null,
   "metadata": {},
   "outputs": [],
   "source": [
    "train = final_ames_df[train_index,]\n",
    "validate = final_ames_df[-train_index,]\n",
    "write.csv(train, \"train.csv\")\n",
    "write.csv(validate, \"validate.csv\")"
   ]
  },
  {
   "cell_type": "code",
   "execution_count": null,
   "metadata": {},
   "outputs": [],
   "source": [
    "plot(density(train$SalePrice))\n",
    "plot(density(validate$SalePrice))"
   ]
  },
  {
   "cell_type": "markdown",
   "metadata": {},
   "source": [
    "### Variable Ranking by Recursive Feature Elimination"
   ]
  },
  {
   "cell_type": "code",
   "execution_count": null,
   "metadata": {},
   "outputs": [],
   "source": [
    "install.packages('Hmisc')\n",
    "install.packages('randomForest')"
   ]
  },
  {
   "cell_type": "code",
   "execution_count": null,
   "metadata": {},
   "outputs": [],
   "source": [
    "library(Hmisc)\n",
    "library(randomForest)"
   ]
  },
  {
   "cell_type": "code",
   "execution_count": null,
   "metadata": {},
   "outputs": [],
   "source": [
    "normalization <- preProcess(ames)\n",
    "subsets <- c(1:5, 10, 15, 20, 25)"
   ]
  },
  {
   "cell_type": "code",
   "execution_count": null,
   "metadata": {},
   "outputs": [],
   "source": [
    "ctrl <- rfeControl(functions = lmFuncs,\n",
    "                   method = \"repeatedcv\",\n",
    "                   repeats = 10,\n",
    "                   verbose = FALSE)"
   ]
  },
  {
   "cell_type": "code",
   "execution_count": null,
   "metadata": {},
   "outputs": [],
   "source": [
    "options(warn=-1)"
   ]
  },
  {
   "cell_type": "code",
   "execution_count": null,
   "metadata": {},
   "outputs": [],
   "source": [
    "lmProfile <- rfe(train[,1:401], train$SalePrice,\n",
    "                 sizes = subsets,\n",
    "                 rfeControl = ctrl)"
   ]
  },
  {
   "cell_type": "code",
   "execution_count": null,
   "metadata": {},
   "outputs": [],
   "source": [
    "options(warn=0)\n",
    "lmProfile"
   ]
  },
  {
   "cell_type": "markdown",
   "metadata": {},
   "source": [
    "### Variable Ranking by Linear Modeling"
   ]
  },
  {
   "cell_type": "code",
   "execution_count": null,
   "metadata": {},
   "outputs": [],
   "source": [
    "library(broom)"
   ]
  },
  {
   "cell_type": "code",
   "execution_count": null,
   "metadata": {},
   "outputs": [],
   "source": [
    "lmRating <- lm(train$SalePrice ~ ., data=train)\n",
    "lmCoefs <- tidy(lmRating)\n",
    "head(lmCoefs)"
   ]
  },
  {
   "cell_type": "code",
   "execution_count": null,
   "metadata": {},
   "outputs": [],
   "source": [
    "lmCoefs$abs_est <- abs(lmCoefs$estimate)\n",
    "lmCoefsAbs <- lmCoefs[-c(2:5)]\n",
    "lmCoefsAbs <- lmCoefsAbs[-1,]\n",
    "head(lmCoefsAbs[order(-lmCoefsAbs$abs_est), ], 10)"
   ]
  },
  {
   "cell_type": "code",
   "execution_count": null,
   "metadata": {},
   "outputs": [],
   "source": [
    "top_ten_df <- data.frame(train$BsmtQual.TA,\n",
    "                         train$BsmtQual.Gd,\n",
    "                         train$BsmtQual.Ex,\n",
    "                         train$TotalBsmtSF,\n",
    "                         train$BsmtFinSF1,\n",
    "                         train$BsmtQual.Fa,\n",
    "                         train$BsmtFinType1.GLQ,\n",
    "                         train$GarageType.Attchd,\n",
    "                         train$GarageType.Detchd,\n",
    "                         train$BsmtFinType1.ALQ,\n",
    "                         train$SalePrice)"
   ]
  },
  {
   "cell_type": "code",
   "execution_count": null,
   "metadata": {},
   "outputs": [],
   "source": [
    "write.csv(top_ten_df, \"top_ten_df.csv\")"
   ]
  },
  {
   "cell_type": "code",
   "execution_count": null,
   "metadata": {},
   "outputs": [],
   "source": []
  }
 ],
 "metadata": {
  "kernelspec": {
   "display_name": "R",
   "language": "R",
   "name": "ir"
  },
  "language_info": {
   "codemirror_mode": "r",
   "file_extension": ".r",
   "mimetype": "text/x-r-source",
   "name": "R",
   "pygments_lexer": "r",
   "version": "3.4.1"
  }
 },
 "nbformat": 4,
 "nbformat_minor": 2
}
