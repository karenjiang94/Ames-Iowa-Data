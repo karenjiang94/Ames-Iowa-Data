{
 "cells": [
  {
   "cell_type": "code",
   "execution_count": 1,
   "metadata": {},
   "outputs": [],
   "source": [
    "import pandas as pd\n",
    "import numpy as np"
   ]
  },
  {
   "cell_type": "code",
   "execution_count": 2,
   "metadata": {},
   "outputs": [],
   "source": [
    "from sklearn.linear_model import Ridge\n",
    "from sklearn.linear_model import Lasso\n",
    "from sklearn.neighbors import KNeighborsRegressor\n",
    "from sklearn.tree import DecisionTreeRegressor\n",
    "from sklearn.svm import SVR"
   ]
  },
  {
   "cell_type": "code",
   "execution_count": 3,
   "metadata": {},
   "outputs": [],
   "source": [
    "from sklearn.model_selection import train_test_split"
   ]
  },
  {
   "cell_type": "code",
   "execution_count": 4,
   "metadata": {},
   "outputs": [],
   "source": [
    "from tqdm import tqdm\n",
    "from time import time"
   ]
  },
  {
   "cell_type": "code",
   "execution_count": 5,
   "metadata": {},
   "outputs": [
    {
     "name": "stdout",
     "output_type": "stream",
     "text": [
      "/home/jovyan/Ames-Iowa-Data\n"
     ]
    }
   ],
   "source": [
    "cd .."
   ]
  },
  {
   "cell_type": "code",
   "execution_count": 6,
   "metadata": {},
   "outputs": [],
   "source": [
    "df = pd.read_csv('data/final_ames_df.csv')"
   ]
  },
  {
   "cell_type": "code",
   "execution_count": 7,
   "metadata": {},
   "outputs": [],
   "source": [
    "final_ames_df = pd.DataFrame(df)"
   ]
  },
  {
   "cell_type": "code",
   "execution_count": 8,
   "metadata": {},
   "outputs": [],
   "source": [
    "final_ames_df = final_ames_df.drop(['Unnamed: 0'], axis = 1)\n",
    "target = final_ames_df['SalePrice']\n",
    "features = final_ames_df.drop(['SalePrice'], axis = 1)"
   ]
  },
  {
   "cell_type": "code",
   "execution_count": 9,
   "metadata": {},
   "outputs": [],
   "source": [
    "def time_function_call(function_call):\n",
    "    start = time()\n",
    "    result = function_call\n",
    "    execution_time = time() - start\n",
    "    return result, execution_time\n",
    "\n",
    "def run_model(model, model_name, features, target):\n",
    "    X_train, X_test, y_train, y_test = train_test_split(features, target, random_state=42)\n",
    "    \n",
    "    _, fit_time = time_function_call(model.fit(X_train, y_train))\n",
    "    \n",
    "    _, train_pred_time = time_function_call(\n",
    "        model.predict(X_train))\n",
    "    \n",
    "    _, test_pred_time = time_function_call(\n",
    "        model.predict(X_test)) \n",
    "  \n",
    "    return {\n",
    "        'model' : model,\n",
    "        'model_name' : model_name,\n",
    "        'train_score' : model.score(X_train, y_train),\n",
    "        'test_score' : model.score(X_test, y_test),\n",
    "        'fit_time' : fit_time,\n",
    "        'train_pred_time': train_pred_time,\n",
    "        'test_pred_time': test_pred_time\n",
    "    }\n",
    "\n",
    "model_scores = []"
   ]
  },
  {
   "cell_type": "markdown",
   "metadata": {},
   "source": [
    "### Ridge Regression\n",
    "\n",
    "Ridge performs a linear regression with an L1-regularization. \n",
    "The loss function is described using the Least Absolute Error (LAE).\n",
    "\n",
    "$$ S = \\sum_{i=1}^n |y_i - f(x_i)|$$\n"
   ]
  },
  {
   "cell_type": "code",
   "execution_count": 10,
   "metadata": {},
   "outputs": [],
   "source": [
    "model_scores.append(run_model(Ridge(), 'ridge', features, target))"
   ]
  },
  {
   "cell_type": "markdown",
   "metadata": {},
   "source": [
    "### Lasso Regression\n",
    "\n",
    "Lasso performs a linear regression with an L2-regularization. The loss function is described using the Least Squares Error (LSE).\n",
    "When running Lasso, the alpha is set at 0.1. \n",
    "$$ S = \\sum_{i=1}^n (y_i - f(x_i))^2$$"
   ]
  },
  {
   "cell_type": "code",
   "execution_count": 11,
   "metadata": {},
   "outputs": [],
   "source": [
    "model_scores.append(run_model(Lasso(alpha = 0.1), 'lasso', features, target))"
   ]
  },
  {
   "cell_type": "markdown",
   "metadata": {},
   "source": [
    "### K Nearest Neighbors Regressor\n",
    "\n",
    "The target is predicted by local interpolation of the targets associated of the nearest neighbors in the training set. The default number of neighbors = 5."
   ]
  },
  {
   "cell_type": "code",
   "execution_count": 12,
   "metadata": {},
   "outputs": [],
   "source": [
    "model_scores.append(run_model(KNeighborsRegressor(), 'knr', features, target))"
   ]
  },
  {
   "cell_type": "markdown",
   "metadata": {},
   "source": [
    "### Decision Tree Regressor\n",
    "\n",
    "The goal is to create a model that predicts the value of a target variable by learning simple decision rules inferred from the data features."
   ]
  },
  {
   "cell_type": "code",
   "execution_count": 13,
   "metadata": {},
   "outputs": [],
   "source": [
    "model_scores.append(run_model(DecisionTreeRegressor(), 'dtr', features, target))"
   ]
  },
  {
   "cell_type": "markdown",
   "metadata": {},
   "source": [
    "### Support Vector Machine Regressor\n",
    "\n",
    "The default kernel used in SVR is `rbf` or Radial Basis Function kernel.\n",
    "The default penalty is set at `C=0.1`."
   ]
  },
  {
   "cell_type": "code",
   "execution_count": 14,
   "metadata": {},
   "outputs": [],
   "source": [
    "model_scores.append(run_model(SVR(), 'svr', features, target))"
   ]
  },
  {
   "cell_type": "markdown",
   "metadata": {},
   "source": [
    "### Model Comparisons"
   ]
  },
  {
   "cell_type": "code",
   "execution_count": 15,
   "metadata": {},
   "outputs": [
    {
     "data": {
      "text/html": [
       "<div>\n",
       "<style scoped>\n",
       "    .dataframe tbody tr th:only-of-type {\n",
       "        vertical-align: middle;\n",
       "    }\n",
       "\n",
       "    .dataframe tbody tr th {\n",
       "        vertical-align: top;\n",
       "    }\n",
       "\n",
       "    .dataframe thead th {\n",
       "        text-align: right;\n",
       "    }\n",
       "</style>\n",
       "<table border=\"1\" class=\"dataframe\">\n",
       "  <thead>\n",
       "    <tr style=\"text-align: right;\">\n",
       "      <th></th>\n",
       "      <th>model_name</th>\n",
       "      <th>model</th>\n",
       "      <th>train_score</th>\n",
       "      <th>test_score</th>\n",
       "      <th>fit_time</th>\n",
       "      <th>train_pred_time</th>\n",
       "      <th>test_pred_time</th>\n",
       "    </tr>\n",
       "  </thead>\n",
       "  <tbody>\n",
       "    <tr>\n",
       "      <th>0</th>\n",
       "      <td>ridge</td>\n",
       "      <td>Ridge(alpha=1.0, copy_X=True, fit_intercept=Tr...</td>\n",
       "      <td>0.959360</td>\n",
       "      <td>0.868772</td>\n",
       "      <td>1.430511e-06</td>\n",
       "      <td>7.152557e-07</td>\n",
       "      <td>1.430511e-06</td>\n",
       "    </tr>\n",
       "    <tr>\n",
       "      <th>1</th>\n",
       "      <td>lasso</td>\n",
       "      <td>Lasso(alpha=0.1, copy_X=True, fit_intercept=Tr...</td>\n",
       "      <td>0.816814</td>\n",
       "      <td>0.820449</td>\n",
       "      <td>9.536743e-07</td>\n",
       "      <td>7.152557e-07</td>\n",
       "      <td>7.152557e-07</td>\n",
       "    </tr>\n",
       "    <tr>\n",
       "      <th>2</th>\n",
       "      <td>knr</td>\n",
       "      <td>KNeighborsRegressor(algorithm='auto', leaf_siz...</td>\n",
       "      <td>0.841907</td>\n",
       "      <td>0.742240</td>\n",
       "      <td>1.192093e-06</td>\n",
       "      <td>7.152557e-07</td>\n",
       "      <td>9.536743e-07</td>\n",
       "    </tr>\n",
       "    <tr>\n",
       "      <th>3</th>\n",
       "      <td>dtr</td>\n",
       "      <td>DecisionTreeRegressor(criterion='mse', max_dep...</td>\n",
       "      <td>1.000000</td>\n",
       "      <td>0.666819</td>\n",
       "      <td>9.536743e-07</td>\n",
       "      <td>1.192093e-06</td>\n",
       "      <td>9.536743e-07</td>\n",
       "    </tr>\n",
       "    <tr>\n",
       "      <th>4</th>\n",
       "      <td>svr</td>\n",
       "      <td>SVR(C=1.0, cache_size=200, coef0=0.0, degree=3...</td>\n",
       "      <td>0.934353</td>\n",
       "      <td>0.731889</td>\n",
       "      <td>1.192093e-06</td>\n",
       "      <td>1.430511e-06</td>\n",
       "      <td>1.430511e-06</td>\n",
       "    </tr>\n",
       "  </tbody>\n",
       "</table>\n",
       "</div>"
      ],
      "text/plain": [
       "  model_name                                              model  train_score  \\\n",
       "0      ridge  Ridge(alpha=1.0, copy_X=True, fit_intercept=Tr...     0.959360   \n",
       "1      lasso  Lasso(alpha=0.1, copy_X=True, fit_intercept=Tr...     0.816814   \n",
       "2        knr  KNeighborsRegressor(algorithm='auto', leaf_siz...     0.841907   \n",
       "3        dtr  DecisionTreeRegressor(criterion='mse', max_dep...     1.000000   \n",
       "4        svr  SVR(C=1.0, cache_size=200, coef0=0.0, degree=3...     0.934353   \n",
       "\n",
       "   test_score      fit_time  train_pred_time  test_pred_time  \n",
       "0    0.868772  1.430511e-06     7.152557e-07    1.430511e-06  \n",
       "1    0.820449  9.536743e-07     7.152557e-07    7.152557e-07  \n",
       "2    0.742240  1.192093e-06     7.152557e-07    9.536743e-07  \n",
       "3    0.666819  9.536743e-07     1.192093e-06    9.536743e-07  \n",
       "4    0.731889  1.192093e-06     1.430511e-06    1.430511e-06  "
      ]
     },
     "execution_count": 15,
     "metadata": {},
     "output_type": "execute_result"
    }
   ],
   "source": [
    "model_scores = pd.DataFrame(model_scores)\n",
    "cols = model_scores.columns.tolist()\n",
    "cols = ['model_name','model', 'train_score', 'test_score', 'fit_time', 'train_pred_time', 'test_pred_time']\n",
    "model_scores[cols]"
   ]
  },
  {
   "cell_type": "markdown",
   "metadata": {},
   "source": [
    "Ridge and Lasso models \"out of the box\" show the highest $R^2$ test_scores with values of `0.868772` and `0.820449`.\n",
    "\n",
    "Decision Tree Regressor had a train_score of `1.000` and the lowest of the test_scores `0.666819` which indicates that the model is overfit.\n",
    "\n",
    "KNeighbors Regressor, SVM Regressor, and Decision Tree Regressor are all non-linear models, and all had less optimal performances than Ridge and Lasso, which are linear models."
   ]
  },
  {
   "cell_type": "code",
   "execution_count": null,
   "metadata": {},
   "outputs": [],
   "source": []
  }
 ],
 "metadata": {
  "kernelspec": {
   "display_name": "Python 3",
   "language": "python",
   "name": "python3"
  },
  "language_info": {
   "codemirror_mode": {
    "name": "ipython",
    "version": 3
   },
   "file_extension": ".py",
   "mimetype": "text/x-python",
   "name": "python",
   "nbconvert_exporter": "python",
   "pygments_lexer": "ipython3",
   "version": "3.6.4"
  }
 },
 "nbformat": 4,
 "nbformat_minor": 2
}
