{
 "cells": [
  {
   "cell_type": "markdown",
   "metadata": {},
   "source": [
    "## 01- Exploratory Data Analysis"
   ]
  },
  {
   "cell_type": "code",
   "execution_count": 2,
   "metadata": {},
   "outputs": [],
   "source": [
    "source('../src/load_data.r')\n",
    "source('../src/multiplot.r')"
   ]
  },
  {
   "cell_type": "markdown",
   "metadata": {},
   "source": [
    "Housing DataFrames:\n",
    "`housing_df` contains target sale price\n",
    "`numeric_log_sc_df` consists only of numeric features\n",
    "`categoric_df` consists only of categorical features"
   ]
  },
  {
   "cell_type": "code",
   "execution_count": 3,
   "metadata": {},
   "outputs": [
    {
     "data": {
      "text/html": [
       "<table>\n",
       "<tbody>\n",
       "\t<tr><td>1451</td><td>80  </td></tr>\n",
       "</tbody>\n",
       "</table>\n"
      ],
      "text/latex": [
       "\\begin{tabular}{ll}\n",
       "\t 1451 & 80  \\\\\n",
       "\\end{tabular}\n"
      ],
      "text/markdown": [
       "\n",
       "| 1451 | 80   | \n",
       "\n",
       "\n"
      ],
      "text/plain": [
       "     [,1] [,2]\n",
       "[1,] 1451 80  "
      ]
     },
     "metadata": {},
     "output_type": "display_data"
    },
    {
     "data": {
      "text/html": [
       "<table>\n",
       "<thead><tr><th scope=col>MSSubClass</th><th scope=col>MSZoning</th><th scope=col>LotFrontage</th><th scope=col>LotArea</th><th scope=col>LotShape</th><th scope=col>LandContour</th><th scope=col>Utilities</th><th scope=col>LotConfig</th><th scope=col>LandSlope</th><th scope=col>Neighborhood</th><th scope=col>⋯</th><th scope=col>PoolArea</th><th scope=col>PoolQC</th><th scope=col>Fence</th><th scope=col>MiscFeature</th><th scope=col>MiscVal</th><th scope=col>MoSold</th><th scope=col>YrSold</th><th scope=col>SaleType</th><th scope=col>SaleCondition</th><th scope=col>SalePrice</th></tr></thead>\n",
       "<tbody>\n",
       "\t<tr><td>60     </td><td>RL     </td><td>65     </td><td> 8450  </td><td>Reg    </td><td>Lvl    </td><td>AllPub </td><td>Inside </td><td>Gtl    </td><td>CollgCr</td><td>⋯      </td><td>0      </td><td>without</td><td>without</td><td>without</td><td>  0    </td><td>2      </td><td>2008   </td><td>WD     </td><td>Normal </td><td>208500 </td></tr>\n",
       "\t<tr><td>20     </td><td>RL     </td><td>80     </td><td> 9600  </td><td>Reg    </td><td>Lvl    </td><td>AllPub </td><td>FR2    </td><td>Gtl    </td><td>Veenker</td><td>⋯      </td><td>0      </td><td>without</td><td>without</td><td>without</td><td>  0    </td><td>5      </td><td>2007   </td><td>WD     </td><td>Normal </td><td>181500 </td></tr>\n",
       "\t<tr><td>60     </td><td>RL     </td><td>68     </td><td>11250  </td><td>IR1    </td><td>Lvl    </td><td>AllPub </td><td>Inside </td><td>Gtl    </td><td>CollgCr</td><td>⋯      </td><td>0      </td><td>without</td><td>without</td><td>without</td><td>  0    </td><td>9      </td><td>2008   </td><td>WD     </td><td>Normal </td><td>223500 </td></tr>\n",
       "\t<tr><td>70     </td><td>RL     </td><td>60     </td><td> 9550  </td><td>IR1    </td><td>Lvl    </td><td>AllPub </td><td>Corner </td><td>Gtl    </td><td>Crawfor</td><td>⋯      </td><td>0      </td><td>without</td><td>without</td><td>without</td><td>  0    </td><td>2      </td><td>2006   </td><td>WD     </td><td>Abnorml</td><td>140000 </td></tr>\n",
       "\t<tr><td>60     </td><td>RL     </td><td>84     </td><td>14260  </td><td>IR1    </td><td>Lvl    </td><td>AllPub </td><td>FR2    </td><td>Gtl    </td><td>NoRidge</td><td>⋯      </td><td>0      </td><td>without</td><td>without</td><td>without</td><td>  0    </td><td>12     </td><td>2008   </td><td>WD     </td><td>Normal </td><td>250000 </td></tr>\n",
       "\t<tr><td>50     </td><td>RL     </td><td>85     </td><td>14115  </td><td>IR1    </td><td>Lvl    </td><td>AllPub </td><td>Inside </td><td>Gtl    </td><td>Mitchel</td><td>⋯      </td><td>0      </td><td>without</td><td>MnPrv  </td><td>Shed   </td><td>700    </td><td>10     </td><td>2009   </td><td>WD     </td><td>Normal </td><td>143000 </td></tr>\n",
       "</tbody>\n",
       "</table>\n"
      ],
      "text/latex": [
       "\\begin{tabular}{r|llllllllllllllllllllllllllllllllllllllllllllllllllllllllllllllllllllllllllllllll}\n",
       " MSSubClass & MSZoning & LotFrontage & LotArea & LotShape & LandContour & Utilities & LotConfig & LandSlope & Neighborhood & ⋯ & PoolArea & PoolQC & Fence & MiscFeature & MiscVal & MoSold & YrSold & SaleType & SaleCondition & SalePrice\\\\\n",
       "\\hline\n",
       "\t 60      & RL      & 65      &  8450   & Reg     & Lvl     & AllPub  & Inside  & Gtl     & CollgCr & ⋯       & 0       & without & without & without &   0     & 2       & 2008    & WD      & Normal  & 208500 \\\\\n",
       "\t 20      & RL      & 80      &  9600   & Reg     & Lvl     & AllPub  & FR2     & Gtl     & Veenker & ⋯       & 0       & without & without & without &   0     & 5       & 2007    & WD      & Normal  & 181500 \\\\\n",
       "\t 60      & RL      & 68      & 11250   & IR1     & Lvl     & AllPub  & Inside  & Gtl     & CollgCr & ⋯       & 0       & without & without & without &   0     & 9       & 2008    & WD      & Normal  & 223500 \\\\\n",
       "\t 70      & RL      & 60      &  9550   & IR1     & Lvl     & AllPub  & Corner  & Gtl     & Crawfor & ⋯       & 0       & without & without & without &   0     & 2       & 2006    & WD      & Abnorml & 140000 \\\\\n",
       "\t 60      & RL      & 84      & 14260   & IR1     & Lvl     & AllPub  & FR2     & Gtl     & NoRidge & ⋯       & 0       & without & without & without &   0     & 12      & 2008    & WD      & Normal  & 250000 \\\\\n",
       "\t 50      & RL      & 85      & 14115   & IR1     & Lvl     & AllPub  & Inside  & Gtl     & Mitchel & ⋯       & 0       & without & MnPrv   & Shed    & 700     & 10      & 2009    & WD      & Normal  & 143000 \\\\\n",
       "\\end{tabular}\n"
      ],
      "text/markdown": [
       "\n",
       "MSSubClass | MSZoning | LotFrontage | LotArea | LotShape | LandContour | Utilities | LotConfig | LandSlope | Neighborhood | ⋯ | PoolArea | PoolQC | Fence | MiscFeature | MiscVal | MoSold | YrSold | SaleType | SaleCondition | SalePrice | \n",
       "|---|---|---|---|---|---|\n",
       "| 60      | RL      | 65      |  8450   | Reg     | Lvl     | AllPub  | Inside  | Gtl     | CollgCr | ⋯       | 0       | without | without | without |   0     | 2       | 2008    | WD      | Normal  | 208500  | \n",
       "| 20      | RL      | 80      |  9600   | Reg     | Lvl     | AllPub  | FR2     | Gtl     | Veenker | ⋯       | 0       | without | without | without |   0     | 5       | 2007    | WD      | Normal  | 181500  | \n",
       "| 60      | RL      | 68      | 11250   | IR1     | Lvl     | AllPub  | Inside  | Gtl     | CollgCr | ⋯       | 0       | without | without | without |   0     | 9       | 2008    | WD      | Normal  | 223500  | \n",
       "| 70      | RL      | 60      |  9550   | IR1     | Lvl     | AllPub  | Corner  | Gtl     | Crawfor | ⋯       | 0       | without | without | without |   0     | 2       | 2006    | WD      | Abnorml | 140000  | \n",
       "| 60      | RL      | 84      | 14260   | IR1     | Lvl     | AllPub  | FR2     | Gtl     | NoRidge | ⋯       | 0       | without | without | without |   0     | 12      | 2008    | WD      | Normal  | 250000  | \n",
       "| 50      | RL      | 85      | 14115   | IR1     | Lvl     | AllPub  | Inside  | Gtl     | Mitchel | ⋯       | 0       | without | MnPrv   | Shed    | 700     | 10      | 2009    | WD      | Normal  | 143000  | \n",
       "\n",
       "\n"
      ],
      "text/plain": [
       "  MSSubClass MSZoning LotFrontage LotArea LotShape LandContour Utilities\n",
       "1 60         RL       65           8450   Reg      Lvl         AllPub   \n",
       "2 20         RL       80           9600   Reg      Lvl         AllPub   \n",
       "3 60         RL       68          11250   IR1      Lvl         AllPub   \n",
       "4 70         RL       60           9550   IR1      Lvl         AllPub   \n",
       "5 60         RL       84          14260   IR1      Lvl         AllPub   \n",
       "6 50         RL       85          14115   IR1      Lvl         AllPub   \n",
       "  LotConfig LandSlope Neighborhood ⋯ PoolArea PoolQC  Fence   MiscFeature\n",
       "1 Inside    Gtl       CollgCr      ⋯ 0        without without without    \n",
       "2 FR2       Gtl       Veenker      ⋯ 0        without without without    \n",
       "3 Inside    Gtl       CollgCr      ⋯ 0        without without without    \n",
       "4 Corner    Gtl       Crawfor      ⋯ 0        without without without    \n",
       "5 FR2       Gtl       NoRidge      ⋯ 0        without without without    \n",
       "6 Inside    Gtl       Mitchel      ⋯ 0        without MnPrv   Shed       \n",
       "  MiscVal MoSold YrSold SaleType SaleCondition SalePrice\n",
       "1   0     2      2008   WD       Normal        208500   \n",
       "2   0     5      2007   WD       Normal        181500   \n",
       "3   0     9      2008   WD       Normal        223500   \n",
       "4   0     2      2006   WD       Abnorml       140000   \n",
       "5   0     12     2008   WD       Normal        250000   \n",
       "6 700     10     2009   WD       Normal        143000   "
      ]
     },
     "metadata": {},
     "output_type": "display_data"
    }
   ],
   "source": [
    "t(dim(housing_df))\n",
    "head(housing_df)"
   ]
  },
  {
   "cell_type": "code",
   "execution_count": 4,
   "metadata": {},
   "outputs": [
    {
     "data": {
      "text/html": [
       "<table>\n",
       "<tbody>\n",
       "\t<tr><td>1451</td><td>23  </td></tr>\n",
       "</tbody>\n",
       "</table>\n"
      ],
      "text/latex": [
       "\\begin{tabular}{ll}\n",
       "\t 1451 & 23  \\\\\n",
       "\\end{tabular}\n"
      ],
      "text/markdown": [
       "\n",
       "| 1451 | 23   | \n",
       "\n",
       "\n"
      ],
      "text/plain": [
       "     [,1] [,2]\n",
       "[1,] 1451 23  "
      ]
     },
     "metadata": {},
     "output_type": "display_data"
    },
    {
     "data": {
      "text/html": [
       "<table>\n",
       "<tbody>\n",
       "\t<tr><td>1451</td><td>23  </td></tr>\n",
       "</tbody>\n",
       "</table>\n"
      ],
      "text/latex": [
       "\\begin{tabular}{ll}\n",
       "\t 1451 & 23  \\\\\n",
       "\\end{tabular}\n"
      ],
      "text/markdown": [
       "\n",
       "| 1451 | 23   | \n",
       "\n",
       "\n"
      ],
      "text/plain": [
       "     [,1] [,2]\n",
       "[1,] 1451 23  "
      ]
     },
     "metadata": {},
     "output_type": "display_data"
    },
    {
     "data": {
      "text/html": [
       "<table>\n",
       "<tbody>\n",
       "\t<tr><td>1451</td><td>57  </td></tr>\n",
       "</tbody>\n",
       "</table>\n"
      ],
      "text/latex": [
       "\\begin{tabular}{ll}\n",
       "\t 1451 & 57  \\\\\n",
       "\\end{tabular}\n"
      ],
      "text/markdown": [
       "\n",
       "| 1451 | 57   | \n",
       "\n",
       "\n"
      ],
      "text/plain": [
       "     [,1] [,2]\n",
       "[1,] 1451 57  "
      ]
     },
     "metadata": {},
     "output_type": "display_data"
    }
   ],
   "source": [
    "t(dim(numeric_df))\n",
    "t(dim(numeric_log_sc_df))\n",
    "t(dim(categoric_df))"
   ]
  },
  {
   "cell_type": "markdown",
   "metadata": {},
   "source": [
    "### Contingency Tables\n",
    "\n",
    "#### Looking at Categoric Features"
   ]
  },
  {
   "cell_type": "code",
   "execution_count": 5,
   "metadata": {},
   "outputs": [
    {
     "data": {
      "text/html": [
       "<table>\n",
       "<tbody>\n",
       "\t<tr><td>MSSubClass   </td><td>MSZoning     </td><td>LotShape     </td><td>LandContour  </td><td>Utilities    </td><td>LotConfig    </td><td>LandSlope    </td><td>Neighborhood </td><td>Condition1   </td><td>Condition2   </td><td>⋯            </td><td>GarageQual   </td><td>GarageCond   </td><td>PavedDrive   </td><td>PoolQC       </td><td>Fence        </td><td>MiscFeature  </td><td>MoSold       </td><td>YrSold       </td><td>SaleType     </td><td>SaleCondition</td></tr>\n",
       "</tbody>\n",
       "</table>\n"
      ],
      "text/latex": [
       "\\begin{tabular}{lllllllllllllllllllllllllllllllllllllllllllllllllllllllll}\n",
       "\t MSSubClass    & MSZoning      & LotShape      & LandContour   & Utilities     & LotConfig     & LandSlope     & Neighborhood  & Condition1    & Condition2    & ⋯             & GarageQual    & GarageCond    & PavedDrive    & PoolQC        & Fence         & MiscFeature   & MoSold        & YrSold        & SaleType      & SaleCondition\\\\\n",
       "\\end{tabular}\n"
      ],
      "text/markdown": [
       "\n",
       "| MSSubClass    | MSZoning      | LotShape      | LandContour   | Utilities     | LotConfig     | LandSlope     | Neighborhood  | Condition1    | Condition2    | ⋯             | GarageQual    | GarageCond    | PavedDrive    | PoolQC        | Fence         | MiscFeature   | MoSold        | YrSold        | SaleType      | SaleCondition | \n",
       "\n",
       "\n"
      ],
      "text/plain": [
       "     [,1]       [,2]     [,3]     [,4]        [,5]      [,6]      [,7]     \n",
       "[1,] MSSubClass MSZoning LotShape LandContour Utilities LotConfig LandSlope\n",
       "     [,8]         [,9]       [,10]      [,11] [,12]      [,13]      [,14]     \n",
       "[1,] Neighborhood Condition1 Condition2 ⋯     GarageQual GarageCond PavedDrive\n",
       "     [,15]  [,16] [,17]       [,18]  [,19]  [,20]    [,21]        \n",
       "[1,] PoolQC Fence MiscFeature MoSold YrSold SaleType SaleCondition"
      ]
     },
     "metadata": {},
     "output_type": "display_data"
    }
   ],
   "source": [
    "t(colnames(categoric_df))"
   ]
  },
  {
   "cell_type": "markdown",
   "metadata": {},
   "source": [
    "MSSubClass: Identifies the type of dwelling involved in the sale.\t\n",
    "\n",
    "        20\t1-STORY 1946 & NEWER ALL STYLES\n",
    "        30\t1-STORY 1945 & OLDER\n",
    "        40\t1-STORY W/FINISHED ATTIC ALL AGES\n",
    "        45\t1-1/2 STORY - UNFINISHED ALL AGES\n",
    "        50\t1-1/2 STORY FINISHED ALL AGES\n",
    "        60\t2-STORY 1946 & NEWER\n",
    "        70\t2-STORY 1945 & OLDER\n",
    "        75\t2-1/2 STORY ALL AGES\n",
    "        80\tSPLIT OR MULTI-LEVEL\n",
    "        85\tSPLIT FOYER\n",
    "        90\tDUPLEX - ALL STYLES AND AGES\n",
    "       120\t1-STORY PUD (Planned Unit Development) - 1946 & NEWER\n",
    "       150\t1-1/2 STORY PUD - ALL AGES\n",
    "       160\t2-STORY PUD - 1946 & NEWER\n",
    "       180\tPUD - MULTILEVEL - INCL SPLIT LEV/FOYER\n",
    "       190\t2 FAMILY CONVERSION - ALL STYLES AND AGES"
   ]
  },
  {
   "cell_type": "code",
   "execution_count": 6,
   "metadata": {},
   "outputs": [
    {
     "data": {
      "text/html": [
       "<table>\n",
       "<tbody>\n",
       "\t<tr><th scope=row>MSSubClass</th><td>20 </td><td>30 </td><td>40 </td><td>45 </td><td>50 </td><td>60 </td><td>70 </td><td>75 </td><td>80 </td><td>85 </td><td>90 </td><td>120</td><td>160</td><td>180</td><td>190</td></tr>\n",
       "\t<tr><th scope=row>Freq</th><td>532</td><td> 69</td><td>  4</td><td> 12</td><td>144</td><td>296</td><td> 60</td><td> 16</td><td> 57</td><td> 20</td><td> 52</td><td> 86</td><td> 63</td><td> 10</td><td> 30</td></tr>\n",
       "</tbody>\n",
       "</table>\n"
      ],
      "text/latex": [
       "\\begin{tabular}{r|lllllllllllllll}\n",
       "\tMSSubClass & 20  & 30  & 40  & 45  & 50  & 60  & 70  & 75  & 80  & 85  & 90  & 120 & 160 & 180 & 190\\\\\n",
       "\tFreq & 532 &  69 &   4 &  12 & 144 & 296 &  60 &  16 &  57 &  20 &  52 &  86 &  63 &  10 &  30\\\\\n",
       "\\end{tabular}\n"
      ],
      "text/markdown": [
       "\n",
       "| MSSubClass | 20  | 30  | 40  | 45  | 50  | 60  | 70  | 75  | 80  | 85  | 90  | 120 | 160 | 180 | 190 | \n",
       "| Freq | 532 |  69 |   4 |  12 | 144 | 296 |  60 |  16 |  57 |  20 |  52 |  86 |  63 |  10 |  30 | \n",
       "\n",
       "\n"
      ],
      "text/plain": [
       "           [,1] [,2] [,3] [,4] [,5] [,6] [,7] [,8] [,9] [,10] [,11] [,12] [,13]\n",
       "MSSubClass 20   30   40   45   50   60   70   75   80   85    90    120   160  \n",
       "Freq       532   69    4   12  144  296   60   16   57   20    52    86    63  \n",
       "           [,14] [,15]\n",
       "MSSubClass 180   190  \n",
       "Freq        10    30  "
      ]
     },
     "metadata": {},
     "output_type": "display_data"
    }
   ],
   "source": [
    "mssc <- t(as.data.frame(table(categoric_df$MSSubClass)))\n",
    "rownames(mssc) <- c('MSSubClass', 'Freq')\n",
    "mssc"
   ]
  },
  {
   "cell_type": "code",
   "execution_count": 7,
   "metadata": {},
   "outputs": [
    {
     "data": {
      "text/html": [
       "<table>\n",
       "<tbody>\n",
       "\t<tr><th scope=row>MSSubClass</th><td>20         </td><td>30         </td><td>40         </td><td>45         </td><td>50         </td><td>60         </td><td>70         </td><td>75         </td><td>80         </td><td>85         </td><td>90         </td><td>120        </td><td>160        </td><td>180        </td><td>190        </td></tr>\n",
       "\t<tr><th scope=row>Prop</th><td>0.366643694</td><td>0.047553411</td><td>0.002756720</td><td>0.008270159</td><td>0.099241902</td><td>0.203997243</td><td>0.041350793</td><td>0.011026878</td><td>0.039283253</td><td>0.013783598</td><td>0.035837354</td><td>0.059269469</td><td>0.043418332</td><td>0.006891799</td><td>0.020675396</td></tr>\n",
       "</tbody>\n",
       "</table>\n"
      ],
      "text/latex": [
       "\\begin{tabular}{r|lllllllllllllll}\n",
       "\tMSSubClass & 20          & 30          & 40          & 45          & 50          & 60          & 70          & 75          & 80          & 85          & 90          & 120         & 160         & 180         & 190        \\\\\n",
       "\tProp & 0.366643694 & 0.047553411 & 0.002756720 & 0.008270159 & 0.099241902 & 0.203997243 & 0.041350793 & 0.011026878 & 0.039283253 & 0.013783598 & 0.035837354 & 0.059269469 & 0.043418332 & 0.006891799 & 0.020675396\\\\\n",
       "\\end{tabular}\n"
      ],
      "text/markdown": [
       "\n",
       "| MSSubClass | 20          | 30          | 40          | 45          | 50          | 60          | 70          | 75          | 80          | 85          | 90          | 120         | 160         | 180         | 190         | \n",
       "| Prop | 0.366643694 | 0.047553411 | 0.002756720 | 0.008270159 | 0.099241902 | 0.203997243 | 0.041350793 | 0.011026878 | 0.039283253 | 0.013783598 | 0.035837354 | 0.059269469 | 0.043418332 | 0.006891799 | 0.020675396 | \n",
       "\n",
       "\n"
      ],
      "text/plain": [
       "           [,1]        [,2]        [,3]        [,4]        [,5]       \n",
       "MSSubClass 20          30          40          45          50         \n",
       "Prop       0.366643694 0.047553411 0.002756720 0.008270159 0.099241902\n",
       "           [,6]        [,7]        [,8]        [,9]        [,10]      \n",
       "MSSubClass 60          70          75          80          85         \n",
       "Prop       0.203997243 0.041350793 0.011026878 0.039283253 0.013783598\n",
       "           [,11]       [,12]       [,13]       [,14]       [,15]      \n",
       "MSSubClass 90          120         160         180         190        \n",
       "Prop       0.035837354 0.059269469 0.043418332 0.006891799 0.020675396"
      ]
     },
     "metadata": {},
     "output_type": "display_data"
    }
   ],
   "source": [
    "mssc_prop <- t(as.data.frame(prop.table(table(categoric_df$MSSubClass))))\n",
    "rownames(mssc_prop) <- c('MSSubClass', 'Prop')\n",
    "mssc_prop"
   ]
  },
  {
   "cell_type": "markdown",
   "metadata": {},
   "source": [
    "The first table above show the the frequency(or counts) of how many items in the dataset belonged in each category, using the corresponding code. \n",
    "For instance, we can see that there were 60 houses coded 70, which represents `2-STORY 1945 & older`.\n",
    "\n",
    "The second table above shows the proportion, that is the frequency divided by the total instances, of how many items belong in each category. Using the same example, only 4.1% of the homes were `2-STORY 1945 & older`."
   ]
  },
  {
   "cell_type": "markdown",
   "metadata": {},
   "source": [
    "#### Utilities: Type of utilities available\n",
    "\t\t\n",
    "       AllPub\tAll public Utilities (E,G,W,& S)\t\n",
    "       NoSewr\tElectricity, Gas, and Water (Septic Tank)\n",
    "       NoSeWa\tElectricity and Gas Only\n",
    "       ELO\tElectricity only"
   ]
  },
  {
   "cell_type": "code",
   "execution_count": 8,
   "metadata": {},
   "outputs": [
    {
     "data": {
      "text/plain": [
       "\n",
       "AllPub NoSeWa \n",
       "  1450      1 "
      ]
     },
     "metadata": {},
     "output_type": "display_data"
    },
    {
     "data": {
      "text/plain": [
       "\n",
       "      AllPub       NoSeWa \n",
       "0.9993108201 0.0006891799 "
      ]
     },
     "metadata": {},
     "output_type": "display_data"
    }
   ],
   "source": [
    "table(categoric_df$Utilities)\n",
    "prop.table(table(categoric_df$Utilities))"
   ]
  },
  {
   "cell_type": "markdown",
   "metadata": {},
   "source": [
    "Based on this contingency table, we can probably conclude that Utilities is not a useful feature since it only has 1 instance that does not have AllPub."
   ]
  },
  {
   "cell_type": "markdown",
   "metadata": {},
   "source": [
    "#### Neighborhood: Physical locations within Ames city limits\n",
    "\n",
    "       Blmngtn\tBloomington Heights\n",
    "       Blueste\tBluestem\n",
    "       BrDale\tBriardale\n",
    "       BrkSide\tBrookside\n",
    "       ClearCr\tClear Creek\n",
    "       CollgCr\tCollege Creek\n",
    "       Crawfor\tCrawford\n",
    "       Edwards\tEdwards\n",
    "       Gilbert\tGilbert\n",
    "       IDOTRR\tIowa DOT and Rail Road\n",
    "       MeadowV\tMeadow Village\n",
    "       Mitchel\tMitchell\n",
    "       Names\tNorth Ames\n",
    "       NoRidge\tNorthridge\n",
    "       NPkVill\tNorthpark Villa\n",
    "       NridgHt\tNorthridge Heights\n",
    "       NWAmes\tNorthwest Ames\n",
    "       OldTown\tOld Town\n",
    "       SWISU\tSouth & West of Iowa State University\n",
    "       Sawyer\tSawyer\n",
    "       SawyerW\tSawyer West\n",
    "       Somerst\tSomerset\n",
    "       StoneBr\tStone Brook\n",
    "       Timber\tTimberland\n",
    "       Veenker\tVeenker\n",
    "\t\t\t"
   ]
  },
  {
   "cell_type": "code",
   "execution_count": 9,
   "metadata": {},
   "outputs": [
    {
     "data": {
      "text/html": [
       "<table>\n",
       "<tbody>\n",
       "\t<tr><th scope=row>Neighborhood</th><td>Blmngtn</td><td>Blueste</td><td>BrDale </td><td>BrkSide</td><td>ClearCr</td><td>CollgCr</td><td>Crawfor</td><td>Edwards</td><td>Gilbert</td><td>IDOTRR </td><td>⋯      </td><td>NridgHt</td><td>NWAmes </td><td>OldTown</td><td>Sawyer </td><td>SawyerW</td><td>Somerst</td><td>StoneBr</td><td>SWISU  </td><td>Timber </td><td>Veenker</td></tr>\n",
       "\t<tr><th scope=row>Freq</th><td> 17    </td><td>  2    </td><td> 16    </td><td> 58    </td><td> 28    </td><td>149    </td><td> 50    </td><td>100    </td><td> 78    </td><td> 37    </td><td>⋯      </td><td> 76    </td><td> 73    </td><td>113    </td><td> 74    </td><td> 58    </td><td> 83    </td><td> 25    </td><td> 25    </td><td> 37    </td><td> 11    </td></tr>\n",
       "</tbody>\n",
       "</table>\n"
      ],
      "text/latex": [
       "\\begin{tabular}{r|lllllllllllllllllllllllll}\n",
       "\tNeighborhood & Blmngtn & Blueste & BrDale  & BrkSide & ClearCr & CollgCr & Crawfor & Edwards & Gilbert & IDOTRR  & ⋯       & NridgHt & NWAmes  & OldTown & Sawyer  & SawyerW & Somerst & StoneBr & SWISU   & Timber  & Veenker\\\\\n",
       "\tFreq &  17     &   2     &  16     &  58     &  28     & 149     &  50     & 100     &  78     &  37     & ⋯       &  76     &  73     & 113     &  74     &  58     &  83     &  25     &  25     &  37     &  11    \\\\\n",
       "\\end{tabular}\n"
      ],
      "text/markdown": [
       "\n",
       "| Neighborhood | Blmngtn | Blueste | BrDale  | BrkSide | ClearCr | CollgCr | Crawfor | Edwards | Gilbert | IDOTRR  | ⋯       | NridgHt | NWAmes  | OldTown | Sawyer  | SawyerW | Somerst | StoneBr | SWISU   | Timber  | Veenker | \n",
       "| Freq |  17     |   2     |  16     |  58     |  28     | 149     |  50     | 100     |  78     |  37     | ⋯       |  76     |  73     | 113     |  74     |  58     |  83     |  25     |  25     |  37     |  11     | \n",
       "\n",
       "\n"
      ],
      "text/plain": [
       "             [,1]    [,2]    [,3]   [,4]    [,5]    [,6]    [,7]    [,8]   \n",
       "Neighborhood Blmngtn Blueste BrDale BrkSide ClearCr CollgCr Crawfor Edwards\n",
       "Freq          17       2      16     58      28     149      50     100    \n",
       "             [,9]    [,10]  [,11] [,12]   [,13]  [,14]   [,15]  [,16]   [,17]  \n",
       "Neighborhood Gilbert IDOTRR ⋯     NridgHt NWAmes OldTown Sawyer SawyerW Somerst\n",
       "Freq          78      37    ⋯      76      73    113      74     58      83    \n",
       "             [,18]   [,19] [,20]  [,21]  \n",
       "Neighborhood StoneBr SWISU Timber Veenker\n",
       "Freq          25      25    37     11    "
      ]
     },
     "metadata": {},
     "output_type": "display_data"
    },
    {
     "data": {
      "text/html": [
       "<table>\n",
       "<tbody>\n",
       "\t<tr><th scope=row>Neighborhood</th><td>Blmngtn    </td><td>Blueste    </td><td>BrDale     </td><td>BrkSide    </td><td>ClearCr    </td><td>CollgCr    </td><td>Crawfor    </td><td>Edwards    </td><td>Gilbert    </td><td>IDOTRR     </td><td>⋯          </td><td>NridgHt    </td><td>NWAmes     </td><td>OldTown    </td><td>Sawyer     </td><td>SawyerW    </td><td>Somerst    </td><td>StoneBr    </td><td>SWISU      </td><td>Timber     </td><td>Veenker    </td></tr>\n",
       "\t<tr><th scope=row>Prop</th><td>0.011716058</td><td>0.001378360</td><td>0.011026878</td><td>0.039972433</td><td>0.019297037</td><td>0.102687802</td><td>0.034458994</td><td>0.068917988</td><td>0.053756030</td><td>0.025499655</td><td>⋯          </td><td>0.052377671</td><td>0.050310131</td><td>0.077877326</td><td>0.050999311</td><td>0.039972433</td><td>0.057201930</td><td>0.017229497</td><td>0.017229497</td><td>0.025499655</td><td>0.007580979</td></tr>\n",
       "</tbody>\n",
       "</table>\n"
      ],
      "text/latex": [
       "\\begin{tabular}{r|lllllllllllllllllllllllll}\n",
       "\tNeighborhood & Blmngtn     & Blueste     & BrDale      & BrkSide     & ClearCr     & CollgCr     & Crawfor     & Edwards     & Gilbert     & IDOTRR      & ⋯           & NridgHt     & NWAmes      & OldTown     & Sawyer      & SawyerW     & Somerst     & StoneBr     & SWISU       & Timber      & Veenker    \\\\\n",
       "\tProp & 0.011716058 & 0.001378360 & 0.011026878 & 0.039972433 & 0.019297037 & 0.102687802 & 0.034458994 & 0.068917988 & 0.053756030 & 0.025499655 & ⋯           & 0.052377671 & 0.050310131 & 0.077877326 & 0.050999311 & 0.039972433 & 0.057201930 & 0.017229497 & 0.017229497 & 0.025499655 & 0.007580979\\\\\n",
       "\\end{tabular}\n"
      ],
      "text/markdown": [
       "\n",
       "| Neighborhood | Blmngtn     | Blueste     | BrDale      | BrkSide     | ClearCr     | CollgCr     | Crawfor     | Edwards     | Gilbert     | IDOTRR      | ⋯           | NridgHt     | NWAmes      | OldTown     | Sawyer      | SawyerW     | Somerst     | StoneBr     | SWISU       | Timber      | Veenker     | \n",
       "| Prop | 0.011716058 | 0.001378360 | 0.011026878 | 0.039972433 | 0.019297037 | 0.102687802 | 0.034458994 | 0.068917988 | 0.053756030 | 0.025499655 | ⋯           | 0.052377671 | 0.050310131 | 0.077877326 | 0.050999311 | 0.039972433 | 0.057201930 | 0.017229497 | 0.017229497 | 0.025499655 | 0.007580979 | \n",
       "\n",
       "\n"
      ],
      "text/plain": [
       "             [,1]        [,2]        [,3]        [,4]        [,5]       \n",
       "Neighborhood Blmngtn     Blueste     BrDale      BrkSide     ClearCr    \n",
       "Prop         0.011716058 0.001378360 0.011026878 0.039972433 0.019297037\n",
       "             [,6]        [,7]        [,8]        [,9]        [,10]       [,11]\n",
       "Neighborhood CollgCr     Crawfor     Edwards     Gilbert     IDOTRR      ⋯    \n",
       "Prop         0.102687802 0.034458994 0.068917988 0.053756030 0.025499655 ⋯    \n",
       "             [,12]       [,13]       [,14]       [,15]       [,16]      \n",
       "Neighborhood NridgHt     NWAmes      OldTown     Sawyer      SawyerW    \n",
       "Prop         0.052377671 0.050310131 0.077877326 0.050999311 0.039972433\n",
       "             [,17]       [,18]       [,19]       [,20]       [,21]      \n",
       "Neighborhood Somerst     StoneBr     SWISU       Timber      Veenker    \n",
       "Prop         0.057201930 0.017229497 0.017229497 0.025499655 0.007580979"
      ]
     },
     "metadata": {},
     "output_type": "display_data"
    }
   ],
   "source": [
    "nb_tb <- t(as.data.frame(table(categoric_df$Neighborhood)))\n",
    "rownames(nb_tb) <- c('Neighborhood', 'Freq')\n",
    "nb_tb\n",
    "nb_ptb <- t(as.data.frame(prop.table(table(categoric_df$Neighborhood))))\n",
    "rownames(nb_ptb) <- c('Neighborhood', 'Prop')\n",
    "nb_ptb"
   ]
  },
  {
   "cell_type": "markdown",
   "metadata": {},
   "source": [
    "#### OverallQual: Rates the overall material and finish of the house\n",
    "\n",
    "       10\tVery Excellent\n",
    "       9\tExcellent\n",
    "       8\tVery Good\n",
    "       7\tGood\n",
    "       6\tAbove Average\n",
    "       5\tAverage\n",
    "       4\tBelow Average\n",
    "       3\tFair\n",
    "       2\tPoor\n",
    "       1\tVery Poor"
   ]
  },
  {
   "cell_type": "code",
   "execution_count": 10,
   "metadata": {},
   "outputs": [
    {
     "data": {
      "text/html": [
       "<table>\n",
       "<thead><tr><th scope=col>OverallQual</th><th scope=col>Freq</th></tr></thead>\n",
       "<tbody>\n",
       "\t<tr><td>1  </td><td>  2</td></tr>\n",
       "\t<tr><td>2  </td><td>  3</td></tr>\n",
       "\t<tr><td>3  </td><td> 20</td></tr>\n",
       "\t<tr><td>4  </td><td>116</td></tr>\n",
       "\t<tr><td>5  </td><td>396</td></tr>\n",
       "\t<tr><td>6  </td><td>372</td></tr>\n",
       "\t<tr><td>7  </td><td>315</td></tr>\n",
       "\t<tr><td>8  </td><td>167</td></tr>\n",
       "\t<tr><td>9  </td><td> 43</td></tr>\n",
       "\t<tr><td>10 </td><td> 17</td></tr>\n",
       "</tbody>\n",
       "</table>\n"
      ],
      "text/latex": [
       "\\begin{tabular}{r|ll}\n",
       " OverallQual & Freq\\\\\n",
       "\\hline\n",
       "\t 1   &   2\\\\\n",
       "\t 2   &   3\\\\\n",
       "\t 3   &  20\\\\\n",
       "\t 4   & 116\\\\\n",
       "\t 5   & 396\\\\\n",
       "\t 6   & 372\\\\\n",
       "\t 7   & 315\\\\\n",
       "\t 8   & 167\\\\\n",
       "\t 9   &  43\\\\\n",
       "\t 10  &  17\\\\\n",
       "\\end{tabular}\n"
      ],
      "text/markdown": [
       "\n",
       "OverallQual | Freq | \n",
       "|---|---|---|---|---|---|---|---|---|---|\n",
       "| 1   |   2 | \n",
       "| 2   |   3 | \n",
       "| 3   |  20 | \n",
       "| 4   | 116 | \n",
       "| 5   | 396 | \n",
       "| 6   | 372 | \n",
       "| 7   | 315 | \n",
       "| 8   | 167 | \n",
       "| 9   |  43 | \n",
       "| 10  |  17 | \n",
       "\n",
       "\n"
      ],
      "text/plain": [
       "   OverallQual Freq\n",
       "1  1             2 \n",
       "2  2             3 \n",
       "3  3            20 \n",
       "4  4           116 \n",
       "5  5           396 \n",
       "6  6           372 \n",
       "7  7           315 \n",
       "8  8           167 \n",
       "9  9            43 \n",
       "10 10           17 "
      ]
     },
     "metadata": {},
     "output_type": "display_data"
    },
    {
     "data": {
      "text/html": [
       "<table>\n",
       "<thead><tr><th scope=col>OverallQual</th><th scope=col>Prop</th></tr></thead>\n",
       "<tbody>\n",
       "\t<tr><td>1         </td><td>0.00137836</td></tr>\n",
       "\t<tr><td>2         </td><td>0.00206754</td></tr>\n",
       "\t<tr><td>3         </td><td>0.01378360</td></tr>\n",
       "\t<tr><td>4         </td><td>0.07994487</td></tr>\n",
       "\t<tr><td>5         </td><td>0.27291523</td></tr>\n",
       "\t<tr><td>6         </td><td>0.25637491</td></tr>\n",
       "\t<tr><td>7         </td><td>0.21709166</td></tr>\n",
       "\t<tr><td>8         </td><td>0.11509304</td></tr>\n",
       "\t<tr><td>9         </td><td>0.02963473</td></tr>\n",
       "\t<tr><td>10        </td><td>0.01171606</td></tr>\n",
       "</tbody>\n",
       "</table>\n"
      ],
      "text/latex": [
       "\\begin{tabular}{r|ll}\n",
       " OverallQual & Prop\\\\\n",
       "\\hline\n",
       "\t 1          & 0.00137836\\\\\n",
       "\t 2          & 0.00206754\\\\\n",
       "\t 3          & 0.01378360\\\\\n",
       "\t 4          & 0.07994487\\\\\n",
       "\t 5          & 0.27291523\\\\\n",
       "\t 6          & 0.25637491\\\\\n",
       "\t 7          & 0.21709166\\\\\n",
       "\t 8          & 0.11509304\\\\\n",
       "\t 9          & 0.02963473\\\\\n",
       "\t 10         & 0.01171606\\\\\n",
       "\\end{tabular}\n"
      ],
      "text/markdown": [
       "\n",
       "OverallQual | Prop | \n",
       "|---|---|---|---|---|---|---|---|---|---|\n",
       "| 1          | 0.00137836 | \n",
       "| 2          | 0.00206754 | \n",
       "| 3          | 0.01378360 | \n",
       "| 4          | 0.07994487 | \n",
       "| 5          | 0.27291523 | \n",
       "| 6          | 0.25637491 | \n",
       "| 7          | 0.21709166 | \n",
       "| 8          | 0.11509304 | \n",
       "| 9          | 0.02963473 | \n",
       "| 10         | 0.01171606 | \n",
       "\n",
       "\n"
      ],
      "text/plain": [
       "   OverallQual Prop      \n",
       "1  1           0.00137836\n",
       "2  2           0.00206754\n",
       "3  3           0.01378360\n",
       "4  4           0.07994487\n",
       "5  5           0.27291523\n",
       "6  6           0.25637491\n",
       "7  7           0.21709166\n",
       "8  8           0.11509304\n",
       "9  9           0.02963473\n",
       "10 10          0.01171606"
      ]
     },
     "metadata": {},
     "output_type": "display_data"
    }
   ],
   "source": [
    "oq_tb <- as.data.frame(table(categoric_df$OverallQual))\n",
    "colnames(oq_tb) <- c('OverallQual', 'Freq')\n",
    "oq_tb\n",
    "oq_ptb <- as.data.frame(prop.table(table(categoric_df$OverallQual)))\n",
    "colnames(oq_ptb) <- c('OverallQual', 'Prop')\n",
    "oq_ptb"
   ]
  },
  {
   "cell_type": "code",
   "execution_count": 11,
   "metadata": {},
   "outputs": [
    {
     "data": {
      "image/png": "[encoded data removed]",
      "text/plain": [
       "Plot with title “Bar Plot of Overall Quality”"
      ]
     },
     "metadata": {},
     "output_type": "display_data",
     "source": "R display func"
    }
   ],
   "source": [
    "barplot(oq_tb$Freq, \n",
    "        main='Bar Plot of Overall Quality',\n",
    "        names.arg=oq_tb$OverallQual, \n",
    "        xlab = 'Overall Quality', \n",
    "        ylab = 'Frequency')"
   ]
  },
  {
   "cell_type": "markdown",
   "metadata": {},
   "source": [
    "A barplot of the Overall Quality shows that the majority of the homes are of average quality. The mode of the features a rank of 5. Without the underlying guiding metrics on how to Overall Quality is scored, it is difficult to convert the ratings into numberic. We do not know what if the difference between a house ranked 8 and 9 is the same as the difference between a house ranking 9 and 10.  "
   ]
  },
  {
   "cell_type": "markdown",
   "metadata": {},
   "source": [
    "#### Looking at Numeric Features"
   ]
  },
  {
   "cell_type": "code",
   "execution_count": 14,
   "metadata": {},
   "outputs": [
    {
     "data": {
      "text/html": [
       "<table>\n",
       "<tbody>\n",
       "\t<tr><td>LotFrontage  </td><td>LotArea      </td><td>YearBuilt    </td><td>YearRemodAdd </td><td>MasVnrArea   </td><td>BsmtFinSF1   </td><td>BsmtFinSF2   </td><td>BsmtUnfSF    </td><td>TotalBsmtSF  </td><td>FirstFlrSF   </td><td>⋯            </td><td>GarageYrBlt  </td><td>GarageArea   </td><td>WoodDeckSF   </td><td>OpenPorchSF  </td><td>EnclosedPorch</td><td>ThreeSsnPorch</td><td>ScreenPorch  </td><td>PoolArea     </td><td>MiscVal      </td><td>SalePrice    </td></tr>\n",
       "</tbody>\n",
       "</table>\n"
      ],
      "text/latex": [
       "\\begin{tabular}{lllllllllllllllllllllll}\n",
       "\t LotFrontage   & LotArea       & YearBuilt     & YearRemodAdd  & MasVnrArea    & BsmtFinSF1    & BsmtFinSF2    & BsmtUnfSF     & TotalBsmtSF   & FirstFlrSF    & ⋯             & GarageYrBlt   & GarageArea    & WoodDeckSF    & OpenPorchSF   & EnclosedPorch & ThreeSsnPorch & ScreenPorch   & PoolArea      & MiscVal       & SalePrice    \\\\\n",
       "\\end{tabular}\n"
      ],
      "text/markdown": [
       "\n",
       "| LotFrontage   | LotArea       | YearBuilt     | YearRemodAdd  | MasVnrArea    | BsmtFinSF1    | BsmtFinSF2    | BsmtUnfSF     | TotalBsmtSF   | FirstFlrSF    | ⋯             | GarageYrBlt   | GarageArea    | WoodDeckSF    | OpenPorchSF   | EnclosedPorch | ThreeSsnPorch | ScreenPorch   | PoolArea      | MiscVal       | SalePrice     | \n",
       "\n",
       "\n"
      ],
      "text/plain": [
       "     [,1]        [,2]    [,3]      [,4]         [,5]       [,6]      \n",
       "[1,] LotFrontage LotArea YearBuilt YearRemodAdd MasVnrArea BsmtFinSF1\n",
       "     [,7]       [,8]      [,9]        [,10]      [,11] [,12]       [,13]     \n",
       "[1,] BsmtFinSF2 BsmtUnfSF TotalBsmtSF FirstFlrSF ⋯     GarageYrBlt GarageArea\n",
       "     [,14]      [,15]       [,16]         [,17]         [,18]       [,19]   \n",
       "[1,] WoodDeckSF OpenPorchSF EnclosedPorch ThreeSsnPorch ScreenPorch PoolArea\n",
       "     [,20]   [,21]    \n",
       "[1,] MiscVal SalePrice"
      ]
     },
     "metadata": {},
     "output_type": "display_data"
    }
   ],
   "source": [
    "t(colnames(numeric_df))"
   ]
  },
  {
   "cell_type": "code",
   "execution_count": 15,
   "metadata": {},
   "outputs": [
    {
     "data": {},
     "metadata": {},
     "output_type": "display_data"
    },
    {
     "data": {
      "image/png": "[encoded data removed]",
      "text/plain": [
       "plot without title"
      ]
     },
     "metadata": {},
     "output_type": "display_data",
     "source": "R display func"
    }
   ],
   "source": [
    "hist_with_kde(numeric_df$LotArea)"
   ]
  },
  {
   "cell_type": "markdown",
   "metadata": {},
   "source": [
    "The density curve of the Lot Area is greatly skewed towards the right. There are Lot areas that are >150000 which pulls the mean (red line) towards the right of the median (blue line)"
   ]
  },
  {
   "cell_type": "code",
   "execution_count": 16,
   "metadata": {},
   "outputs": [
    {
     "data": {},
     "metadata": {},
     "output_type": "display_data"
    },
    {
     "data": {
      "image/png": "[encoded data removed]",
      "text/plain": [
       "plot without title"
      ]
     },
     "metadata": {},
     "output_type": "display_data",
     "source": "R display func"
    }
   ],
   "source": [
    "hist_with_kde(numeric_log_sc_df$LotArea)"
   ]
  },
  {
   "cell_type": "markdown",
   "metadata": {},
   "source": [
    "If we take the log of the feature and scale it by subtracting the mean and dividing by the SD, now we can see that the mean and the median are more closely related. "
   ]
  },
  {
   "cell_type": "code",
   "execution_count": 17,
   "metadata": {},
   "outputs": [
    {
     "data": {},
     "metadata": {},
     "output_type": "display_data"
    },
    {
     "data": {
      "image/png": "[encoded data removed]",
      "text/plain": [
       "plot without title"
      ]
     },
     "metadata": {},
     "output_type": "display_data",
     "source": "R display func"
    }
   ],
   "source": [
    "hist_with_kde_numerical_by_category(numeric_log_sc_df$LotArea, categoric_df$OverallQual)"
   ]
  },
  {
   "cell_type": "markdown",
   "metadata": {},
   "source": [
    "If we look at the Lot Area of houses grouped by overall quality, we can observe that in general, as the quality of houses is higher (blues, pinks, and purples) the log-scaled distribution of the lot size is towards the right"
   ]
  },
  {
   "cell_type": "markdown",
   "metadata": {},
   "source": [
    "### Pairs Plot "
   ]
  },
  {
   "cell_type": "code",
   "execution_count": 18,
   "metadata": {},
   "outputs": [
    {
     "name": "stderr",
     "output_type": "stream",
     "text": [
      "Updating HTML index of packages in '.Library'\n",
      "Making 'packages.html' ... done\n",
      "Loading required package: lattice\n"
     ]
    }
   ],
   "source": [
    "install.packages('rpart')\n",
    "library(caret)\n",
    "library(rpart)"
   ]
  },
  {
   "cell_type": "code",
   "execution_count": 19,
   "metadata": {},
   "outputs": [],
   "source": [
    "library(reshape2)"
   ]
  },
  {
   "cell_type": "code",
   "execution_count": null,
   "metadata": {},
   "outputs": [],
   "source": [
    "cormat = cor(numeric_df)\n",
    "\n",
    "cormat[lower.tri(cormat)] <- NA\n",
    "diag(cormat) <- NA\n",
    "\n",
    "melted_cormat <- melt(cormat, na.rm = T)\n",
    "\n",
    "library(ggplot2)\n",
    "ggplot(data = melted_cormat, aes(Var2, Var1, fill = value))+\n",
    " geom_tile(color = \"white\")+\n",
    " scale_fill_gradient2(low = \"blue\", high = \"red\", mid = \"white\", \n",
    "   midpoint = 0, limit = c(-1,1), space = \"Lab\", \n",
    "   name=\"Pearson\\nCorrelation\") +\n",
    "  theme_minimal()+ \n",
    " theme(axis.text.x = element_text(angle = 45, vjust = 1, \n",
    "    size = 9, hjust = 1))+\n",
    " coord_fixed()"
   ]
  },
  {
   "cell_type": "code",
   "execution_count": null,
   "metadata": {},
   "outputs": [],
   "source": [
    "cormat = cor(numeric_log_sc_df)\n",
    "\n",
    "cormat[lower.tri(cormat)] <- NA\n",
    "diag(cormat) <- NA\n",
    "\n",
    "melted_cormat <- melt(cormat, na.rm = T)\n",
    "\n",
    "library(ggplot2)\n",
    "ggplot(data = melted_cormat, aes(Var2, Var1, fill = value))+\n",
    " geom_tile(color = \"white\")+\n",
    " scale_fill_gradient2(low = \"blue\", high = \"red\", mid = \"white\", \n",
    "   midpoint = 0, limit = c(-1,1), space = \"Lab\", \n",
    "   name=\"Pearson\\nCorrelation\") +\n",
    "  theme_minimal()+ \n",
    " theme(axis.text.x = element_text(angle = 45, vjust = 1, \n",
    "    size = 9, hjust = 1))+\n",
    " coord_fixed()"
   ]
  },
  {
   "cell_type": "markdown",
   "metadata": {},
   "source": [
    "We can compare the pair plots for between the original numeric data and the log scaled numeric data. After basic transformation, some of the original correlation is less prominent. \n",
    "For example, `TotalBsmtSF` is highly correlated with `FirstFlrSF` in the original data, but less so in the log-scaled data. We can see that `YearBuilt` and `GarageYrBuilt` are highly correlated, which might suggest they are redundant.  \n"
   ]
  },
  {
   "cell_type": "code",
   "execution_count": null,
   "metadata": {},
   "outputs": [],
   "source": []
  }
 ],
 "metadata": {
  "kernelspec": {
   "display_name": "R",
   "language": "R",
   "name": "ir"
  },
  "language_info": {
   "codemirror_mode": "r",
   "file_extension": ".r",
   "mimetype": "text/x-r-source",
   "name": "R",
   "pygments_lexer": "r",
   "version": "3.4.1"
  }
 },
 "nbformat": 4,
 "nbformat_minor": 2
}
