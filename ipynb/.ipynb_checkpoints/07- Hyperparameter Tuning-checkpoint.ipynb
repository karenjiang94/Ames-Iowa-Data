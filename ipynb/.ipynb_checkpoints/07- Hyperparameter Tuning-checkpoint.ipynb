{
 "cells": [
  {
   "cell_type": "markdown",
   "metadata": {},
   "source": [
    "## Hyperparameter Tuning with CVGridSearch"
   ]
  },
  {
   "cell_type": "code",
   "execution_count": 1,
   "metadata": {},
   "outputs": [],
   "source": [
    "!pip --quiet install mglearn"
   ]
  },
  {
   "cell_type": "markdown",
   "metadata": {},
   "source": [
    "We will select our Ridge, Lasso, and SVR models and tune our hyperparameters to refine our model."
   ]
  },
  {
   "cell_type": "code",
   "execution_count": 2,
   "metadata": {},
   "outputs": [],
   "source": [
    "import pandas as pd\n",
    "import numpy as np\n",
    "\n",
    "import mglearn\n",
    "from sklearn.linear_model import Ridge, Lasso\n",
    "from sklearn.svm import SVR\n",
    "\n",
    "import matplotlib.pyplot as plt\n",
    "%matplotlib inline"
   ]
  },
  {
   "cell_type": "code",
   "execution_count": 3,
   "metadata": {},
   "outputs": [
    {
     "name": "stdout",
     "output_type": "stream",
     "text": [
      "/home/jovyan/Ames-Iowa-Data\n"
     ]
    }
   ],
   "source": [
    "cd .."
   ]
  },
  {
   "cell_type": "code",
   "execution_count": 4,
   "metadata": {},
   "outputs": [],
   "source": [
    "df = pd.read_csv('data/final_ames_df.csv')"
   ]
  },
  {
   "cell_type": "code",
   "execution_count": 5,
   "metadata": {},
   "outputs": [],
   "source": [
    "final_ames_df = pd.DataFrame(df)"
   ]
  },
  {
   "cell_type": "code",
   "execution_count": 6,
   "metadata": {},
   "outputs": [],
   "source": [
    "final_ames_df = final_ames_df.drop(['Unnamed: 0'], axis = 1)\n",
    "target = final_ames_df['SalePrice']\n",
    "features = final_ames_df.drop(['SalePrice'], axis = 1)"
   ]
  },
  {
   "cell_type": "code",
   "execution_count": 7,
   "metadata": {},
   "outputs": [],
   "source": [
    "from sklearn.model_selection import GridSearchCV, ShuffleSplit, StratifiedShuffleSplit, train_test_split"
   ]
  },
  {
   "cell_type": "code",
   "execution_count": 8,
   "metadata": {},
   "outputs": [],
   "source": [
    "X_train, X_test, y_train, y_test = train_test_split(features, target, random_state=42)"
   ]
  },
  {
   "cell_type": "markdown",
   "metadata": {},
   "source": [
    "### Ridge Regression\n",
    "\n",
    "Hyperparameters to tune:\n",
    "\n",
    "**alpha** : {float, array-like}, shape (n_targets)\n",
    "\n",
    "Regularization strength; must be a positive float. Regularization improves the conditioning of the problem and reduces the variance of the estimates. Larger values specify stronger regularization. Alpha corresponds to C^-1 in other linear models such as LogisticRegression or LinearSVC. If an array is passed, penalties are assumed to be specific to the targets. Hence they must correspond in number.\n",
    "\n",
    "**max_iter** : int, optional\n",
    "\n",
    "Maximum number of iterations for conjugate gradient solver. For ‘sparse_cg’ and ‘lsqr’ solvers, the default value is determined by scipy.sparse.linalg. For ‘sag’ solver, the default value is 1000.\n",
    "\n",
    "**solver** : {‘auto’, ‘svd’, ‘cholesky’, ‘lsqr’, ‘sparse_cg’, ‘sag’, ‘saga’}\n",
    "\n",
    "Solver to use in the computational routines:\n",
    "\n",
    "*‘auto’* chooses the solver automatically based on the type of data.\n",
    "*‘svd’* uses a Singular Value Decomposition of X to compute the Ridge coefficients. More stable for singular matrices than ‘cholesky’.\n",
    "*‘cholesky’* uses the standard scipy.linalg.solve function to obtain a closed-form solution.\n",
    "*‘sparse_cg’* uses the conjugate gradient solver as found in scipy.sparse.linalg.cg. As an iterative algorithm, this solver is more appropriate than ‘cholesky’ for large-scale data (possibility to set tol and max_iter).\n",
    "*‘lsqr’* uses the dedicated regularized least-squares routine scipy.sparse.linalg.lsqr. It is the fastest but may not be available in old scipy versions. It also uses an iterative procedure.\n",
    "*‘sag’* uses a Stochastic Average Gradient descent, and ‘saga’ uses its improved, unbiased version named SAGA. Both methods also use an iterative procedure, and are often faster than other solvers when both n_samples and n_features are large. Note that ‘sag’ and ‘saga’ fast convergence is only guaranteed on features with approximately the same scale. You can preprocess the data with a scaler from sklearn.preprocessing."
   ]
  },
  {
   "cell_type": "code",
   "execution_count": 9,
   "metadata": {},
   "outputs": [],
   "source": [
    "ridge_params ={\n",
    "    'alpha' : np.logspace(-4, 4, 9),\n",
    "    'solver' : ['sag', 'saga']\n",
    "}"
   ]
  },
  {
   "cell_type": "code",
   "execution_count": 10,
   "metadata": {},
   "outputs": [],
   "source": [
    "ridge_gs = GridSearchCV(Ridge(), param_grid = ridge_params, return_train_score=True)"
   ]
  },
  {
   "cell_type": "code",
   "execution_count": 11,
   "metadata": {},
   "outputs": [
    {
     "data": {
      "text/plain": [
       "GridSearchCV(cv=None, error_score='raise',\n",
       "       estimator=Ridge(alpha=1.0, copy_X=True, fit_intercept=True, max_iter=None,\n",
       "   normalize=False, random_state=None, solver='auto', tol=0.001),\n",
       "       fit_params=None, iid=True, n_jobs=1,\n",
       "       param_grid={'alpha': array([  1.00000e-04,   1.00000e-03,   1.00000e-02,   1.00000e-01,\n",
       "         1.00000e+00,   1.00000e+01,   1.00000e+02,   1.00000e+03,\n",
       "         1.00000e+04]), 'solver': ['sag', 'saga']},\n",
       "       pre_dispatch='2*n_jobs', refit=True, return_train_score=True,\n",
       "       scoring=None, verbose=0)"
      ]
     },
     "execution_count": 11,
     "metadata": {},
     "output_type": "execute_result"
    }
   ],
   "source": [
    "ridge_gs.fit(X_train, y_train)"
   ]
  },
  {
   "cell_type": "code",
   "execution_count": 12,
   "metadata": {},
   "outputs": [
    {
     "data": {
      "text/html": [
       "<div>\n",
       "<table border=\"1\" class=\"dataframe\">\n",
       "  <thead>\n",
       "    <tr style=\"text-align: right;\">\n",
       "      <th></th>\n",
       "      <th>mean_fit_time</th>\n",
       "      <th>mean_score_time</th>\n",
       "      <th>mean_test_score</th>\n",
       "      <th>mean_train_score</th>\n",
       "      <th>param_alpha</th>\n",
       "      <th>param_solver</th>\n",
       "      <th>params</th>\n",
       "      <th>rank_test_score</th>\n",
       "      <th>split0_test_score</th>\n",
       "      <th>split0_train_score</th>\n",
       "      <th>split1_test_score</th>\n",
       "      <th>split1_train_score</th>\n",
       "      <th>split2_test_score</th>\n",
       "      <th>split2_train_score</th>\n",
       "      <th>std_fit_time</th>\n",
       "      <th>std_score_time</th>\n",
       "      <th>std_test_score</th>\n",
       "      <th>std_train_score</th>\n",
       "    </tr>\n",
       "  </thead>\n",
       "  <tbody>\n",
       "    <tr>\n",
       "      <th>13</th>\n",
       "      <td>5.331209</td>\n",
       "      <td>0.000766</td>\n",
       "      <td>0.880253</td>\n",
       "      <td>0.959753</td>\n",
       "      <td>100</td>\n",
       "      <td>saga</td>\n",
       "      <td>{'alpha': 100.0, 'solver': 'saga'}</td>\n",
       "      <td>1</td>\n",
       "      <td>0.831758</td>\n",
       "      <td>0.966075</td>\n",
       "      <td>0.892553</td>\n",
       "      <td>0.957725</td>\n",
       "      <td>0.916548</td>\n",
       "      <td>0.955460</td>\n",
       "      <td>0.670847</td>\n",
       "      <td>0.000008</td>\n",
       "      <td>0.035685</td>\n",
       "      <td>0.004565</td>\n",
       "    </tr>\n",
       "    <tr>\n",
       "      <th>12</th>\n",
       "      <td>1.942621</td>\n",
       "      <td>0.000768</td>\n",
       "      <td>0.879764</td>\n",
       "      <td>0.960140</td>\n",
       "      <td>100</td>\n",
       "      <td>sag</td>\n",
       "      <td>{'alpha': 100.0, 'solver': 'sag'}</td>\n",
       "      <td>2</td>\n",
       "      <td>0.831096</td>\n",
       "      <td>0.966391</td>\n",
       "      <td>0.892481</td>\n",
       "      <td>0.958110</td>\n",
       "      <td>0.915814</td>\n",
       "      <td>0.955920</td>\n",
       "      <td>0.283271</td>\n",
       "      <td>0.000006</td>\n",
       "      <td>0.035730</td>\n",
       "      <td>0.004509</td>\n",
       "    </tr>\n",
       "    <tr>\n",
       "      <th>14</th>\n",
       "      <td>0.584923</td>\n",
       "      <td>0.000769</td>\n",
       "      <td>0.873035</td>\n",
       "      <td>0.923954</td>\n",
       "      <td>1000</td>\n",
       "      <td>sag</td>\n",
       "      <td>{'alpha': 1000.0, 'solver': 'sag'}</td>\n",
       "      <td>3</td>\n",
       "      <td>0.839231</td>\n",
       "      <td>0.934960</td>\n",
       "      <td>0.882169</td>\n",
       "      <td>0.919572</td>\n",
       "      <td>0.897772</td>\n",
       "      <td>0.917331</td>\n",
       "      <td>0.019215</td>\n",
       "      <td>0.000014</td>\n",
       "      <td>0.024752</td>\n",
       "      <td>0.007836</td>\n",
       "    </tr>\n",
       "    <tr>\n",
       "      <th>15</th>\n",
       "      <td>1.492494</td>\n",
       "      <td>0.000777</td>\n",
       "      <td>0.872865</td>\n",
       "      <td>0.923666</td>\n",
       "      <td>1000</td>\n",
       "      <td>saga</td>\n",
       "      <td>{'alpha': 1000.0, 'solver': 'saga'}</td>\n",
       "      <td>4</td>\n",
       "      <td>0.839158</td>\n",
       "      <td>0.934638</td>\n",
       "      <td>0.882034</td>\n",
       "      <td>0.919336</td>\n",
       "      <td>0.897471</td>\n",
       "      <td>0.917023</td>\n",
       "      <td>0.072382</td>\n",
       "      <td>0.000007</td>\n",
       "      <td>0.024669</td>\n",
       "      <td>0.007816</td>\n",
       "    </tr>\n",
       "    <tr>\n",
       "      <th>11</th>\n",
       "      <td>12.953753</td>\n",
       "      <td>0.014321</td>\n",
       "      <td>0.854471</td>\n",
       "      <td>0.965320</td>\n",
       "      <td>10</td>\n",
       "      <td>saga</td>\n",
       "      <td>{'alpha': 10.0, 'solver': 'saga'}</td>\n",
       "      <td>5</td>\n",
       "      <td>0.809401</td>\n",
       "      <td>0.969967</td>\n",
       "      <td>0.855186</td>\n",
       "      <td>0.965320</td>\n",
       "      <td>0.898950</td>\n",
       "      <td>0.960673</td>\n",
       "      <td>3.301343</td>\n",
       "      <td>0.019155</td>\n",
       "      <td>0.036553</td>\n",
       "      <td>0.003794</td>\n",
       "    </tr>\n",
       "  </tbody>\n",
       "</table>\n",
       "</div>"
      ],
      "text/plain": [
       "    mean_fit_time  mean_score_time  mean_test_score  mean_train_score  \\\n",
       "13       5.331209         0.000766         0.880253          0.959753   \n",
       "12       1.942621         0.000768         0.879764          0.960140   \n",
       "14       0.584923         0.000769         0.873035          0.923954   \n",
       "15       1.492494         0.000777         0.872865          0.923666   \n",
       "11      12.953753         0.014321         0.854471          0.965320   \n",
       "\n",
       "   param_alpha param_solver                               params  \\\n",
       "13         100         saga   {'alpha': 100.0, 'solver': 'saga'}   \n",
       "12         100          sag    {'alpha': 100.0, 'solver': 'sag'}   \n",
       "14        1000          sag   {'alpha': 1000.0, 'solver': 'sag'}   \n",
       "15        1000         saga  {'alpha': 1000.0, 'solver': 'saga'}   \n",
       "11          10         saga    {'alpha': 10.0, 'solver': 'saga'}   \n",
       "\n",
       "    rank_test_score  split0_test_score  split0_train_score  split1_test_score  \\\n",
       "13                1           0.831758            0.966075           0.892553   \n",
       "12                2           0.831096            0.966391           0.892481   \n",
       "14                3           0.839231            0.934960           0.882169   \n",
       "15                4           0.839158            0.934638           0.882034   \n",
       "11                5           0.809401            0.969967           0.855186   \n",
       "\n",
       "    split1_train_score  split2_test_score  split2_train_score  std_fit_time  \\\n",
       "13            0.957725           0.916548            0.955460      0.670847   \n",
       "12            0.958110           0.915814            0.955920      0.283271   \n",
       "14            0.919572           0.897772            0.917331      0.019215   \n",
       "15            0.919336           0.897471            0.917023      0.072382   \n",
       "11            0.965320           0.898950            0.960673      3.301343   \n",
       "\n",
       "    std_score_time  std_test_score  std_train_score  \n",
       "13        0.000008        0.035685         0.004565  \n",
       "12        0.000006        0.035730         0.004509  \n",
       "14        0.000014        0.024752         0.007836  \n",
       "15        0.000007        0.024669         0.007816  \n",
       "11        0.019155        0.036553         0.003794  "
      ]
     },
     "execution_count": 12,
     "metadata": {},
     "output_type": "execute_result"
    }
   ],
   "source": [
    "cv_results = pd.DataFrame(ridge_gs.cv_results_)\n",
    "cv_results.sort_values('mean_test_score', ascending=False).head()"
   ]
  },
  {
   "cell_type": "code",
   "execution_count": 13,
   "metadata": {},
   "outputs": [
    {
     "data": {
      "image/png": "[encoded data removed]",
      "text/plain": [
       "<Figure size 432x288 with 1 Axes>"
      ]
     },
     "metadata": {},
     "output_type": "display_data"
    }
   ],
   "source": [
    "(cv_results[cv_results['param_solver'] == 'saga']\n",
    " [['mean_train_score','mean_test_score','param_alpha']]\n",
    " .plot(x='param_alpha'))\n",
    "\n",
    "plt.axvline(cv_results[cv_results['param_solver'] == 'saga']['mean_test_score'].max(), c='r', ls='--', label = 'optimal C')\n",
    "plt.title('Complexity Curve for Ridge')\n",
    "plt.legend()\n",
    "plt.xscale('log')"
   ]
  },
  {
   "cell_type": "code",
   "execution_count": 14,
   "metadata": {},
   "outputs": [
    {
     "data": {
      "text/plain": [
       "{'alpha': 100.0, 'solver': 'saga'}"
      ]
     },
     "execution_count": 14,
     "metadata": {},
     "output_type": "execute_result"
    }
   ],
   "source": [
    "ridge_gs.best_params_"
   ]
  },
  {
   "cell_type": "code",
   "execution_count": 15,
   "metadata": {},
   "outputs": [
    {
     "data": {
      "text/plain": [
       "0.88025294101707563"
      ]
     },
     "execution_count": 15,
     "metadata": {},
     "output_type": "execute_result"
    }
   ],
   "source": [
    "ridge_gs.best_score_"
   ]
  },
  {
   "cell_type": "code",
   "execution_count": null,
   "metadata": {},
   "outputs": [],
   "source": []
  },
  {
   "cell_type": "markdown",
   "metadata": {},
   "source": [
    "### Lasso Regression\n",
    "\n",
    "**alpha** : float, optional\n",
    "\n",
    "Constant that multiplies the L1 term. Defaults to 1.0. alpha = 0 is equivalent to an ordinary least square, solved by the LinearRegression object. For numerical reasons, using alpha = 0 with the Lasso object is not advised. Given this, you should use the LinearRegression object."
   ]
  },
  {
   "cell_type": "code",
   "execution_count": 16,
   "metadata": {},
   "outputs": [],
   "source": [
    "lasso_params = {\n",
    "    'alpha' : np.logspace(-6, 0, 7)\n",
    "}"
   ]
  },
  {
   "cell_type": "code",
   "execution_count": 17,
   "metadata": {},
   "outputs": [],
   "source": [
    "lasso_gs = GridSearchCV(Lasso(), param_grid = lasso_params, return_train_score=True)"
   ]
  },
  {
   "cell_type": "code",
   "execution_count": 18,
   "metadata": {},
   "outputs": [
    {
     "name": "stderr",
     "output_type": "stream",
     "text": [
      "/opt/conda/lib/python3.6/site-packages/sklearn/linear_model/coordinate_descent.py:491: ConvergenceWarning: Objective did not converge. You might want to increase the number of iterations. Fitting data with very small alpha may cause precision problems.\n",
      "  ConvergenceWarning)\n",
      "/opt/conda/lib/python3.6/site-packages/sklearn/linear_model/coordinate_descent.py:491: ConvergenceWarning: Objective did not converge. You might want to increase the number of iterations. Fitting data with very small alpha may cause precision problems.\n",
      "  ConvergenceWarning)\n",
      "/opt/conda/lib/python3.6/site-packages/sklearn/linear_model/coordinate_descent.py:491: ConvergenceWarning: Objective did not converge. You might want to increase the number of iterations. Fitting data with very small alpha may cause precision problems.\n",
      "  ConvergenceWarning)\n",
      "/opt/conda/lib/python3.6/site-packages/sklearn/linear_model/coordinate_descent.py:491: ConvergenceWarning: Objective did not converge. You might want to increase the number of iterations. Fitting data with very small alpha may cause precision problems.\n",
      "  ConvergenceWarning)\n",
      "/opt/conda/lib/python3.6/site-packages/sklearn/linear_model/coordinate_descent.py:491: ConvergenceWarning: Objective did not converge. You might want to increase the number of iterations. Fitting data with very small alpha may cause precision problems.\n",
      "  ConvergenceWarning)\n",
      "/opt/conda/lib/python3.6/site-packages/sklearn/linear_model/coordinate_descent.py:491: ConvergenceWarning: Objective did not converge. You might want to increase the number of iterations. Fitting data with very small alpha may cause precision problems.\n",
      "  ConvergenceWarning)\n",
      "/opt/conda/lib/python3.6/site-packages/sklearn/linear_model/coordinate_descent.py:491: ConvergenceWarning: Objective did not converge. You might want to increase the number of iterations. Fitting data with very small alpha may cause precision problems.\n",
      "  ConvergenceWarning)\n",
      "/opt/conda/lib/python3.6/site-packages/sklearn/linear_model/coordinate_descent.py:491: ConvergenceWarning: Objective did not converge. You might want to increase the number of iterations. Fitting data with very small alpha may cause precision problems.\n",
      "  ConvergenceWarning)\n",
      "/opt/conda/lib/python3.6/site-packages/sklearn/linear_model/coordinate_descent.py:491: ConvergenceWarning: Objective did not converge. You might want to increase the number of iterations. Fitting data with very small alpha may cause precision problems.\n",
      "  ConvergenceWarning)\n"
     ]
    },
    {
     "data": {
      "text/html": [
       "<div>\n",
       "<table border=\"1\" class=\"dataframe\">\n",
       "  <thead>\n",
       "    <tr style=\"text-align: right;\">\n",
       "      <th></th>\n",
       "      <th>mean_fit_time</th>\n",
       "      <th>mean_score_time</th>\n",
       "      <th>mean_test_score</th>\n",
       "      <th>mean_train_score</th>\n",
       "      <th>param_alpha</th>\n",
       "      <th>params</th>\n",
       "      <th>rank_test_score</th>\n",
       "      <th>split0_test_score</th>\n",
       "      <th>split0_train_score</th>\n",
       "      <th>split1_test_score</th>\n",
       "      <th>split1_train_score</th>\n",
       "      <th>split2_test_score</th>\n",
       "      <th>split2_train_score</th>\n",
       "      <th>std_fit_time</th>\n",
       "      <th>std_score_time</th>\n",
       "      <th>std_test_score</th>\n",
       "      <th>std_train_score</th>\n",
       "    </tr>\n",
       "  </thead>\n",
       "  <tbody>\n",
       "    <tr>\n",
       "      <th>4</th>\n",
       "      <td>0.247464</td>\n",
       "      <td>0.013202</td>\n",
       "      <td>0.887108</td>\n",
       "      <td>0.949295</td>\n",
       "      <td>0.01</td>\n",
       "      <td>{'alpha': 0.01}</td>\n",
       "      <td>1</td>\n",
       "      <td>0.841858</td>\n",
       "      <td>0.955326</td>\n",
       "      <td>0.901027</td>\n",
       "      <td>0.948570</td>\n",
       "      <td>0.918525</td>\n",
       "      <td>0.943987</td>\n",
       "      <td>0.088413</td>\n",
       "      <td>0.017524</td>\n",
       "      <td>0.032805</td>\n",
       "      <td>0.004657</td>\n",
       "    </tr>\n",
       "    <tr>\n",
       "      <th>3</th>\n",
       "      <td>1.084384</td>\n",
       "      <td>0.013000</td>\n",
       "      <td>0.855098</td>\n",
       "      <td>0.965735</td>\n",
       "      <td>0.001</td>\n",
       "      <td>{'alpha': 0.001}</td>\n",
       "      <td>2</td>\n",
       "      <td>0.817414</td>\n",
       "      <td>0.970932</td>\n",
       "      <td>0.845166</td>\n",
       "      <td>0.965449</td>\n",
       "      <td>0.902847</td>\n",
       "      <td>0.960826</td>\n",
       "      <td>0.392457</td>\n",
       "      <td>0.017262</td>\n",
       "      <td>0.035571</td>\n",
       "      <td>0.004131</td>\n",
       "    </tr>\n",
       "    <tr>\n",
       "      <th>2</th>\n",
       "      <td>2.068571</td>\n",
       "      <td>0.000769</td>\n",
       "      <td>0.823073</td>\n",
       "      <td>0.968591</td>\n",
       "      <td>0.0001</td>\n",
       "      <td>{'alpha': 0.0001}</td>\n",
       "      <td>3</td>\n",
       "      <td>0.800072</td>\n",
       "      <td>0.973871</td>\n",
       "      <td>0.782236</td>\n",
       "      <td>0.969071</td>\n",
       "      <td>0.887086</td>\n",
       "      <td>0.962831</td>\n",
       "      <td>0.134073</td>\n",
       "      <td>0.000010</td>\n",
       "      <td>0.045785</td>\n",
       "      <td>0.004520</td>\n",
       "    </tr>\n",
       "    <tr>\n",
       "      <th>1</th>\n",
       "      <td>2.055043</td>\n",
       "      <td>0.012975</td>\n",
       "      <td>0.818043</td>\n",
       "      <td>0.968740</td>\n",
       "      <td>1e-05</td>\n",
       "      <td>{'alpha': 1e-05}</td>\n",
       "      <td>4</td>\n",
       "      <td>0.795634</td>\n",
       "      <td>0.974054</td>\n",
       "      <td>0.773508</td>\n",
       "      <td>0.969196</td>\n",
       "      <td>0.885173</td>\n",
       "      <td>0.962969</td>\n",
       "      <td>0.028721</td>\n",
       "      <td>0.017233</td>\n",
       "      <td>0.048256</td>\n",
       "      <td>0.004537</td>\n",
       "    </tr>\n",
       "    <tr>\n",
       "      <th>0</th>\n",
       "      <td>2.435213</td>\n",
       "      <td>0.013010</td>\n",
       "      <td>0.817452</td>\n",
       "      <td>0.968736</td>\n",
       "      <td>1e-06</td>\n",
       "      <td>{'alpha': 1e-06}</td>\n",
       "      <td>5</td>\n",
       "      <td>0.792424</td>\n",
       "      <td>0.974051</td>\n",
       "      <td>0.772762</td>\n",
       "      <td>0.969192</td>\n",
       "      <td>0.887361</td>\n",
       "      <td>0.962965</td>\n",
       "      <td>0.212468</td>\n",
       "      <td>0.017248</td>\n",
       "      <td>0.050014</td>\n",
       "      <td>0.004538</td>\n",
       "    </tr>\n",
       "  </tbody>\n",
       "</table>\n",
       "</div>"
      ],
      "text/plain": [
       "   mean_fit_time  mean_score_time  mean_test_score  mean_train_score  \\\n",
       "4       0.247464         0.013202         0.887108          0.949295   \n",
       "3       1.084384         0.013000         0.855098          0.965735   \n",
       "2       2.068571         0.000769         0.823073          0.968591   \n",
       "1       2.055043         0.012975         0.818043          0.968740   \n",
       "0       2.435213         0.013010         0.817452          0.968736   \n",
       "\n",
       "  param_alpha             params  rank_test_score  split0_test_score  \\\n",
       "4        0.01    {'alpha': 0.01}                1           0.841858   \n",
       "3       0.001   {'alpha': 0.001}                2           0.817414   \n",
       "2      0.0001  {'alpha': 0.0001}                3           0.800072   \n",
       "1       1e-05   {'alpha': 1e-05}                4           0.795634   \n",
       "0       1e-06   {'alpha': 1e-06}                5           0.792424   \n",
       "\n",
       "   split0_train_score  split1_test_score  split1_train_score  \\\n",
       "4            0.955326           0.901027            0.948570   \n",
       "3            0.970932           0.845166            0.965449   \n",
       "2            0.973871           0.782236            0.969071   \n",
       "1            0.974054           0.773508            0.969196   \n",
       "0            0.974051           0.772762            0.969192   \n",
       "\n",
       "   split2_test_score  split2_train_score  std_fit_time  std_score_time  \\\n",
       "4           0.918525            0.943987      0.088413        0.017524   \n",
       "3           0.902847            0.960826      0.392457        0.017262   \n",
       "2           0.887086            0.962831      0.134073        0.000010   \n",
       "1           0.885173            0.962969      0.028721        0.017233   \n",
       "0           0.887361            0.962965      0.212468        0.017248   \n",
       "\n",
       "   std_test_score  std_train_score  \n",
       "4        0.032805         0.004657  \n",
       "3        0.035571         0.004131  \n",
       "2        0.045785         0.004520  \n",
       "1        0.048256         0.004537  \n",
       "0        0.050014         0.004538  "
      ]
     },
     "execution_count": 18,
     "metadata": {},
     "output_type": "execute_result"
    }
   ],
   "source": [
    "lasso_gs.fit(X_train, y_train)\n",
    "cv_results = pd.DataFrame(lasso_gs.cv_results_)\n",
    "cv_results.sort_values('mean_test_score', ascending=False).head()"
   ]
  },
  {
   "cell_type": "code",
   "execution_count": 19,
   "metadata": {},
   "outputs": [
    {
     "data": {
      "image/png": "[encoded data removed]",
      "text/plain": [
       "<Figure size 432x288 with 1 Axes>"
      ]
     },
     "metadata": {},
     "output_type": "display_data"
    }
   ],
   "source": [
    "(cv_results[['mean_train_score','mean_test_score','param_alpha']]\n",
    " .plot(x='param_alpha'))\n",
    "\n",
    "plt.axvline(0.01, c='r', ls='--', label = 'optimal C')\n",
    "plt.title('Complexity Curve for Ridge')\n",
    "plt.legend()\n",
    "plt.xscale('log')"
   ]
  },
  {
   "cell_type": "code",
   "execution_count": 20,
   "metadata": {},
   "outputs": [
    {
     "data": {
      "text/plain": [
       "{'alpha': 0.01}"
      ]
     },
     "execution_count": 20,
     "metadata": {},
     "output_type": "execute_result"
    }
   ],
   "source": [
    "lasso_gs.best_params_"
   ]
  },
  {
   "cell_type": "code",
   "execution_count": 21,
   "metadata": {},
   "outputs": [
    {
     "data": {
      "text/plain": [
       "0.88710806168687895"
      ]
     },
     "execution_count": 21,
     "metadata": {},
     "output_type": "execute_result"
    }
   ],
   "source": [
    "lasso_gs.best_score_"
   ]
  },
  {
   "cell_type": "markdown",
   "metadata": {},
   "source": [
    "### SVR Regression"
   ]
  },
  {
   "cell_type": "code",
   "execution_count": 22,
   "metadata": {},
   "outputs": [],
   "source": [
    "svr_params = {\n",
    "   # 'C' : np.logspace(-3,3,7),\n",
    "    'kernel' : ['linear', 'poly', 'rbf', 'sigmoid']\n",
    "}"
   ]
  },
  {
   "cell_type": "code",
   "execution_count": 23,
   "metadata": {},
   "outputs": [],
   "source": [
    "svr_gs = GridSearchCV(SVR(), param_grid= svr_params, return_train_score=True)"
   ]
  },
  {
   "cell_type": "code",
   "execution_count": null,
   "metadata": {},
   "outputs": [],
   "source": [
    "svr_gs.fit(X_train, y_train)\n",
    "cv_results = pd.DataFrame(svr_gs.cv_results_)\n",
    "cv_results.sort_values('mean_test_score', ascending=False).head()"
   ]
  },
  {
   "cell_type": "code",
   "execution_count": null,
   "metadata": {},
   "outputs": [],
   "source": [
    "svr_params = {\n",
    "    'C' : np.logspace(1,3,3),\n",
    "    'kernel' : ['linear', 'sigmoid']\n",
    "}"
   ]
  },
  {
   "cell_type": "code",
   "execution_count": null,
   "metadata": {},
   "outputs": [],
   "source": [
    "svr_gs = GridSearchCV(SVR(), param_grid= svr_params, return_train_score=True)"
   ]
  },
  {
   "cell_type": "code",
   "execution_count": null,
   "metadata": {},
   "outputs": [],
   "source": [
    "svr_gs.fit(X_train, y_train)"
   ]
  },
  {
   "cell_type": "code",
   "execution_count": null,
   "metadata": {},
   "outputs": [],
   "source": [
    "cv_results = pd.DataFrame(svr_gs.cv_results_)\n",
    "cv_results.sort_values('mean_test_score', ascending=False).head()"
   ]
  },
  {
   "cell_type": "code",
   "execution_count": null,
   "metadata": {},
   "outputs": [],
   "source": [
    "svr_gs.best_params_"
   ]
  },
  {
   "cell_type": "code",
   "execution_count": null,
   "metadata": {},
   "outputs": [],
   "source": [
    "svr_gs.best_score_"
   ]
  },
  {
   "cell_type": "code",
   "execution_count": null,
   "metadata": {},
   "outputs": [],
   "source": []
  },
  {
   "cell_type": "code",
   "execution_count": null,
   "metadata": {},
   "outputs": [],
   "source": [
    "def complexity_curve(results, model, tuning_param, stationary_param, stationary_val):\n",
    "    (results[results['{}'.format(stationary_param)]=='{}'.format(stationary_val)]\n",
    "     [['mean_train_score','mean_test_score','{}'.format(tuning_param)]]\n",
    "     .plot(x='{}'.format(tuning_param)))\n",
    "                     \n",
    "    plt.axvline(results[results['{}'.format(stationary_param)]=='{}'.format(stationary_val)]\n",
    "                ['mean_test_score'].max(), c='r', ls='--', label = 'optimal C')\n",
    "    plt.title('Complexity Curve for {}'.format(model))"
   ]
  },
  {
   "cell_type": "code",
   "execution_count": null,
   "metadata": {},
   "outputs": [],
   "source": [
    "complexity_curve(cv_results, Ridge, param_alpha, param_solver, saga)"
   ]
  }
 ],
 "metadata": {
  "kernelspec": {
   "display_name": "Python 3",
   "language": "python",
   "name": "python3"
  },
  "language_info": {
   "codemirror_mode": {
    "name": "ipython",
    "version": 3
   },
   "file_extension": ".py",
   "mimetype": "text/x-python",
   "name": "python",
   "nbconvert_exporter": "python",
   "pygments_lexer": "ipython3",
   "version": "3.6.4"
  }
 },
 "nbformat": 4,
 "nbformat_minor": 2
}
