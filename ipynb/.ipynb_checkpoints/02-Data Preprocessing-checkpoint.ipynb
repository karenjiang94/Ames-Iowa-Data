{
 "cells": [
  {
   "cell_type": "markdown",
   "metadata": {},
   "source": [
    "### Deskew and Scale\n",
    "\n",
    "For numerical features, we can look at the distributions, observe the skew and correct them with de-skewing methods. "
   ]
  },
  {
   "cell_type": "code",
   "execution_count": 25,
   "metadata": {},
   "outputs": [],
   "source": [
    "source('../src/load_data.r')\n",
    "source('../src/multiplot.r')"
   ]
  },
  {
   "cell_type": "code",
   "execution_count": 26,
   "metadata": {},
   "outputs": [],
   "source": [
    "library(psych)"
   ]
  },
  {
   "cell_type": "code",
   "execution_count": 27,
   "metadata": {},
   "outputs": [
    {
     "data": {
      "text/html": [
       "<table>\n",
       "<tbody>\n",
       "\t<tr><td>1451</td><td>23  </td></tr>\n",
       "</tbody>\n",
       "</table>\n"
      ],
      "text/latex": [
       "\\begin{tabular}{ll}\n",
       "\t 1451 & 23  \\\\\n",
       "\\end{tabular}\n"
      ],
      "text/markdown": [
       "\n",
       "| 1451 | 23   | \n",
       "\n",
       "\n"
      ],
      "text/plain": [
       "     [,1] [,2]\n",
       "[1,] 1451 23  "
      ]
     },
     "metadata": {},
     "output_type": "display_data"
    },
    {
     "data": {
      "text/html": [
       "<table>\n",
       "<thead><tr><th scope=col>LotFrontage</th><th scope=col>LotArea</th><th scope=col>YearBuilt</th><th scope=col>YearRemodAdd</th><th scope=col>MasVnrArea</th><th scope=col>BsmtFinSF1</th><th scope=col>BsmtFinSF2</th><th scope=col>BsmtUnfSF</th><th scope=col>TotalBsmtSF</th><th scope=col>FirstFlrSF</th><th scope=col>⋯</th><th scope=col>GarageYrBlt</th><th scope=col>GarageArea</th><th scope=col>WoodDeckSF</th><th scope=col>OpenPorchSF</th><th scope=col>EnclosedPorch</th><th scope=col>ThreeSsnPorch</th><th scope=col>ScreenPorch</th><th scope=col>PoolArea</th><th scope=col>MiscVal</th><th scope=col>YrSold</th></tr></thead>\n",
       "<tbody>\n",
       "\t<tr><td>65   </td><td> 8450</td><td>2003 </td><td>2003 </td><td>196  </td><td>706  </td><td>0    </td><td>150  </td><td> 856 </td><td> 856 </td><td>⋯    </td><td>2003 </td><td>548  </td><td>  0  </td><td>61   </td><td>  0  </td><td>  0  </td><td>0    </td><td>0    </td><td>  0  </td><td>2008 </td></tr>\n",
       "\t<tr><td>80   </td><td> 9600</td><td>1976 </td><td>1976 </td><td>  0  </td><td>978  </td><td>0    </td><td>284  </td><td>1262 </td><td>1262 </td><td>⋯    </td><td>1976 </td><td>460  </td><td>298  </td><td> 0   </td><td>  0  </td><td>  0  </td><td>0    </td><td>0    </td><td>  0  </td><td>2007 </td></tr>\n",
       "\t<tr><td>68   </td><td>11250</td><td>2001 </td><td>2002 </td><td>162  </td><td>486  </td><td>0    </td><td>434  </td><td> 920 </td><td> 920 </td><td>⋯    </td><td>2001 </td><td>608  </td><td>  0  </td><td>42   </td><td>  0  </td><td>  0  </td><td>0    </td><td>0    </td><td>  0  </td><td>2008 </td></tr>\n",
       "\t<tr><td>60   </td><td> 9550</td><td>1915 </td><td>1970 </td><td>  0  </td><td>216  </td><td>0    </td><td>540  </td><td> 756 </td><td> 961 </td><td>⋯    </td><td>1998 </td><td>642  </td><td>  0  </td><td>35   </td><td>272  </td><td>  0  </td><td>0    </td><td>0    </td><td>  0  </td><td>2006 </td></tr>\n",
       "\t<tr><td>84   </td><td>14260</td><td>2000 </td><td>2000 </td><td>350  </td><td>655  </td><td>0    </td><td>490  </td><td>1145 </td><td>1145 </td><td>⋯    </td><td>2000 </td><td>836  </td><td>192  </td><td>84   </td><td>  0  </td><td>  0  </td><td>0    </td><td>0    </td><td>  0  </td><td>2008 </td></tr>\n",
       "\t<tr><td>85   </td><td>14115</td><td>1993 </td><td>1995 </td><td>  0  </td><td>732  </td><td>0    </td><td> 64  </td><td> 796 </td><td> 796 </td><td>⋯    </td><td>1993 </td><td>480  </td><td> 40  </td><td>30   </td><td>  0  </td><td>320  </td><td>0    </td><td>0    </td><td>700  </td><td>2009 </td></tr>\n",
       "</tbody>\n",
       "</table>\n"
      ],
      "text/latex": [
       "\\begin{tabular}{r|lllllllllllllllllllllll}\n",
       " LotFrontage & LotArea & YearBuilt & YearRemodAdd & MasVnrArea & BsmtFinSF1 & BsmtFinSF2 & BsmtUnfSF & TotalBsmtSF & FirstFlrSF & ⋯ & GarageYrBlt & GarageArea & WoodDeckSF & OpenPorchSF & EnclosedPorch & ThreeSsnPorch & ScreenPorch & PoolArea & MiscVal & YrSold\\\\\n",
       "\\hline\n",
       "\t 65    &  8450 & 2003  & 2003  & 196   & 706   & 0     & 150   &  856  &  856  & ⋯     & 2003  & 548   &   0   & 61    &   0   &   0   & 0     & 0     &   0   & 2008 \\\\\n",
       "\t 80    &  9600 & 1976  & 1976  &   0   & 978   & 0     & 284   & 1262  & 1262  & ⋯     & 1976  & 460   & 298   &  0    &   0   &   0   & 0     & 0     &   0   & 2007 \\\\\n",
       "\t 68    & 11250 & 2001  & 2002  & 162   & 486   & 0     & 434   &  920  &  920  & ⋯     & 2001  & 608   &   0   & 42    &   0   &   0   & 0     & 0     &   0   & 2008 \\\\\n",
       "\t 60    &  9550 & 1915  & 1970  &   0   & 216   & 0     & 540   &  756  &  961  & ⋯     & 1998  & 642   &   0   & 35    & 272   &   0   & 0     & 0     &   0   & 2006 \\\\\n",
       "\t 84    & 14260 & 2000  & 2000  & 350   & 655   & 0     & 490   & 1145  & 1145  & ⋯     & 2000  & 836   & 192   & 84    &   0   &   0   & 0     & 0     &   0   & 2008 \\\\\n",
       "\t 85    & 14115 & 1993  & 1995  &   0   & 732   & 0     &  64   &  796  &  796  & ⋯     & 1993  & 480   &  40   & 30    &   0   & 320   & 0     & 0     & 700   & 2009 \\\\\n",
       "\\end{tabular}\n"
      ],
      "text/markdown": [
       "\n",
       "LotFrontage | LotArea | YearBuilt | YearRemodAdd | MasVnrArea | BsmtFinSF1 | BsmtFinSF2 | BsmtUnfSF | TotalBsmtSF | FirstFlrSF | ⋯ | GarageYrBlt | GarageArea | WoodDeckSF | OpenPorchSF | EnclosedPorch | ThreeSsnPorch | ScreenPorch | PoolArea | MiscVal | YrSold | \n",
       "|---|---|---|---|---|---|\n",
       "| 65    |  8450 | 2003  | 2003  | 196   | 706   | 0     | 150   |  856  |  856  | ⋯     | 2003  | 548   |   0   | 61    |   0   |   0   | 0     | 0     |   0   | 2008  | \n",
       "| 80    |  9600 | 1976  | 1976  |   0   | 978   | 0     | 284   | 1262  | 1262  | ⋯     | 1976  | 460   | 298   |  0    |   0   |   0   | 0     | 0     |   0   | 2007  | \n",
       "| 68    | 11250 | 2001  | 2002  | 162   | 486   | 0     | 434   |  920  |  920  | ⋯     | 2001  | 608   |   0   | 42    |   0   |   0   | 0     | 0     |   0   | 2008  | \n",
       "| 60    |  9550 | 1915  | 1970  |   0   | 216   | 0     | 540   |  756  |  961  | ⋯     | 1998  | 642   |   0   | 35    | 272   |   0   | 0     | 0     |   0   | 2006  | \n",
       "| 84    | 14260 | 2000  | 2000  | 350   | 655   | 0     | 490   | 1145  | 1145  | ⋯     | 2000  | 836   | 192   | 84    |   0   |   0   | 0     | 0     |   0   | 2008  | \n",
       "| 85    | 14115 | 1993  | 1995  |   0   | 732   | 0     |  64   |  796  |  796  | ⋯     | 1993  | 480   |  40   | 30    |   0   | 320   | 0     | 0     | 700   | 2009  | \n",
       "\n",
       "\n"
      ],
      "text/plain": [
       "  LotFrontage LotArea YearBuilt YearRemodAdd MasVnrArea BsmtFinSF1 BsmtFinSF2\n",
       "1 65           8450   2003      2003         196        706        0         \n",
       "2 80           9600   1976      1976           0        978        0         \n",
       "3 68          11250   2001      2002         162        486        0         \n",
       "4 60           9550   1915      1970           0        216        0         \n",
       "5 84          14260   2000      2000         350        655        0         \n",
       "6 85          14115   1993      1995           0        732        0         \n",
       "  BsmtUnfSF TotalBsmtSF FirstFlrSF ⋯ GarageYrBlt GarageArea WoodDeckSF\n",
       "1 150        856         856       ⋯ 2003        548          0       \n",
       "2 284       1262        1262       ⋯ 1976        460        298       \n",
       "3 434        920         920       ⋯ 2001        608          0       \n",
       "4 540        756         961       ⋯ 1998        642          0       \n",
       "5 490       1145        1145       ⋯ 2000        836        192       \n",
       "6  64        796         796       ⋯ 1993        480         40       \n",
       "  OpenPorchSF EnclosedPorch ThreeSsnPorch ScreenPorch PoolArea MiscVal YrSold\n",
       "1 61            0             0           0           0          0     2008  \n",
       "2  0            0             0           0           0          0     2007  \n",
       "3 42            0             0           0           0          0     2008  \n",
       "4 35          272             0           0           0          0     2006  \n",
       "5 84            0             0           0           0          0     2008  \n",
       "6 30            0           320           0           0        700     2009  "
      ]
     },
     "metadata": {},
     "output_type": "display_data"
    }
   ],
   "source": [
    "t(dim(numeric_df))\n",
    "head(numeric_df)"
   ]
  },
  {
   "cell_type": "code",
   "execution_count": 28,
   "metadata": {},
   "outputs": [
    {
     "data": {
      "text/html": [
       "<table>\n",
       "<tbody>\n",
       "\t<tr><td>LotFrontage  </td><td>LotArea      </td><td>YearBuilt    </td><td>YearRemodAdd </td><td>MasVnrArea   </td><td>BsmtFinSF1   </td><td>BsmtFinSF2   </td><td>BsmtUnfSF    </td><td>TotalBsmtSF  </td><td>FirstFlrSF   </td><td>⋯            </td><td>GarageYrBlt  </td><td>GarageArea   </td><td>WoodDeckSF   </td><td>OpenPorchSF  </td><td>EnclosedPorch</td><td>ThreeSsnPorch</td><td>ScreenPorch  </td><td>PoolArea     </td><td>MiscVal      </td><td>YrSold       </td></tr>\n",
       "</tbody>\n",
       "</table>\n"
      ],
      "text/latex": [
       "\\begin{tabular}{lllllllllllllllllllllll}\n",
       "\t LotFrontage   & LotArea       & YearBuilt     & YearRemodAdd  & MasVnrArea    & BsmtFinSF1    & BsmtFinSF2    & BsmtUnfSF     & TotalBsmtSF   & FirstFlrSF    & ⋯             & GarageYrBlt   & GarageArea    & WoodDeckSF    & OpenPorchSF   & EnclosedPorch & ThreeSsnPorch & ScreenPorch   & PoolArea      & MiscVal       & YrSold       \\\\\n",
       "\\end{tabular}\n"
      ],
      "text/markdown": [
       "\n",
       "| LotFrontage   | LotArea       | YearBuilt     | YearRemodAdd  | MasVnrArea    | BsmtFinSF1    | BsmtFinSF2    | BsmtUnfSF     | TotalBsmtSF   | FirstFlrSF    | ⋯             | GarageYrBlt   | GarageArea    | WoodDeckSF    | OpenPorchSF   | EnclosedPorch | ThreeSsnPorch | ScreenPorch   | PoolArea      | MiscVal       | YrSold        | \n",
       "\n",
       "\n"
      ],
      "text/plain": [
       "     [,1]        [,2]    [,3]      [,4]         [,5]       [,6]      \n",
       "[1,] LotFrontage LotArea YearBuilt YearRemodAdd MasVnrArea BsmtFinSF1\n",
       "     [,7]       [,8]      [,9]        [,10]      [,11] [,12]       [,13]     \n",
       "[1,] BsmtFinSF2 BsmtUnfSF TotalBsmtSF FirstFlrSF ⋯     GarageYrBlt GarageArea\n",
       "     [,14]      [,15]       [,16]         [,17]         [,18]       [,19]   \n",
       "[1,] WoodDeckSF OpenPorchSF EnclosedPorch ThreeSsnPorch ScreenPorch PoolArea\n",
       "     [,20]   [,21] \n",
       "[1,] MiscVal YrSold"
      ]
     },
     "metadata": {},
     "output_type": "display_data"
    }
   ],
   "source": [
    "t(colnames(numeric_df))"
   ]
  },
  {
   "cell_type": "markdown",
   "metadata": {},
   "source": [
    "### Managing 0s: Numeric Features Processing\n",
    "\n",
    "Here we are determining which numeric features contain zeros. For features that are predominately 0, we might consider turning that numeric feature into a categorical feature by either changing them to bools or by binning them.\n",
    "\n",
    "#### >=2/3 of values are 0s\n",
    "\n",
    "`mostly_zeros` : If >=2/3 of the values are 0s, we will turn the feature into **booleans**.\n",
    "\n",
    "#### Between >1/3 and <2/3 of the values are 0s\n",
    "\n",
    "`some_zeros` : If between >1/3 and <2/3 of the values are 0s, we will **bin** that feature. \n",
    "\n",
    "The binning method we will use creates a bin for all 0 values, then determines to range by subtracting the `min` from the `max`. The range is then divided into 4 bins, which the rest of the values will be placed.\n",
    "\n",
    "#### <=1/3 of the values are 0s\n",
    "\n",
    "`few_zeros` : If <=1/3 of the values are 0s, we will leave the feature as is.\n"
   ]
  },
  {
   "cell_type": "code",
   "execution_count": 29,
   "metadata": {},
   "outputs": [
    {
     "data": {
      "text/html": [
       "<table>\n",
       "<thead><tr><th scope=col>LotFrontage</th><th scope=col>LotArea</th><th scope=col>YearBuilt</th><th scope=col>YearRemodAdd</th><th scope=col>MasVnrArea</th><th scope=col>BsmtFinSF1</th><th scope=col>BsmtFinSF2</th><th scope=col>BsmtUnfSF</th><th scope=col>TotalBsmtSF</th><th scope=col>FirstFlrSF</th><th scope=col>⋯</th><th scope=col>GarageYrBlt</th><th scope=col>GarageArea</th><th scope=col>WoodDeckSF</th><th scope=col>OpenPorchSF</th><th scope=col>EnclosedPorch</th><th scope=col>ThreeSsnPorch</th><th scope=col>ScreenPorch</th><th scope=col>PoolArea</th><th scope=col>MiscVal</th><th scope=col>YrSold</th></tr></thead>\n",
       "<tbody>\n",
       "\t<tr><td>0   </td><td>0   </td><td>0   </td><td>0   </td><td>860 </td><td>464 </td><td>1284</td><td>118 </td><td>37  </td><td>0   </td><td>⋯   </td><td>0   </td><td>81  </td><td>755 </td><td>653 </td><td>1244</td><td>1427</td><td>1335</td><td>1444</td><td>1399</td><td>0   </td></tr>\n",
       "</tbody>\n",
       "</table>\n"
      ],
      "text/latex": [
       "\\begin{tabular}{lllllllllllllllllllllll}\n",
       " LotFrontage & LotArea & YearBuilt & YearRemodAdd & MasVnrArea & BsmtFinSF1 & BsmtFinSF2 & BsmtUnfSF & TotalBsmtSF & FirstFlrSF & ⋯ & GarageYrBlt & GarageArea & WoodDeckSF & OpenPorchSF & EnclosedPorch & ThreeSsnPorch & ScreenPorch & PoolArea & MiscVal & YrSold\\\\\n",
       "\\hline\n",
       "\t 0    & 0    & 0    & 0    & 860  & 464  & 1284 & 118  & 37   & 0    & ⋯    & 0    & 81   & 755  & 653  & 1244 & 1427 & 1335 & 1444 & 1399 & 0   \\\\\n",
       "\\end{tabular}\n"
      ],
      "text/markdown": [
       "\n",
       "LotFrontage | LotArea | YearBuilt | YearRemodAdd | MasVnrArea | BsmtFinSF1 | BsmtFinSF2 | BsmtUnfSF | TotalBsmtSF | FirstFlrSF | ⋯ | GarageYrBlt | GarageArea | WoodDeckSF | OpenPorchSF | EnclosedPorch | ThreeSsnPorch | ScreenPorch | PoolArea | MiscVal | YrSold | \n",
       "|---|\n",
       "| 0    | 0    | 0    | 0    | 860  | 464  | 1284 | 118  | 37   | 0    | ⋯    | 0    | 81   | 755  | 653  | 1244 | 1427 | 1335 | 1444 | 1399 | 0    | \n",
       "\n",
       "\n"
      ],
      "text/plain": [
       "     LotFrontage LotArea YearBuilt YearRemodAdd MasVnrArea BsmtFinSF1\n",
       "[1,] 0           0       0         0            860        464       \n",
       "     BsmtFinSF2 BsmtUnfSF TotalBsmtSF FirstFlrSF ⋯ GarageYrBlt GarageArea\n",
       "[1,] 1284       118       37          0          ⋯ 0           81        \n",
       "     WoodDeckSF OpenPorchSF EnclosedPorch ThreeSsnPorch ScreenPorch PoolArea\n",
       "[1,] 755        653         1244          1427          1335        1444    \n",
       "     MiscVal YrSold\n",
       "[1,] 1399    0     "
      ]
     },
     "metadata": {},
     "output_type": "display_data"
    }
   ],
   "source": [
    "has_zeros <- function(dataframe){\n",
    "    column_sums = colSums(dataframe == 0)\n",
    "    return(t(column_sums))\n",
    "}\n",
    "\n",
    "has_zeros(numeric_df)"
   ]
  },
  {
   "cell_type": "code",
   "execution_count": 41,
   "metadata": {},
   "outputs": [],
   "source": [
    "get_mostly_zeros <- function(dataframe){\n",
    "    mostly_zeros_df <- has_zeros(dataframe) >= (1451/3*2) \n",
    "    return(dataframe[,mostly_zeros_df])\n",
    "}\n",
    "\n",
    "get_some_zeros <- function(dataframe){\n",
    "    some_zeros_df <- has_zeros(dataframe) > (1451/3) & has_zeros(dataframe) <(1451/3*2)\n",
    "    return(dataframe[,some_zeros_df])\n",
    "}\n",
    "\n",
    "get_few_zeros <- function(dataframe){\n",
    "    few_zeros_df <- has_zeros(dataframe) <= (1451/3) \n",
    "    return(dataframe[,few_zeros_df])\n",
    "}"
   ]
  },
  {
   "cell_type": "code",
   "execution_count": 44,
   "metadata": {},
   "outputs": [
    {
     "data": {
      "text/html": [
       "<table>\n",
       "<tbody>\n",
       "\t<tr><td>BsmtFinSF2   </td><td>LowQualFinSF </td><td>EnclosedPorch</td><td>ThreeSsnPorch</td><td>ScreenPorch  </td><td>PoolArea     </td><td>MiscVal      </td></tr>\n",
       "</tbody>\n",
       "</table>\n"
      ],
      "text/latex": [
       "\\begin{tabular}{lllllll}\n",
       "\t BsmtFinSF2    & LowQualFinSF  & EnclosedPorch & ThreeSsnPorch & ScreenPorch   & PoolArea      & MiscVal      \\\\\n",
       "\\end{tabular}\n"
      ],
      "text/markdown": [
       "\n",
       "| BsmtFinSF2    | LowQualFinSF  | EnclosedPorch | ThreeSsnPorch | ScreenPorch   | PoolArea      | MiscVal       | \n",
       "\n",
       "\n"
      ],
      "text/plain": [
       "     [,1]       [,2]         [,3]          [,4]          [,5]        [,6]    \n",
       "[1,] BsmtFinSF2 LowQualFinSF EnclosedPorch ThreeSsnPorch ScreenPorch PoolArea\n",
       "     [,7]   \n",
       "[1,] MiscVal"
      ]
     },
     "metadata": {},
     "output_type": "display_data"
    },
    {
     "data": {
      "text/html": [
       "<table>\n",
       "<tbody>\n",
       "\t<tr><td>MasVnrArea </td><td>SecondFlrSF</td><td>WoodDeckSF </td><td>OpenPorchSF</td></tr>\n",
       "</tbody>\n",
       "</table>\n"
      ],
      "text/latex": [
       "\\begin{tabular}{llll}\n",
       "\t MasVnrArea  & SecondFlrSF & WoodDeckSF  & OpenPorchSF\\\\\n",
       "\\end{tabular}\n"
      ],
      "text/markdown": [
       "\n",
       "| MasVnrArea  | SecondFlrSF | WoodDeckSF  | OpenPorchSF | \n",
       "\n",
       "\n"
      ],
      "text/plain": [
       "     [,1]       [,2]        [,3]       [,4]       \n",
       "[1,] MasVnrArea SecondFlrSF WoodDeckSF OpenPorchSF"
      ]
     },
     "metadata": {},
     "output_type": "display_data"
    },
    {
     "data": {
      "text/html": [
       "<table>\n",
       "<tbody>\n",
       "\t<tr><td>LotFrontage </td><td>LotArea     </td><td>YearBuilt   </td><td>YearRemodAdd</td><td>BsmtFinSF1  </td><td>BsmtUnfSF   </td><td>TotalBsmtSF </td><td>FirstFlrSF  </td><td>GrLivArea   </td><td>GarageYrBlt </td><td>GarageArea  </td><td>YrSold      </td></tr>\n",
       "</tbody>\n",
       "</table>\n"
      ],
      "text/latex": [
       "\\begin{tabular}{llllllllllll}\n",
       "\t LotFrontage  & LotArea      & YearBuilt    & YearRemodAdd & BsmtFinSF1   & BsmtUnfSF    & TotalBsmtSF  & FirstFlrSF   & GrLivArea    & GarageYrBlt  & GarageArea   & YrSold      \\\\\n",
       "\\end{tabular}\n"
      ],
      "text/markdown": [
       "\n",
       "| LotFrontage  | LotArea      | YearBuilt    | YearRemodAdd | BsmtFinSF1   | BsmtUnfSF    | TotalBsmtSF  | FirstFlrSF   | GrLivArea    | GarageYrBlt  | GarageArea   | YrSold       | \n",
       "\n",
       "\n"
      ],
      "text/plain": [
       "     [,1]        [,2]    [,3]      [,4]         [,5]       [,6]     \n",
       "[1,] LotFrontage LotArea YearBuilt YearRemodAdd BsmtFinSF1 BsmtUnfSF\n",
       "     [,7]        [,8]       [,9]      [,10]       [,11]      [,12] \n",
       "[1,] TotalBsmtSF FirstFlrSF GrLivArea GarageYrBlt GarageArea YrSold"
      ]
     },
     "metadata": {},
     "output_type": "display_data"
    }
   ],
   "source": [
    "mostly_zeros <- get_mostly_zeros(numeric_df)\n",
    "some_zeros <- get_some_zeros(numeric_df)\n",
    "few_zeros <- get_few_zeros(numeric_df)\n",
    "\n",
    "t(colnames(mostly_zeros))\n",
    "t(colnames(some_zeros))\n",
    "t(colnames(few_zeros))"
   ]
  },
  {
   "cell_type": "code",
   "execution_count": 53,
   "metadata": {},
   "outputs": [],
   "source": [
    "turn_numeric_to_bool <- function(feature){\n",
    "    \n",
    "    return(bool_feat)\n",
    "}"
   ]
  },
  {
   "cell_type": "code",
   "execution_count": 54,
   "metadata": {},
   "outputs": [
    {
     "ename": "ERROR",
     "evalue": "Error in feature[, feature != 0]: incorrect number of dimensions\n",
     "execution_count": 54,
     "output_type": "error",
     "traceback": [
      "Error in feature[, feature != 0]: incorrect number of dimensions\nTraceback:\n",
      "1. turn_numeric_to_bool(mostly_zeros$ScreenPorch)"
     ]
    }
   ],
   "source": []
  },
  {
   "cell_type": "code",
   "execution_count": null,
   "metadata": {},
   "outputs": [],
   "source": [
    "describe(numeric_mostlynotzeros_df)"
   ]
  },
  {
   "cell_type": "code",
   "execution_count": null,
   "metadata": {},
   "outputs": [],
   "source": [
    "summary(numeric_mostlyzeros_df)"
   ]
  },
  {
   "cell_type": "code",
   "execution_count": null,
   "metadata": {},
   "outputs": [],
   "source": [
    "turn_numeric_to_bin <- function(feature){\n",
    "    temp_df <- feature[feature !=0]\n",
    "    maxval <- max(temp_df)\n",
    "    minval <- min(temp_df)\n",
    "    quart <- (maxval-minval)/4\n",
    "    binvals <- c(-1,minval,minval+quart,minval+2*quart,maxval-quart,maxval)\n",
    "    return(binvals)\n",
    "}\n"
   ]
  },
  {
   "cell_type": "code",
   "execution_count": null,
   "metadata": {},
   "outputs": [],
   "source": [
    "turn_numeric_to_cat <- function(feature){\n",
    "    binval <- turn_numeric_to_bin(feature)\n",
    "    new_feat <- as.factor(.bincode(feature,binval))\n",
    "    binval_string <- toString(binval)\n",
    "    levels(new_feat) <- c(\"0\",\"bin1\",\"bin2\",\"bin3\",\"bin4\" )\n",
    "    return(barplot(table(new_feat)))\n",
    "}\n",
    "\n",
    "turn_numeric_to_cat(numeric_df$ScreenPorch)"
   ]
  },
  {
   "cell_type": "code",
   "execution_count": null,
   "metadata": {},
   "outputs": [],
   "source": []
  }
 ],
 "metadata": {
  "kernelspec": {
   "display_name": "R",
   "language": "R",
   "name": "ir"
  },
  "language_info": {
   "codemirror_mode": "r",
   "file_extension": ".r",
   "mimetype": "text/x-r-source",
   "name": "R",
   "pygments_lexer": "r",
   "version": "3.4.1"
  }
 },
 "nbformat": 4,
 "nbformat_minor": 2
}
