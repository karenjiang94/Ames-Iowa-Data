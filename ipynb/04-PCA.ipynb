{
 "cells": [
  {
   "cell_type": "markdown",
   "metadata": {},
   "source": [
    "## Principal Component Analysis"
   ]
  },
  {
   "cell_type": "code",
   "execution_count": 1,
   "metadata": {},
   "outputs": [],
   "source": [
    "source('../src/load_data.r')\n",
    "source('../src/multiplot.r')"
   ]
  },
  {
   "cell_type": "code",
   "execution_count": 2,
   "metadata": {},
   "outputs": [],
   "source": [
    "train <- read.csv('../data/train.csv')\n",
    "validate <- read.csv('../data/validate.csv')"
   ]
  },
  {
   "cell_type": "code",
   "execution_count": 3,
   "metadata": {},
   "outputs": [],
   "source": [
    "library(ggplot2)\n",
    "library(lattice)"
   ]
  },
  {
   "cell_type": "code",
   "execution_count": 4,
   "metadata": {},
   "outputs": [
    {
     "name": "stderr",
     "output_type": "stream",
     "text": [
      "Updating HTML index of packages in '.Library'\n",
      "Making 'packages.html' ... done\n"
     ]
    }
   ],
   "source": [
    "install.packages('reshape')\n",
    "library(reshape)"
   ]
  },
  {
   "cell_type": "code",
   "execution_count": 5,
   "metadata": {},
   "outputs": [
    {
     "data": {
      "text/html": [
       "<table>\n",
       "<thead><tr><th scope=col>train.BsmtQual.TA</th><th scope=col>train.BsmtQual.Gd</th><th scope=col>train.BsmtQual.Ex</th><th scope=col>train.TotalBsmtSF</th><th scope=col>train.BsmtFinSF1</th><th scope=col>train.BsmtQual.Fa</th><th scope=col>train.BsmtFinType1.GLQ</th><th scope=col>train.GarageType.Attchd</th><th scope=col>train.GarageType.Detchd</th><th scope=col>train.BsmtFinType1.ALQ</th><th scope=col>train.SalePrice</th></tr></thead>\n",
       "<tbody>\n",
       "\t<tr><td>-0.8980076</td><td> 1.1721126</td><td>-0.3001594</td><td>0.1084214 </td><td> 0.7205018</td><td>-0.1571639</td><td> 1.5847981</td><td> 0.8251512</td><td>-0.6028857</td><td>-0.422603 </td><td>208500    </td></tr>\n",
       "\t<tr><td>-0.8980076</td><td> 1.1721126</td><td>-0.3001594</td><td>0.1303386 </td><td> 0.6806608</td><td>-0.1571639</td><td> 1.5847981</td><td> 0.8251512</td><td>-0.6028857</td><td>-0.422603 </td><td>223500    </td></tr>\n",
       "\t<tr><td> 1.1128088</td><td>-0.8525724</td><td>-0.3001594</td><td>0.0706595 </td><td> 0.5941378</td><td>-0.1571639</td><td>-0.6305603</td><td>-1.2110638</td><td> 1.6575461</td><td> 2.364656 </td><td>140000    </td></tr>\n",
       "\t<tr><td>-0.8980076</td><td>-0.8525724</td><td> 3.3292676</td><td>0.3144655 </td><td> 0.7911581</td><td>-0.1571639</td><td> 1.5847981</td><td> 0.8251512</td><td>-0.6028857</td><td>-0.422603 </td><td>307000    </td></tr>\n",
       "\t<tr><td> 1.1128088</td><td>-0.8525724</td><td>-0.3001594</td><td>0.1407318 </td><td>-1.4534423</td><td>-0.1571639</td><td>-0.6305603</td><td>-1.2110638</td><td> 1.6575461</td><td>-0.422603 </td><td>129900    </td></tr>\n",
       "\t<tr><td> 1.1128088</td><td>-0.8525724</td><td>-0.3001594</td><td>0.1529360 </td><td> 0.7404323</td><td>-0.1571639</td><td> 1.5847981</td><td> 0.8251512</td><td>-0.6028857</td><td>-0.422603 </td><td>118000    </td></tr>\n",
       "</tbody>\n",
       "</table>\n"
      ],
      "text/latex": [
       "\\begin{tabular}{r|lllllllllll}\n",
       " train.BsmtQual.TA & train.BsmtQual.Gd & train.BsmtQual.Ex & train.TotalBsmtSF & train.BsmtFinSF1 & train.BsmtQual.Fa & train.BsmtFinType1.GLQ & train.GarageType.Attchd & train.GarageType.Detchd & train.BsmtFinType1.ALQ & train.SalePrice\\\\\n",
       "\\hline\n",
       "\t -0.8980076 &  1.1721126 & -0.3001594 & 0.1084214  &  0.7205018 & -0.1571639 &  1.5847981 &  0.8251512 & -0.6028857 & -0.422603  & 208500    \\\\\n",
       "\t -0.8980076 &  1.1721126 & -0.3001594 & 0.1303386  &  0.6806608 & -0.1571639 &  1.5847981 &  0.8251512 & -0.6028857 & -0.422603  & 223500    \\\\\n",
       "\t  1.1128088 & -0.8525724 & -0.3001594 & 0.0706595  &  0.5941378 & -0.1571639 & -0.6305603 & -1.2110638 &  1.6575461 &  2.364656  & 140000    \\\\\n",
       "\t -0.8980076 & -0.8525724 &  3.3292676 & 0.3144655  &  0.7911581 & -0.1571639 &  1.5847981 &  0.8251512 & -0.6028857 & -0.422603  & 307000    \\\\\n",
       "\t  1.1128088 & -0.8525724 & -0.3001594 & 0.1407318  & -1.4534423 & -0.1571639 & -0.6305603 & -1.2110638 &  1.6575461 & -0.422603  & 129900    \\\\\n",
       "\t  1.1128088 & -0.8525724 & -0.3001594 & 0.1529360  &  0.7404323 & -0.1571639 &  1.5847981 &  0.8251512 & -0.6028857 & -0.422603  & 118000    \\\\\n",
       "\\end{tabular}\n"
      ],
      "text/markdown": [
       "\n",
       "train.BsmtQual.TA | train.BsmtQual.Gd | train.BsmtQual.Ex | train.TotalBsmtSF | train.BsmtFinSF1 | train.BsmtQual.Fa | train.BsmtFinType1.GLQ | train.GarageType.Attchd | train.GarageType.Detchd | train.BsmtFinType1.ALQ | train.SalePrice | \n",
       "|---|---|---|---|---|---|\n",
       "| -0.8980076 |  1.1721126 | -0.3001594 | 0.1084214  |  0.7205018 | -0.1571639 |  1.5847981 |  0.8251512 | -0.6028857 | -0.422603  | 208500     | \n",
       "| -0.8980076 |  1.1721126 | -0.3001594 | 0.1303386  |  0.6806608 | -0.1571639 |  1.5847981 |  0.8251512 | -0.6028857 | -0.422603  | 223500     | \n",
       "|  1.1128088 | -0.8525724 | -0.3001594 | 0.0706595  |  0.5941378 | -0.1571639 | -0.6305603 | -1.2110638 |  1.6575461 |  2.364656  | 140000     | \n",
       "| -0.8980076 | -0.8525724 |  3.3292676 | 0.3144655  |  0.7911581 | -0.1571639 |  1.5847981 |  0.8251512 | -0.6028857 | -0.422603  | 307000     | \n",
       "|  1.1128088 | -0.8525724 | -0.3001594 | 0.1407318  | -1.4534423 | -0.1571639 | -0.6305603 | -1.2110638 |  1.6575461 | -0.422603  | 129900     | \n",
       "|  1.1128088 | -0.8525724 | -0.3001594 | 0.1529360  |  0.7404323 | -0.1571639 |  1.5847981 |  0.8251512 | -0.6028857 | -0.422603  | 118000     | \n",
       "\n",
       "\n"
      ],
      "text/plain": [
       "  train.BsmtQual.TA train.BsmtQual.Gd train.BsmtQual.Ex train.TotalBsmtSF\n",
       "1 -0.8980076         1.1721126        -0.3001594        0.1084214        \n",
       "2 -0.8980076         1.1721126        -0.3001594        0.1303386        \n",
       "3  1.1128088        -0.8525724        -0.3001594        0.0706595        \n",
       "4 -0.8980076        -0.8525724         3.3292676        0.3144655        \n",
       "5  1.1128088        -0.8525724        -0.3001594        0.1407318        \n",
       "6  1.1128088        -0.8525724        -0.3001594        0.1529360        \n",
       "  train.BsmtFinSF1 train.BsmtQual.Fa train.BsmtFinType1.GLQ\n",
       "1  0.7205018       -0.1571639         1.5847981            \n",
       "2  0.6806608       -0.1571639         1.5847981            \n",
       "3  0.5941378       -0.1571639        -0.6305603            \n",
       "4  0.7911581       -0.1571639         1.5847981            \n",
       "5 -1.4534423       -0.1571639        -0.6305603            \n",
       "6  0.7404323       -0.1571639         1.5847981            \n",
       "  train.GarageType.Attchd train.GarageType.Detchd train.BsmtFinType1.ALQ\n",
       "1  0.8251512              -0.6028857              -0.422603             \n",
       "2  0.8251512              -0.6028857              -0.422603             \n",
       "3 -1.2110638               1.6575461               2.364656             \n",
       "4  0.8251512              -0.6028857              -0.422603             \n",
       "5 -1.2110638               1.6575461              -0.422603             \n",
       "6  0.8251512              -0.6028857              -0.422603             \n",
       "  train.SalePrice\n",
       "1 208500         \n",
       "2 223500         \n",
       "3 140000         \n",
       "4 307000         \n",
       "5 129900         \n",
       "6 118000         "
      ]
     },
     "metadata": {},
     "output_type": "display_data"
    },
    {
     "data": {
      "text/html": [
       "<table>\n",
       "<tbody>\n",
       "\t<tr><td>872</td><td>11 </td></tr>\n",
       "</tbody>\n",
       "</table>\n"
      ],
      "text/latex": [
       "\\begin{tabular}{ll}\n",
       "\t 872 & 11 \\\\\n",
       "\\end{tabular}\n"
      ],
      "text/markdown": [
       "\n",
       "| 872 | 11  | \n",
       "\n",
       "\n"
      ],
      "text/plain": [
       "     [,1] [,2]\n",
       "[1,] 872  11  "
      ]
     },
     "metadata": {},
     "output_type": "display_data"
    }
   ],
   "source": [
    "top_ten_df$X <- NULL\n",
    "head(top_ten_df)\n",
    "t(dim(top_ten_df))\n"
   ]
  },
  {
   "cell_type": "code",
   "execution_count": 6,
   "metadata": {},
   "outputs": [],
   "source": [
    "pca <- princomp(top_ten_df[,1:10], cor = T)"
   ]
  },
  {
   "cell_type": "code",
   "execution_count": 7,
   "metadata": {},
   "outputs": [
    {
     "data": {
      "text/html": [
       "<dl>\n",
       "\t<dt>$names</dt>\n",
       "\t\t<dd><ol class=list-inline>\n",
       "\t<li>'sdev'</li>\n",
       "\t<li>'loadings'</li>\n",
       "\t<li>'center'</li>\n",
       "\t<li>'scale'</li>\n",
       "\t<li>'n.obs'</li>\n",
       "\t<li>'scores'</li>\n",
       "\t<li>'call'</li>\n",
       "</ol>\n",
       "</dd>\n",
       "\t<dt>$class</dt>\n",
       "\t\t<dd>'princomp'</dd>\n",
       "</dl>\n"
      ],
      "text/latex": [
       "\\begin{description}\n",
       "\\item[\\$names] \\begin{enumerate*}\n",
       "\\item 'sdev'\n",
       "\\item 'loadings'\n",
       "\\item 'center'\n",
       "\\item 'scale'\n",
       "\\item 'n.obs'\n",
       "\\item 'scores'\n",
       "\\item 'call'\n",
       "\\end{enumerate*}\n",
       "\n",
       "\\item[\\$class] 'princomp'\n",
       "\\end{description}\n"
      ],
      "text/markdown": [
       "$names\n",
       ":   1. 'sdev'\n",
       "2. 'loadings'\n",
       "3. 'center'\n",
       "4. 'scale'\n",
       "5. 'n.obs'\n",
       "6. 'scores'\n",
       "7. 'call'\n",
       "\n",
       "\n",
       "\n",
       "$class\n",
       ":   'princomp'\n",
       "\n",
       "\n"
      ],
      "text/plain": [
       "$names\n",
       "[1] \"sdev\"     \"loadings\" \"center\"   \"scale\"    \"n.obs\"    \"scores\"   \"call\"    \n",
       "\n",
       "$class\n",
       "[1] \"princomp\"\n"
      ]
     },
     "metadata": {},
     "output_type": "display_data"
    }
   ],
   "source": [
    "attributes(pca)"
   ]
  },
  {
   "cell_type": "code",
   "execution_count": 8,
   "metadata": {},
   "outputs": [
    {
     "data": {
      "text/plain": [
       "Importance of components:\n",
       "                          Comp.1    Comp.2    Comp.3    Comp.4    Comp.5\n",
       "Standard deviation     1.6773975 1.3006295 1.1178035 1.0586737 1.0001966\n",
       "Proportion of Variance 0.2813662 0.1691637 0.1249485 0.1120790 0.1000393\n",
       "Cumulative Proportion  0.2813662 0.4505299 0.5754784 0.6875574 0.7875967\n",
       "                           Comp.6     Comp.7     Comp.8     Comp.9      Comp.10\n",
       "Standard deviation     0.94727631 0.85260094 0.50946586 0.48980121 1.764305e-02\n",
       "Proportion of Variance 0.08973324 0.07269284 0.02595555 0.02399052 3.112773e-05\n",
       "Cumulative Proportion  0.87732997 0.95002280 0.97597835 0.99996887 1.000000e+00"
      ]
     },
     "metadata": {},
     "output_type": "display_data"
    }
   ],
   "source": [
    "summary(pca)\n"
   ]
  },
  {
   "cell_type": "code",
   "execution_count": 9,
   "metadata": {},
   "outputs": [],
   "source": [
    "eigs <- pca$sdev^2\n",
    "prop_explained_variance <- eigs/sum(eigs)"
   ]
  },
  {
   "cell_type": "code",
   "execution_count": 10,
   "metadata": {},
   "outputs": [],
   "source": [
    "sd <- with(pca, unclass(sdev))\n",
    "sd <- as.data.frame(sd)\n",
    "# screeplot(prin_comp, npcs = min(10, length(prin_comp$sdev)), type=c(\"barplot\", \"lines\"))"
   ]
  },
  {
   "cell_type": "code",
   "execution_count": 11,
   "metadata": {},
   "outputs": [],
   "source": [
    "load <- with(pca, unclass(loadings))\n",
    "load <- as.data.frame(t(load))"
   ]
  },
  {
   "cell_type": "code",
   "execution_count": 12,
   "metadata": {},
   "outputs": [],
   "source": [
    "load$id <- c('Comp01',\n",
    "             'Comp02',\n",
    "             'Comp03',\n",
    "             'Comp04',\n",
    "             'Comp05',\n",
    "             'Comp06',\n",
    "             'Comp07',\n",
    "             'Comp08',\n",
    "             'Comp09',\n",
    "             'Comp10')"
   ]
  },
  {
   "cell_type": "code",
   "execution_count": 13,
   "metadata": {},
   "outputs": [
    {
     "data": {
      "text/html": [
       "<table>\n",
       "<thead><tr><th scope=col>id</th><th scope=col>variable</th><th scope=col>value</th></tr></thead>\n",
       "<tbody>\n",
       "\t<tr><td>Comp01           </td><td>train.BsmtQual.TA</td><td> 0.40671570      </td></tr>\n",
       "\t<tr><td>Comp02           </td><td>train.BsmtQual.TA</td><td>-0.46484641      </td></tr>\n",
       "\t<tr><td>Comp03           </td><td>train.BsmtQual.TA</td><td>-0.04700892      </td></tr>\n",
       "\t<tr><td>Comp04           </td><td>train.BsmtQual.TA</td><td> 0.05092024      </td></tr>\n",
       "\t<tr><td>Comp05           </td><td>train.BsmtQual.TA</td><td>-0.11162789      </td></tr>\n",
       "\t<tr><td>Comp06           </td><td>train.BsmtQual.TA</td><td> 0.33569226      </td></tr>\n",
       "</tbody>\n",
       "</table>\n"
      ],
      "text/latex": [
       "\\begin{tabular}{r|lll}\n",
       " id & variable & value\\\\\n",
       "\\hline\n",
       "\t Comp01            & train.BsmtQual.TA &  0.40671570      \\\\\n",
       "\t Comp02            & train.BsmtQual.TA & -0.46484641      \\\\\n",
       "\t Comp03            & train.BsmtQual.TA & -0.04700892      \\\\\n",
       "\t Comp04            & train.BsmtQual.TA &  0.05092024      \\\\\n",
       "\t Comp05            & train.BsmtQual.TA & -0.11162789      \\\\\n",
       "\t Comp06            & train.BsmtQual.TA &  0.33569226      \\\\\n",
       "\\end{tabular}\n"
      ],
      "text/markdown": [
       "\n",
       "id | variable | value | \n",
       "|---|---|---|---|---|---|\n",
       "| Comp01            | train.BsmtQual.TA |  0.40671570       | \n",
       "| Comp02            | train.BsmtQual.TA | -0.46484641       | \n",
       "| Comp03            | train.BsmtQual.TA | -0.04700892       | \n",
       "| Comp04            | train.BsmtQual.TA |  0.05092024       | \n",
       "| Comp05            | train.BsmtQual.TA | -0.11162789       | \n",
       "| Comp06            | train.BsmtQual.TA |  0.33569226       | \n",
       "\n",
       "\n"
      ],
      "text/plain": [
       "  id     variable          value      \n",
       "1 Comp01 train.BsmtQual.TA  0.40671570\n",
       "2 Comp02 train.BsmtQual.TA -0.46484641\n",
       "3 Comp03 train.BsmtQual.TA -0.04700892\n",
       "4 Comp04 train.BsmtQual.TA  0.05092024\n",
       "5 Comp05 train.BsmtQual.TA -0.11162789\n",
       "6 Comp06 train.BsmtQual.TA  0.33569226"
      ]
     },
     "metadata": {},
     "output_type": "display_data"
    }
   ],
   "source": [
    "melt_load <- melt(load, id.vars = \"id\")\n",
    "head(melt_load)"
   ]
  },
  {
   "cell_type": "code",
   "execution_count": 14,
   "metadata": {},
   "outputs": [
    {
     "data": {},
     "metadata": {},
     "output_type": "display_data"
    },
    {
     "data": {
      "image/png": "[encoded data removed]",
      "text/plain": [
       "plot without title"
      ]
     },
     "metadata": {},
     "output_type": "display_data",
     "source": "R display func"
    }
   ],
   "source": [
    "ggplot(melt_load, aes(x=factor(id))) +\n",
    "    geom_bar(aes(y = value, \n",
    "                 fill = factor(variable)), \n",
    "             stat = \"identity\", \n",
    "             position = position_dodge(width = 0.6)) \n",
    "# +\n",
    "#     geom_text(data = data.frame(prop_explained_variance),\n",
    "#                 aes(x = prop_explained_variance, label = prop_explained_variance, y = 0.7)\n",
    "# )\n",
    "    "
   ]
  },
  {
   "cell_type": "code",
   "execution_count": 15,
   "metadata": {},
   "outputs": [
    {
     "data": {
      "text/html": [
       "<table>\n",
       "<tbody>\n",
       "\t<tr><th scope=row>Component</th><td>Comp01      </td><td>Comp02      </td><td>Comp03      </td><td>Comp04      </td><td>Comp05      </td><td>Comp06      </td><td>Comp07      </td><td>Comp08      </td><td>Comp09      </td><td>Comp10      </td></tr>\n",
       "\t<tr><th scope=row>PercentExplainedVariance</th><td>28.136622267</td><td>16.916371453</td><td>12.494846593</td><td>11.207900846</td><td>10.003931605</td><td> 8.973324010</td><td> 7.269283622</td><td> 2.595554614</td><td> 2.399052217</td><td> 0.003112773</td></tr>\n",
       "</tbody>\n",
       "</table>\n"
      ],
      "text/latex": [
       "\\begin{tabular}{r|llllllllll}\n",
       "\tComponent & Comp01       & Comp02       & Comp03       & Comp04       & Comp05       & Comp06       & Comp07       & Comp08       & Comp09       & Comp10      \\\\\n",
       "\tPercentExplainedVariance & 28.136622267 & 16.916371453 & 12.494846593 & 11.207900846 & 10.003931605 &  8.973324010 &  7.269283622 &  2.595554614 &  2.399052217 &  0.003112773\\\\\n",
       "\\end{tabular}\n"
      ],
      "text/markdown": [
       "\n",
       "| Component | Comp01       | Comp02       | Comp03       | Comp04       | Comp05       | Comp06       | Comp07       | Comp08       | Comp09       | Comp10       | \n",
       "| PercentExplainedVariance | 28.136622267 | 16.916371453 | 12.494846593 | 11.207900846 | 10.003931605 |  8.973324010 |  7.269283622 |  2.595554614 |  2.399052217 |  0.003112773 | \n",
       "\n",
       "\n"
      ],
      "text/plain": [
       "                         [,1]         [,2]         [,3]         [,4]        \n",
       "Component                Comp01       Comp02       Comp03       Comp04      \n",
       "PercentExplainedVariance 28.136622267 16.916371453 12.494846593 11.207900846\n",
       "                         [,5]         [,6]         [,7]         [,8]        \n",
       "Component                Comp05       Comp06       Comp07       Comp08      \n",
       "PercentExplainedVariance 10.003931605  8.973324010  7.269283622  2.595554614\n",
       "                         [,9]         [,10]       \n",
       "Component                Comp09       Comp10      \n",
       "PercentExplainedVariance  2.399052217  0.003112773"
      ]
     },
     "metadata": {},
     "output_type": "display_data"
    }
   ],
   "source": [
    "Component <- c('Comp01','Comp02','Comp03','Comp04', 'Comp05','Comp06','Comp07','Comp08','Comp09','Comp10')\n",
    "PCA_component <- data.frame(Component)\n",
    "PCA_component$PercentExplainedVariance <- prop_explained_variance*100\n",
    "t(PCA_component)"
   ]
  },
  {
   "cell_type": "markdown",
   "metadata": {},
   "source": [
    "#### PCA Explanation\n",
    "\n",
    "The PCA shows the top 10 most important features, which are:\n",
    "1. Basement Quality: Typical/Average\n",
    "2. Basement Quality: Good\n",
    "3. Basement Quality: Excellent\n",
    "4. Total Basement Square Feet\n",
    "5. Basement Finished Square Feet Type 1\n",
    "6. Basement Quality: Fair\n",
    "7. Basement Finished Type 1: Good Living Quarters\n",
    "8. Garage Type: Attached\n",
    "9. Garage Type: Detatched\n",
    "10. Basement Finished Type 1: Average Living Quarters\n",
    "\n",
    "As shown, most of the important features in determining the SalePrice are primarily related to the Basement conditions and Garage type.A\n",
    "\n",
    "The first principle component suggests that a Typical/Average basement and detached garage might be useful predictors for lowering the cost of the Sale Price. These are inversely related to having Good basement, Good Living Quarters in the finished basement, and an attached garage would increase Sale Price. \n",
    "\n",
    "The second principle component suggest that a Typical/Average basement, the square footage of Type 1 finished basement and Average living quarters in finished basement area vary together."
   ]
  },
  {
   "cell_type": "code",
   "execution_count": null,
   "metadata": {},
   "outputs": [],
   "source": []
  }
 ],
 "metadata": {
  "kernelspec": {
   "display_name": "R",
   "language": "R",
   "name": "ir"
  },
  "language_info": {
   "codemirror_mode": "r",
   "file_extension": ".r",
   "mimetype": "text/x-r-source",
   "name": "R",
   "pygments_lexer": "r",
   "version": "3.4.1"
  }
 },
 "nbformat": 4,
 "nbformat_minor": 2
}
