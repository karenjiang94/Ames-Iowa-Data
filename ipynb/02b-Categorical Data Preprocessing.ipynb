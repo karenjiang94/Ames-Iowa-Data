{
 "cells": [
  {
   "cell_type": "code",
   "execution_count": 1,
   "metadata": {},
   "outputs": [],
   "source": [
    "source('../src/load_data.r')\n",
    "source('../src/multiplot.r')"
   ]
  },
  {
   "cell_type": "code",
   "execution_count": 2,
   "metadata": {},
   "outputs": [
    {
     "data": {
      "text/html": [
       "<table>\n",
       "<thead><tr><th scope=col>MSSubClass</th><th scope=col>MSZoning</th><th scope=col>LotShape</th><th scope=col>LandContour</th><th scope=col>Utilities</th><th scope=col>LotConfig</th><th scope=col>LandSlope</th><th scope=col>Neighborhood</th><th scope=col>Condition1</th><th scope=col>Condition2</th><th scope=col>⋯</th><th scope=col>GarageQual</th><th scope=col>GarageCond</th><th scope=col>PavedDrive</th><th scope=col>PoolQC</th><th scope=col>Fence</th><th scope=col>MiscFeature</th><th scope=col>MoSold</th><th scope=col>YrSold</th><th scope=col>SaleType</th><th scope=col>SaleCondition</th></tr></thead>\n",
       "<tbody>\n",
       "\t<tr><td>60     </td><td>RL     </td><td>Reg    </td><td>Lvl    </td><td>AllPub </td><td>Inside </td><td>Gtl    </td><td>CollgCr</td><td>Norm   </td><td>Norm   </td><td>⋯      </td><td>TA     </td><td>TA     </td><td>Y      </td><td>without</td><td>without</td><td>without</td><td>2      </td><td>2008   </td><td>WD     </td><td>Normal </td></tr>\n",
       "\t<tr><td>20     </td><td>RL     </td><td>Reg    </td><td>Lvl    </td><td>AllPub </td><td>FR2    </td><td>Gtl    </td><td>Veenker</td><td>Feedr  </td><td>Norm   </td><td>⋯      </td><td>TA     </td><td>TA     </td><td>Y      </td><td>without</td><td>without</td><td>without</td><td>5      </td><td>2007   </td><td>WD     </td><td>Normal </td></tr>\n",
       "\t<tr><td>60     </td><td>RL     </td><td>IR1    </td><td>Lvl    </td><td>AllPub </td><td>Inside </td><td>Gtl    </td><td>CollgCr</td><td>Norm   </td><td>Norm   </td><td>⋯      </td><td>TA     </td><td>TA     </td><td>Y      </td><td>without</td><td>without</td><td>without</td><td>9      </td><td>2008   </td><td>WD     </td><td>Normal </td></tr>\n",
       "</tbody>\n",
       "</table>\n"
      ],
      "text/latex": [
       "\\begin{tabular}{r|lllllllllllllllllllllllllllllllllllllllllllllllllllllllll}\n",
       " MSSubClass & MSZoning & LotShape & LandContour & Utilities & LotConfig & LandSlope & Neighborhood & Condition1 & Condition2 & ⋯ & GarageQual & GarageCond & PavedDrive & PoolQC & Fence & MiscFeature & MoSold & YrSold & SaleType & SaleCondition\\\\\n",
       "\\hline\n",
       "\t 60      & RL      & Reg     & Lvl     & AllPub  & Inside  & Gtl     & CollgCr & Norm    & Norm    & ⋯       & TA      & TA      & Y       & without & without & without & 2       & 2008    & WD      & Normal \\\\\n",
       "\t 20      & RL      & Reg     & Lvl     & AllPub  & FR2     & Gtl     & Veenker & Feedr   & Norm    & ⋯       & TA      & TA      & Y       & without & without & without & 5       & 2007    & WD      & Normal \\\\\n",
       "\t 60      & RL      & IR1     & Lvl     & AllPub  & Inside  & Gtl     & CollgCr & Norm    & Norm    & ⋯       & TA      & TA      & Y       & without & without & without & 9       & 2008    & WD      & Normal \\\\\n",
       "\\end{tabular}\n"
      ],
      "text/markdown": [
       "\n",
       "MSSubClass | MSZoning | LotShape | LandContour | Utilities | LotConfig | LandSlope | Neighborhood | Condition1 | Condition2 | ⋯ | GarageQual | GarageCond | PavedDrive | PoolQC | Fence | MiscFeature | MoSold | YrSold | SaleType | SaleCondition | \n",
       "|---|---|---|\n",
       "| 60      | RL      | Reg     | Lvl     | AllPub  | Inside  | Gtl     | CollgCr | Norm    | Norm    | ⋯       | TA      | TA      | Y       | without | without | without | 2       | 2008    | WD      | Normal  | \n",
       "| 20      | RL      | Reg     | Lvl     | AllPub  | FR2     | Gtl     | Veenker | Feedr   | Norm    | ⋯       | TA      | TA      | Y       | without | without | without | 5       | 2007    | WD      | Normal  | \n",
       "| 60      | RL      | IR1     | Lvl     | AllPub  | Inside  | Gtl     | CollgCr | Norm    | Norm    | ⋯       | TA      | TA      | Y       | without | without | without | 9       | 2008    | WD      | Normal  | \n",
       "\n",
       "\n"
      ],
      "text/plain": [
       "  MSSubClass MSZoning LotShape LandContour Utilities LotConfig LandSlope\n",
       "1 60         RL       Reg      Lvl         AllPub    Inside    Gtl      \n",
       "2 20         RL       Reg      Lvl         AllPub    FR2       Gtl      \n",
       "3 60         RL       IR1      Lvl         AllPub    Inside    Gtl      \n",
       "  Neighborhood Condition1 Condition2 ⋯ GarageQual GarageCond PavedDrive PoolQC \n",
       "1 CollgCr      Norm       Norm       ⋯ TA         TA         Y          without\n",
       "2 Veenker      Feedr      Norm       ⋯ TA         TA         Y          without\n",
       "3 CollgCr      Norm       Norm       ⋯ TA         TA         Y          without\n",
       "  Fence   MiscFeature MoSold YrSold SaleType SaleCondition\n",
       "1 without without     2      2008   WD       Normal       \n",
       "2 without without     5      2007   WD       Normal       \n",
       "3 without without     9      2008   WD       Normal       "
      ]
     },
     "metadata": {},
     "output_type": "display_data"
    },
    {
     "data": {
      "text/html": [
       "<table>\n",
       "<tbody>\n",
       "\t<tr><td>1451</td><td>57  </td></tr>\n",
       "</tbody>\n",
       "</table>\n"
      ],
      "text/latex": [
       "\\begin{tabular}{ll}\n",
       "\t 1451 & 57  \\\\\n",
       "\\end{tabular}\n"
      ],
      "text/markdown": [
       "\n",
       "| 1451 | 57   | \n",
       "\n",
       "\n"
      ],
      "text/plain": [
       "     [,1] [,2]\n",
       "[1,] 1451 57  "
      ]
     },
     "metadata": {},
     "output_type": "display_data"
    },
    {
     "data": {
      "text/html": [
       "<table>\n",
       "<thead><tr><th scope=col>X</th><th scope=col>BsmtFinSF2</th><th scope=col>LowQualFinSF</th><th scope=col>EnclosedPorch</th><th scope=col>ThreeSsnPorch</th><th scope=col>ScreenPorch</th><th scope=col>PoolArea</th><th scope=col>MiscVal</th><th scope=col>MasVnrArea</th><th scope=col>SecondFlrSF</th><th scope=col>⋯</th><th scope=col>YearBuilt</th><th scope=col>YearRemodAdd</th><th scope=col>BsmtFinSF1</th><th scope=col>BsmtUnfSF</th><th scope=col>TotalBsmtSF</th><th scope=col>FirstFlrSF</th><th scope=col>GrLivArea</th><th scope=col>GarageYrBlt</th><th scope=col>GarageArea</th><th scope=col>SalePrice</th></tr></thead>\n",
       "<tbody>\n",
       "\t<tr><td>1          </td><td>FALSE      </td><td>FALSE      </td><td>FALSE      </td><td>FALSE      </td><td>FALSE      </td><td>FALSE      </td><td>FALSE      </td><td>1st_bin    </td><td>2nd_bin    </td><td>⋯          </td><td>1.0509849  </td><td> 0.8820760 </td><td>0.7205018  </td><td>0.08917398 </td><td>0.1084214  </td><td>-0.8026317 </td><td> 0.5315369 </td><td> 1.02265460</td><td>0.2771098  </td><td>0.5639683  </td></tr>\n",
       "\t<tr><td>2          </td><td>FALSE      </td><td>FALSE      </td><td>FALSE      </td><td>FALSE      </td><td>FALSE      </td><td>FALSE      </td><td>FALSE      </td><td>0          </td><td>0          </td><td>⋯          </td><td>0.1692304  </td><td>-0.4188065 </td><td>0.7552734  </td><td>0.20492237 </td><td>0.2264173  </td><td> 0.4214040 </td><td>-0.3785471 </td><td>-0.09204807</td><td>0.2390487  </td><td>0.2168273  </td></tr>\n",
       "\t<tr><td>3          </td><td>FALSE      </td><td>FALSE      </td><td>FALSE      </td><td>FALSE      </td><td>FALSE      </td><td>FALSE      </td><td>FALSE      </td><td>1st_bin    </td><td>2nd_bin    </td><td>⋯          </td><td>0.9860786  </td><td> 0.8342087 </td><td>0.6806608  </td><td>0.28181796 </td><td>0.1303386  </td><td>-0.5752722 </td><td> 0.6618057 </td><td> 0.94060083</td><td>0.2997008  </td><td>0.7378659  </td></tr>\n",
       "</tbody>\n",
       "</table>\n"
      ],
      "text/latex": [
       "\\begin{tabular}{r|llllllllllllllllllllllll}\n",
       " X & BsmtFinSF2 & LowQualFinSF & EnclosedPorch & ThreeSsnPorch & ScreenPorch & PoolArea & MiscVal & MasVnrArea & SecondFlrSF & ⋯ & YearBuilt & YearRemodAdd & BsmtFinSF1 & BsmtUnfSF & TotalBsmtSF & FirstFlrSF & GrLivArea & GarageYrBlt & GarageArea & SalePrice\\\\\n",
       "\\hline\n",
       "\t 1           & FALSE       & FALSE       & FALSE       & FALSE       & FALSE       & FALSE       & FALSE       & 1st\\_bin   & 2nd\\_bin   & ⋯           & 1.0509849   &  0.8820760  & 0.7205018   & 0.08917398  & 0.1084214   & -0.8026317  &  0.5315369  &  1.02265460 & 0.2771098   & 0.5639683  \\\\\n",
       "\t 2           & FALSE       & FALSE       & FALSE       & FALSE       & FALSE       & FALSE       & FALSE       & 0           & 0           & ⋯           & 0.1692304   & -0.4188065  & 0.7552734   & 0.20492237  & 0.2264173   &  0.4214040  & -0.3785471  & -0.09204807 & 0.2390487   & 0.2168273  \\\\\n",
       "\t 3           & FALSE       & FALSE       & FALSE       & FALSE       & FALSE       & FALSE       & FALSE       & 1st\\_bin   & 2nd\\_bin   & ⋯           & 0.9860786   &  0.8342087  & 0.6806608   & 0.28181796  & 0.1303386   & -0.5752722  &  0.6618057  &  0.94060083 & 0.2997008   & 0.7378659  \\\\\n",
       "\\end{tabular}\n"
      ],
      "text/markdown": [
       "\n",
       "X | BsmtFinSF2 | LowQualFinSF | EnclosedPorch | ThreeSsnPorch | ScreenPorch | PoolArea | MiscVal | MasVnrArea | SecondFlrSF | ⋯ | YearBuilt | YearRemodAdd | BsmtFinSF1 | BsmtUnfSF | TotalBsmtSF | FirstFlrSF | GrLivArea | GarageYrBlt | GarageArea | SalePrice | \n",
       "|---|---|---|\n",
       "| 1           | FALSE       | FALSE       | FALSE       | FALSE       | FALSE       | FALSE       | FALSE       | 1st_bin     | 2nd_bin     | ⋯           | 1.0509849   |  0.8820760  | 0.7205018   | 0.08917398  | 0.1084214   | -0.8026317  |  0.5315369  |  1.02265460 | 0.2771098   | 0.5639683   | \n",
       "| 2           | FALSE       | FALSE       | FALSE       | FALSE       | FALSE       | FALSE       | FALSE       | 0           | 0           | ⋯           | 0.1692304   | -0.4188065  | 0.7552734   | 0.20492237  | 0.2264173   |  0.4214040  | -0.3785471  | -0.09204807 | 0.2390487   | 0.2168273   | \n",
       "| 3           | FALSE       | FALSE       | FALSE       | FALSE       | FALSE       | FALSE       | FALSE       | 1st_bin     | 2nd_bin     | ⋯           | 0.9860786   |  0.8342087  | 0.6806608   | 0.28181796  | 0.1303386   | -0.5752722  |  0.6618057  |  0.94060083 | 0.2997008   | 0.7378659   | \n",
       "\n",
       "\n"
      ],
      "text/plain": [
       "  X BsmtFinSF2 LowQualFinSF EnclosedPorch ThreeSsnPorch ScreenPorch PoolArea\n",
       "1 1 FALSE      FALSE        FALSE         FALSE         FALSE       FALSE   \n",
       "2 2 FALSE      FALSE        FALSE         FALSE         FALSE       FALSE   \n",
       "3 3 FALSE      FALSE        FALSE         FALSE         FALSE       FALSE   \n",
       "  MiscVal MasVnrArea SecondFlrSF ⋯ YearBuilt YearRemodAdd BsmtFinSF1 BsmtUnfSF \n",
       "1 FALSE   1st_bin    2nd_bin     ⋯ 1.0509849  0.8820760   0.7205018  0.08917398\n",
       "2 FALSE   0          0           ⋯ 0.1692304 -0.4188065   0.7552734  0.20492237\n",
       "3 FALSE   1st_bin    2nd_bin     ⋯ 0.9860786  0.8342087   0.6806608  0.28181796\n",
       "  TotalBsmtSF FirstFlrSF GrLivArea  GarageYrBlt GarageArea SalePrice\n",
       "1 0.1084214   -0.8026317  0.5315369  1.02265460 0.2771098  0.5639683\n",
       "2 0.2264173    0.4214040 -0.3785471 -0.09204807 0.2390487  0.2168273\n",
       "3 0.1303386   -0.5752722  0.6618057  0.94060083 0.2997008  0.7378659"
      ]
     },
     "metadata": {},
     "output_type": "display_data"
    },
    {
     "data": {
      "text/html": [
       "<table>\n",
       "<tbody>\n",
       "\t<tr><td>1451</td><td>24  </td></tr>\n",
       "</tbody>\n",
       "</table>\n"
      ],
      "text/latex": [
       "\\begin{tabular}{ll}\n",
       "\t 1451 & 24  \\\\\n",
       "\\end{tabular}\n"
      ],
      "text/markdown": [
       "\n",
       "| 1451 | 24   | \n",
       "\n",
       "\n"
      ],
      "text/plain": [
       "     [,1] [,2]\n",
       "[1,] 1451 24  "
      ]
     },
     "metadata": {},
     "output_type": "display_data"
    }
   ],
   "source": [
    "head(categoric_df,3)\n",
    "t(dim(categoric_df))\n",
    "head(numeric_updated_df,3)\n",
    "t(dim(numeric_updated_df))"
   ]
  },
  {
   "cell_type": "code",
   "execution_count": 3,
   "metadata": {},
   "outputs": [
    {
     "data": {
      "text/html": [
       "<table>\n",
       "<thead><tr><th scope=col>MSSubClass</th><th scope=col>MSZoning</th><th scope=col>LotShape</th><th scope=col>LandContour</th><th scope=col>Utilities</th><th scope=col>LotConfig</th><th scope=col>LandSlope</th><th scope=col>Neighborhood</th><th scope=col>Condition1</th><th scope=col>Condition2</th><th scope=col>⋯</th><th scope=col>YearBuilt</th><th scope=col>YearRemodAdd</th><th scope=col>BsmtFinSF1</th><th scope=col>BsmtUnfSF</th><th scope=col>TotalBsmtSF</th><th scope=col>FirstFlrSF</th><th scope=col>GrLivArea</th><th scope=col>GarageYrBlt</th><th scope=col>GarageArea</th><th scope=col>SalePrice</th></tr></thead>\n",
       "<tbody>\n",
       "\t<tr><td>60         </td><td>RL         </td><td>Reg        </td><td>Lvl        </td><td>AllPub     </td><td>Inside     </td><td>Gtl        </td><td>CollgCr    </td><td>Norm       </td><td>Norm       </td><td>⋯          </td><td> 1.0509849 </td><td> 0.8820760 </td><td>0.7205018  </td><td> 0.08917398</td><td>0.10842138 </td><td>-0.8026317 </td><td> 0.5315369 </td><td> 1.02265460</td><td>0.2771098  </td><td> 0.5639683 </td></tr>\n",
       "\t<tr><td>20         </td><td>RL         </td><td>Reg        </td><td>Lvl        </td><td>AllPub     </td><td>FR2        </td><td>Gtl        </td><td>Veenker    </td><td>Feedr      </td><td>Norm       </td><td>⋯          </td><td> 0.1692304 </td><td>-0.4188065 </td><td>0.7552734  </td><td> 0.20492237</td><td>0.22641726 </td><td> 0.4214040 </td><td>-0.3785471 </td><td>-0.09204807</td><td>0.2390487  </td><td> 0.2168273 </td></tr>\n",
       "\t<tr><td>60         </td><td>RL         </td><td>IR1        </td><td>Lvl        </td><td>AllPub     </td><td>Inside     </td><td>Gtl        </td><td>CollgCr    </td><td>Norm       </td><td>Norm       </td><td>⋯          </td><td> 0.9860786 </td><td> 0.8342087 </td><td>0.6806608  </td><td> 0.28181796</td><td>0.13033862 </td><td>-0.5752722 </td><td> 0.6618057 </td><td> 0.94060083</td><td>0.2997008  </td><td> 0.7378659 </td></tr>\n",
       "\t<tr><td>70         </td><td>RL         </td><td>IR1        </td><td>Lvl        </td><td>AllPub     </td><td>Corner     </td><td>Gtl        </td><td>Crawfor    </td><td>Norm       </td><td>Norm       </td><td>⋯          </td><td>-1.8680714 </td><td>-0.7103048 </td><td>0.5941378  </td><td> 0.32144248</td><td>0.07065950 </td><td>-0.4377884 </td><td> 0.5437750 </td><td> 0.81736628</td><td>0.3115320  </td><td>-0.4330156 </td></tr>\n",
       "\t<tr><td>60         </td><td>RL         </td><td>IR1        </td><td>Lvl        </td><td>AllPub     </td><td>FR2        </td><td>Gtl        </td><td>NoRidge    </td><td>Norm       </td><td>Norm       </td><td>⋯          </td><td> 0.9536011 </td><td> 0.7384023 </td><td>0.7125017  </td><td> 0.30382402</td><td>0.19684307 </td><td> 0.1146148 </td><td> 1.2836237 </td><td> 0.89954319</td><td>0.3689426  </td><td> 1.0183392 </td></tr>\n",
       "\t<tr><td>50         </td><td>RL         </td><td>IR1        </td><td>Lvl        </td><td>AllPub     </td><td>Inside     </td><td>Gtl        </td><td>Mitchel    </td><td>Norm       </td><td>Norm       </td><td>⋯          </td><td> 0.7258029 </td><td> 0.4984665 </td><td>0.7243605  </td><td>-0.06527209</td><td>0.08633152 </td><td>-1.0317819 </td><td>-0.1501048 </td><td> 0.61156359</td><td>0.2483025  </td><td>-0.3799439 </td></tr>\n",
       "</tbody>\n",
       "</table>\n"
      ],
      "text/latex": [
       "\\begin{tabular}{r|llllllllllllllllllllllllllllllllllllllllllllllllllllllllllllllllllllllllllllllll}\n",
       " MSSubClass & MSZoning & LotShape & LandContour & Utilities & LotConfig & LandSlope & Neighborhood & Condition1 & Condition2 & ⋯ & YearBuilt & YearRemodAdd & BsmtFinSF1 & BsmtUnfSF & TotalBsmtSF & FirstFlrSF & GrLivArea & GarageYrBlt & GarageArea & SalePrice\\\\\n",
       "\\hline\n",
       "\t 60          & RL          & Reg         & Lvl         & AllPub      & Inside      & Gtl         & CollgCr     & Norm        & Norm        & ⋯           &  1.0509849  &  0.8820760  & 0.7205018   &  0.08917398 & 0.10842138  & -0.8026317  &  0.5315369  &  1.02265460 & 0.2771098   &  0.5639683 \\\\\n",
       "\t 20          & RL          & Reg         & Lvl         & AllPub      & FR2         & Gtl         & Veenker     & Feedr       & Norm        & ⋯           &  0.1692304  & -0.4188065  & 0.7552734   &  0.20492237 & 0.22641726  &  0.4214040  & -0.3785471  & -0.09204807 & 0.2390487   &  0.2168273 \\\\\n",
       "\t 60          & RL          & IR1         & Lvl         & AllPub      & Inside      & Gtl         & CollgCr     & Norm        & Norm        & ⋯           &  0.9860786  &  0.8342087  & 0.6806608   &  0.28181796 & 0.13033862  & -0.5752722  &  0.6618057  &  0.94060083 & 0.2997008   &  0.7378659 \\\\\n",
       "\t 70          & RL          & IR1         & Lvl         & AllPub      & Corner      & Gtl         & Crawfor     & Norm        & Norm        & ⋯           & -1.8680714  & -0.7103048  & 0.5941378   &  0.32144248 & 0.07065950  & -0.4377884  &  0.5437750  &  0.81736628 & 0.3115320   & -0.4330156 \\\\\n",
       "\t 60          & RL          & IR1         & Lvl         & AllPub      & FR2         & Gtl         & NoRidge     & Norm        & Norm        & ⋯           &  0.9536011  &  0.7384023  & 0.7125017   &  0.30382402 & 0.19684307  &  0.1146148  &  1.2836237  &  0.89954319 & 0.3689426   &  1.0183392 \\\\\n",
       "\t 50          & RL          & IR1         & Lvl         & AllPub      & Inside      & Gtl         & Mitchel     & Norm        & Norm        & ⋯           &  0.7258029  &  0.4984665  & 0.7243605   & -0.06527209 & 0.08633152  & -1.0317819  & -0.1501048  &  0.61156359 & 0.2483025   & -0.3799439 \\\\\n",
       "\\end{tabular}\n"
      ],
      "text/markdown": [
       "\n",
       "MSSubClass | MSZoning | LotShape | LandContour | Utilities | LotConfig | LandSlope | Neighborhood | Condition1 | Condition2 | ⋯ | YearBuilt | YearRemodAdd | BsmtFinSF1 | BsmtUnfSF | TotalBsmtSF | FirstFlrSF | GrLivArea | GarageYrBlt | GarageArea | SalePrice | \n",
       "|---|---|---|---|---|---|\n",
       "| 60          | RL          | Reg         | Lvl         | AllPub      | Inside      | Gtl         | CollgCr     | Norm        | Norm        | ⋯           |  1.0509849  |  0.8820760  | 0.7205018   |  0.08917398 | 0.10842138  | -0.8026317  |  0.5315369  |  1.02265460 | 0.2771098   |  0.5639683  | \n",
       "| 20          | RL          | Reg         | Lvl         | AllPub      | FR2         | Gtl         | Veenker     | Feedr       | Norm        | ⋯           |  0.1692304  | -0.4188065  | 0.7552734   |  0.20492237 | 0.22641726  |  0.4214040  | -0.3785471  | -0.09204807 | 0.2390487   |  0.2168273  | \n",
       "| 60          | RL          | IR1         | Lvl         | AllPub      | Inside      | Gtl         | CollgCr     | Norm        | Norm        | ⋯           |  0.9860786  |  0.8342087  | 0.6806608   |  0.28181796 | 0.13033862  | -0.5752722  |  0.6618057  |  0.94060083 | 0.2997008   |  0.7378659  | \n",
       "| 70          | RL          | IR1         | Lvl         | AllPub      | Corner      | Gtl         | Crawfor     | Norm        | Norm        | ⋯           | -1.8680714  | -0.7103048  | 0.5941378   |  0.32144248 | 0.07065950  | -0.4377884  |  0.5437750  |  0.81736628 | 0.3115320   | -0.4330156  | \n",
       "| 60          | RL          | IR1         | Lvl         | AllPub      | FR2         | Gtl         | NoRidge     | Norm        | Norm        | ⋯           |  0.9536011  |  0.7384023  | 0.7125017   |  0.30382402 | 0.19684307  |  0.1146148  |  1.2836237  |  0.89954319 | 0.3689426   |  1.0183392  | \n",
       "| 50          | RL          | IR1         | Lvl         | AllPub      | Inside      | Gtl         | Mitchel     | Norm        | Norm        | ⋯           |  0.7258029  |  0.4984665  | 0.7243605   | -0.06527209 | 0.08633152  | -1.0317819  | -0.1501048  |  0.61156359 | 0.2483025   | -0.3799439  | \n",
       "\n",
       "\n"
      ],
      "text/plain": [
       "  MSSubClass MSZoning LotShape LandContour Utilities LotConfig LandSlope\n",
       "1 60         RL       Reg      Lvl         AllPub    Inside    Gtl      \n",
       "2 20         RL       Reg      Lvl         AllPub    FR2       Gtl      \n",
       "3 60         RL       IR1      Lvl         AllPub    Inside    Gtl      \n",
       "4 70         RL       IR1      Lvl         AllPub    Corner    Gtl      \n",
       "5 60         RL       IR1      Lvl         AllPub    FR2       Gtl      \n",
       "6 50         RL       IR1      Lvl         AllPub    Inside    Gtl      \n",
       "  Neighborhood Condition1 Condition2 ⋯ YearBuilt  YearRemodAdd BsmtFinSF1\n",
       "1 CollgCr      Norm       Norm       ⋯  1.0509849  0.8820760   0.7205018 \n",
       "2 Veenker      Feedr      Norm       ⋯  0.1692304 -0.4188065   0.7552734 \n",
       "3 CollgCr      Norm       Norm       ⋯  0.9860786  0.8342087   0.6806608 \n",
       "4 Crawfor      Norm       Norm       ⋯ -1.8680714 -0.7103048   0.5941378 \n",
       "5 NoRidge      Norm       Norm       ⋯  0.9536011  0.7384023   0.7125017 \n",
       "6 Mitchel      Norm       Norm       ⋯  0.7258029  0.4984665   0.7243605 \n",
       "  BsmtUnfSF   TotalBsmtSF FirstFlrSF GrLivArea  GarageYrBlt GarageArea\n",
       "1  0.08917398 0.10842138  -0.8026317  0.5315369  1.02265460 0.2771098 \n",
       "2  0.20492237 0.22641726   0.4214040 -0.3785471 -0.09204807 0.2390487 \n",
       "3  0.28181796 0.13033862  -0.5752722  0.6618057  0.94060083 0.2997008 \n",
       "4  0.32144248 0.07065950  -0.4377884  0.5437750  0.81736628 0.3115320 \n",
       "5  0.30382402 0.19684307   0.1146148  1.2836237  0.89954319 0.3689426 \n",
       "6 -0.06527209 0.08633152  -1.0317819 -0.1501048  0.61156359 0.2483025 \n",
       "  SalePrice \n",
       "1  0.5639683\n",
       "2  0.2168273\n",
       "3  0.7378659\n",
       "4 -0.4330156\n",
       "5  1.0183392\n",
       "6 -0.3799439"
      ]
     },
     "metadata": {},
     "output_type": "display_data"
    },
    {
     "data": {
      "text/html": [
       "<table>\n",
       "<tbody>\n",
       "\t<tr><td>1451</td><td>80  </td></tr>\n",
       "</tbody>\n",
       "</table>\n"
      ],
      "text/latex": [
       "\\begin{tabular}{ll}\n",
       "\t 1451 & 80  \\\\\n",
       "\\end{tabular}\n"
      ],
      "text/markdown": [
       "\n",
       "| 1451 | 80   | \n",
       "\n",
       "\n"
      ],
      "text/plain": [
       "     [,1] [,2]\n",
       "[1,] 1451 80  "
      ]
     },
     "metadata": {},
     "output_type": "display_data"
    }
   ],
   "source": [
    "ames_df <- data.frame(categoric_df, numeric_updated_df)\n",
    "ames_df$X <- NULL\n",
    "head(ames_df)\n",
    "t(dim(ames_df))"
   ]
  },
  {
   "cell_type": "code",
   "execution_count": 4,
   "metadata": {},
   "outputs": [
    {
     "name": "stdout",
     "output_type": "stream",
     "text": [
      "'data.frame':\t1451 obs. of  80 variables:\n",
      " $ MSSubClass   : Factor w/ 15 levels \"20\",\"30\",\"40\",..: 6 1 6 7 6 5 1 6 5 15 ...\n",
      " $ MSZoning     : Factor w/ 5 levels \"C (all)\",\"FV\",..: 4 4 4 4 4 4 4 4 5 4 ...\n",
      " $ LotShape     : Factor w/ 4 levels \"IR1\",\"IR2\",\"IR3\",..: 4 4 1 1 1 1 4 1 4 4 ...\n",
      " $ LandContour  : Factor w/ 4 levels \"Bnk\",\"HLS\",\"Low\",..: 4 4 4 4 4 4 4 4 4 4 ...\n",
      " $ Utilities    : Factor w/ 2 levels \"AllPub\",\"NoSeWa\": 1 1 1 1 1 1 1 1 1 1 ...\n",
      " $ LotConfig    : Factor w/ 5 levels \"Corner\",\"CulDSac\",..: 5 3 5 1 3 5 5 1 5 1 ...\n",
      " $ LandSlope    : Factor w/ 3 levels \"Gtl\",\"Mod\",\"Sev\": 1 1 1 1 1 1 1 1 1 1 ...\n",
      " $ Neighborhood : Factor w/ 25 levels \"Blmngtn\",\"Blueste\",..: 6 25 6 7 14 12 21 17 18 4 ...\n",
      " $ Condition1   : Factor w/ 9 levels \"Artery\",\"Feedr\",..: 3 2 3 3 3 3 3 5 1 1 ...\n",
      " $ Condition2   : Factor w/ 8 levels \"Artery\",\"Feedr\",..: 3 3 3 3 3 3 3 3 3 1 ...\n",
      " $ BldgType     : Factor w/ 5 levels \"1Fam\",\"2fmCon\",..: 1 1 1 1 1 1 1 1 1 2 ...\n",
      " $ HouseStyle   : Factor w/ 8 levels \"1.5Fin\",\"1.5Unf\",..: 6 3 6 6 6 1 3 6 1 2 ...\n",
      " $ Street       : Factor w/ 2 levels \"Grvl\",\"Pave\": 2 2 2 2 2 2 2 2 2 2 ...\n",
      " $ Alley        : Factor w/ 4 levels \"\",\"Grvl\",\"Pave\",..: 4 4 4 4 4 4 4 4 4 4 ...\n",
      " $ OverallQual  : Factor w/ 10 levels \"1\",\"2\",\"3\",\"4\",..: 7 6 7 7 8 5 8 7 7 5 ...\n",
      " $ OverallCond  : Factor w/ 9 levels \"1\",\"2\",\"3\",\"4\",..: 5 8 5 5 5 5 5 6 5 6 ...\n",
      " $ RoofStyle    : Factor w/ 6 levels \"Flat\",\"Gable\",..: 2 2 2 2 2 2 2 2 2 2 ...\n",
      " $ RoofMatl     : Factor w/ 8 levels \"ClyTile\",\"CompShg\",..: 2 2 2 2 2 2 2 2 2 2 ...\n",
      " $ Exterior1st  : Factor w/ 15 levels \"AsbShng\",\"AsphShn\",..: 13 9 13 14 13 13 13 7 4 9 ...\n",
      " $ Exterior2nd  : Factor w/ 16 levels \"AsbShng\",\"AsphShn\",..: 14 9 14 16 14 14 14 7 16 9 ...\n",
      " $ MasVnrType   : Factor w/ 5 levels \"\",\"BrkCmn\",\"BrkFace\",..: 3 4 3 4 3 4 5 5 4 4 ...\n",
      " $ ExterQual    : Factor w/ 4 levels \"Ex\",\"Fa\",\"Gd\",..: 3 4 3 4 3 4 3 4 4 4 ...\n",
      " $ ExterCond    : Factor w/ 5 levels \"Ex\",\"Fa\",\"Gd\",..: 5 5 5 5 5 5 5 5 5 5 ...\n",
      " $ Foundation   : Factor w/ 6 levels \"BrkTil\",\"CBlock\",..: 3 2 3 1 3 6 3 2 1 1 ...\n",
      " $ BsmtQual     : Factor w/ 6 levels \"\",\"Ex\",\"Fa\",\"Gd\",..: 4 4 4 5 4 4 2 4 5 5 ...\n",
      " $ BsmtCond     : Factor w/ 6 levels \"\",\"Fa\",\"Gd\",\"Po\",..: 5 5 5 3 5 5 5 5 5 5 ...\n",
      " $ BsmtExposure : Factor w/ 6 levels \"\",\"Av\",\"Gd\",\"Mn\",..: 5 3 4 5 2 5 2 4 5 5 ...\n",
      " $ BsmtFinType1 : Factor w/ 8 levels \"\",\"ALQ\",\"BLQ\",..: 4 2 4 2 4 4 4 2 7 4 ...\n",
      " $ BsmtFinType2 : Factor w/ 8 levels \"\",\"ALQ\",\"BLQ\",..: 7 7 7 7 7 7 7 3 7 7 ...\n",
      " $ Heating      : Factor w/ 6 levels \"Floor\",\"GasA\",..: 2 2 2 2 2 2 2 2 2 2 ...\n",
      " $ HeatingQC    : Factor w/ 5 levels \"Ex\",\"Fa\",\"Gd\",..: 1 1 1 3 1 1 1 1 3 1 ...\n",
      " $ CentralAir   : Factor w/ 2 levels \"N\",\"Y\": 2 2 2 2 2 2 2 2 2 2 ...\n",
      " $ Electrical   : Factor w/ 6 levels \"\",\"FuseA\",\"FuseF\",..: 6 6 6 6 6 6 6 6 3 6 ...\n",
      " $ BsmtFullBath : Factor w/ 4 levels \"0\",\"1\",\"2\",\"3\": 2 1 2 2 2 2 2 2 1 2 ...\n",
      " $ BsmtHalfBath : Factor w/ 3 levels \"0\",\"1\",\"2\": 1 2 1 1 1 1 1 1 1 1 ...\n",
      " $ FullBath     : Factor w/ 4 levels \"0\",\"1\",\"2\",\"3\": 3 3 3 2 3 2 3 3 3 2 ...\n",
      " $ HalfBath     : Factor w/ 3 levels \"0\",\"1\",\"2\": 2 1 2 1 2 2 1 2 1 1 ...\n",
      " $ BedroomAbvGr : Factor w/ 8 levels \"0\",\"1\",\"2\",\"3\",..: 4 4 4 4 5 2 4 4 3 3 ...\n",
      " $ KitchenAbvGr : Factor w/ 4 levels \"0\",\"1\",\"2\",\"3\": 2 2 2 2 2 2 2 2 3 3 ...\n",
      " $ KitchenQual  : Factor w/ 4 levels \"Ex\",\"Fa\",\"Gd\",..: 3 4 3 3 3 4 3 4 4 4 ...\n",
      " $ TotRmsAbvGrd : Factor w/ 12 levels \"2\",\"3\",\"4\",\"5\",..: 7 5 5 6 8 4 6 6 7 4 ...\n",
      " $ Functional   : Factor w/ 7 levels \"Maj1\",\"Maj2\",..: 7 7 7 7 7 7 7 7 3 7 ...\n",
      " $ Fireplaces   : Factor w/ 4 levels \"0\",\"1\",\"2\",\"3\": 1 2 2 2 2 1 2 3 3 3 ...\n",
      " $ FireplaceQu  : Factor w/ 7 levels \"\",\"Ex\",\"Fa\",\"Gd\",..: 7 6 6 4 6 7 4 6 6 6 ...\n",
      " $ GarageType   : Factor w/ 8 levels \"\",\"2Types\",\"Attchd\",..: 3 3 3 7 3 3 3 3 7 3 ...\n",
      " $ GarageFinish : Factor w/ 5 levels \"\",\"Fin\",\"RFn\",..: 3 3 3 4 3 4 3 3 4 3 ...\n",
      " $ GarageCars   : Factor w/ 5 levels \"0\",\"1\",\"2\",\"3\",..: 3 3 3 4 4 3 3 3 3 2 ...\n",
      " $ GarageQual   : Factor w/ 7 levels \"\",\"Ex\",\"Fa\",\"Gd\",..: 6 6 6 6 6 6 6 6 3 4 ...\n",
      " $ GarageCond   : Factor w/ 7 levels \"\",\"Ex\",\"Fa\",\"Gd\",..: 6 6 6 6 6 6 6 6 6 6 ...\n",
      " $ PavedDrive   : Factor w/ 3 levels \"N\",\"P\",\"Y\": 3 3 3 3 3 3 3 3 3 3 ...\n",
      " $ PoolQC       : Factor w/ 5 levels \"\",\"Ex\",\"Fa\",\"Gd\",..: 5 5 5 5 5 5 5 5 5 5 ...\n",
      " $ Fence        : Factor w/ 6 levels \"\",\"GdPrv\",\"GdWo\",..: 6 6 6 6 6 4 6 6 6 6 ...\n",
      " $ MiscFeature  : Factor w/ 6 levels \"\",\"Gar2\",\"Othr\",..: 6 6 6 6 6 4 6 4 6 6 ...\n",
      " $ MoSold       : Factor w/ 12 levels \"1\",\"2\",\"3\",\"4\",..: 2 5 9 2 12 10 8 11 4 1 ...\n",
      " $ YrSold       : Factor w/ 5 levels \"2006\",\"2007\",..: 3 2 3 1 3 4 2 4 3 3 ...\n",
      " $ SaleType     : Factor w/ 9 levels \"COD\",\"Con\",\"ConLD\",..: 9 9 9 9 9 9 9 9 9 9 ...\n",
      " $ SaleCondition: Factor w/ 6 levels \"Abnorml\",\"AdjLand\",..: 5 5 5 1 5 5 5 5 1 5 ...\n",
      " $ BsmtFinSF2   : logi  FALSE FALSE FALSE FALSE FALSE FALSE ...\n",
      " $ LowQualFinSF : logi  FALSE FALSE FALSE FALSE FALSE FALSE ...\n",
      " $ EnclosedPorch: logi  FALSE FALSE FALSE TRUE FALSE FALSE ...\n",
      " $ ThreeSsnPorch: logi  FALSE FALSE FALSE FALSE FALSE TRUE ...\n",
      " $ ScreenPorch  : logi  FALSE FALSE FALSE FALSE FALSE FALSE ...\n",
      " $ PoolArea     : logi  FALSE FALSE FALSE FALSE FALSE FALSE ...\n",
      " $ MiscVal      : logi  FALSE FALSE FALSE FALSE FALSE TRUE ...\n",
      " $ MasVnrArea   : Factor w/ 5 levels \"0\",\"1st_bin\",..: 2 1 2 1 2 1 2 2 1 1 ...\n",
      " $ SecondFlrSF  : Factor w/ 5 levels \"0\",\"1st_bin\",..: 3 1 3 3 3 2 1 3 3 1 ...\n",
      " $ WoodDeckSF   : Factor w/ 5 levels \"0\",\"1st_bin\",..: 1 3 1 1 2 2 3 3 2 1 ...\n",
      " $ OpenPorchSF  : Factor w/ 5 levels \"0\",\"1st_bin\",..: 2 1 2 2 2 2 2 3 1 1 ...\n",
      " $ LotFrontage  : num  -0.0831 0.564 0.0575 -0.3325 0.716 ...\n",
      " $ LotArea      : num  -0.132 0.115 0.422 0.105 0.88 ...\n",
      " $ YearBuilt    : num  1.051 0.169 0.986 -1.868 0.954 ...\n",
      " $ YearRemodAdd : num  0.882 -0.419 0.834 -0.71 0.738 ...\n",
      " $ BsmtFinSF1   : num  0.721 0.755 0.681 0.594 0.713 ...\n",
      " $ BsmtUnfSF    : num  0.0892 0.2049 0.2818 0.3214 0.3038 ...\n",
      " $ TotalBsmtSF  : num  0.1084 0.2264 0.1303 0.0707 0.1968 ...\n",
      " $ FirstFlrSF   : num  -0.803 0.421 -0.575 -0.438 0.115 ...\n",
      " $ GrLivArea    : num  0.532 -0.379 0.662 0.544 1.284 ...\n",
      " $ GarageYrBlt  : num  1.023 -0.092 0.941 0.817 0.9 ...\n",
      " $ GarageArea   : num  0.277 0.239 0.3 0.312 0.369 ...\n",
      " $ SalePrice    : num  0.564 0.217 0.738 -0.433 1.018 ...\n"
     ]
    }
   ],
   "source": [
    "str(ames_df)"
   ]
  },
  {
   "cell_type": "markdown",
   "metadata": {},
   "source": [
    "### One Hot Encoding Categorical Variables"
   ]
  },
  {
   "cell_type": "code",
   "execution_count": 5,
   "metadata": {},
   "outputs": [
    {
     "name": "stderr",
     "output_type": "stream",
     "text": [
      "Loading required package: lattice\n"
     ]
    }
   ],
   "source": [
    "library(caret)"
   ]
  },
  {
   "cell_type": "code",
   "execution_count": 6,
   "metadata": {},
   "outputs": [
    {
     "data": {
      "text/html": [
       "<table>\n",
       "<tbody>\n",
       "\t<tr><td>MSSubClass   </td><td>MSZoning     </td><td>LotShape     </td><td>LandContour  </td><td>Utilities    </td><td>LotConfig    </td><td>LandSlope    </td><td>Neighborhood </td><td>Condition1   </td><td>Condition2   </td><td>⋯            </td><td>Fence        </td><td>MiscFeature  </td><td>MoSold       </td><td>YrSold       </td><td>SaleType     </td><td>SaleCondition</td><td>MasVnrArea   </td><td>SecondFlrSF  </td><td>WoodDeckSF   </td><td>OpenPorchSF  </td></tr>\n",
       "</tbody>\n",
       "</table>\n"
      ],
      "text/latex": [
       "\\begin{tabular}{lllllllllllllllllllllllllllllllllllllllllllllllllllllllllllll}\n",
       "\t MSSubClass    & MSZoning      & LotShape      & LandContour   & Utilities     & LotConfig     & LandSlope     & Neighborhood  & Condition1    & Condition2    & ⋯             & Fence         & MiscFeature   & MoSold        & YrSold        & SaleType      & SaleCondition & MasVnrArea    & SecondFlrSF   & WoodDeckSF    & OpenPorchSF  \\\\\n",
       "\\end{tabular}\n"
      ],
      "text/markdown": [
       "\n",
       "| MSSubClass    | MSZoning      | LotShape      | LandContour   | Utilities     | LotConfig     | LandSlope     | Neighborhood  | Condition1    | Condition2    | ⋯             | Fence         | MiscFeature   | MoSold        | YrSold        | SaleType      | SaleCondition | MasVnrArea    | SecondFlrSF   | WoodDeckSF    | OpenPorchSF   | \n",
       "\n",
       "\n"
      ],
      "text/plain": [
       "     [,1]       [,2]     [,3]     [,4]        [,5]      [,6]      [,7]     \n",
       "[1,] MSSubClass MSZoning LotShape LandContour Utilities LotConfig LandSlope\n",
       "     [,8]         [,9]       [,10]      [,11] [,12] [,13]       [,14]  [,15] \n",
       "[1,] Neighborhood Condition1 Condition2 ⋯     Fence MiscFeature MoSold YrSold\n",
       "     [,16]    [,17]         [,18]      [,19]       [,20]      [,21]      \n",
       "[1,] SaleType SaleCondition MasVnrArea SecondFlrSF WoodDeckSF OpenPorchSF"
      ]
     },
     "metadata": {},
     "output_type": "display_data"
    },
    {
     "data": {
      "text/html": [
       "61"
      ],
      "text/latex": [
       "61"
      ],
      "text/markdown": [
       "61"
      ],
      "text/plain": [
       "[1] 61"
      ]
     },
     "metadata": {},
     "output_type": "display_data"
    }
   ],
   "source": [
    "new_categorical_df <- Filter(is.factor, ames_df)\n",
    "t(colnames(new_categorical_df))\n",
    "length(colnames(new_categorical_df))"
   ]
  },
  {
   "cell_type": "code",
   "execution_count": 7,
   "metadata": {},
   "outputs": [
    {
     "data": {
      "text/plain": [
       "Dummy Variable Object\n",
       "\n",
       "Formula: ~.\n",
       "<environment: 0xaa10a50>\n",
       "61 variables, 61 factors\n",
       "Variables and levels will be separated by '.'\n",
       "A less than full rank encoding is used"
      ]
     },
     "metadata": {},
     "output_type": "display_data"
    }
   ],
   "source": [
    "dummy_df <- dummyVars(\" ~ .\", data=new_categorical_df)\n",
    "dummy_df"
   ]
  },
  {
   "cell_type": "code",
   "execution_count": 8,
   "metadata": {},
   "outputs": [
    {
     "data": {
      "text/html": [
       "<table>\n",
       "<thead><tr><th scope=col>MSSubClass.20</th><th scope=col>MSSubClass.30</th><th scope=col>MSSubClass.40</th><th scope=col>MSSubClass.45</th><th scope=col>MSSubClass.50</th><th scope=col>MSSubClass.60</th><th scope=col>MSSubClass.70</th><th scope=col>MSSubClass.75</th><th scope=col>MSSubClass.80</th><th scope=col>MSSubClass.85</th><th scope=col>⋯</th><th scope=col>WoodDeckSF.0</th><th scope=col>WoodDeckSF.1st_bin</th><th scope=col>WoodDeckSF.2nd_bin</th><th scope=col>WoodDeckSF.3rd_bin</th><th scope=col>WoodDeckSF.4th_bin</th><th scope=col>OpenPorchSF.0</th><th scope=col>OpenPorchSF.1st_bin</th><th scope=col>OpenPorchSF.2nd_bin</th><th scope=col>OpenPorchSF.3rd_bin</th><th scope=col>OpenPorchSF.4th_bin</th></tr></thead>\n",
       "<tbody>\n",
       "\t<tr><td>0</td><td>0</td><td>0</td><td>0</td><td>0</td><td>1</td><td>0</td><td>0</td><td>0</td><td>0</td><td>⋯</td><td>1</td><td>0</td><td>0</td><td>0</td><td>0</td><td>0</td><td>1</td><td>0</td><td>0</td><td>0</td></tr>\n",
       "\t<tr><td>1</td><td>0</td><td>0</td><td>0</td><td>0</td><td>0</td><td>0</td><td>0</td><td>0</td><td>0</td><td>⋯</td><td>0</td><td>0</td><td>1</td><td>0</td><td>0</td><td>1</td><td>0</td><td>0</td><td>0</td><td>0</td></tr>\n",
       "\t<tr><td>0</td><td>0</td><td>0</td><td>0</td><td>0</td><td>1</td><td>0</td><td>0</td><td>0</td><td>0</td><td>⋯</td><td>1</td><td>0</td><td>0</td><td>0</td><td>0</td><td>0</td><td>1</td><td>0</td><td>0</td><td>0</td></tr>\n",
       "\t<tr><td>0</td><td>0</td><td>0</td><td>0</td><td>0</td><td>0</td><td>1</td><td>0</td><td>0</td><td>0</td><td>⋯</td><td>1</td><td>0</td><td>0</td><td>0</td><td>0</td><td>0</td><td>1</td><td>0</td><td>0</td><td>0</td></tr>\n",
       "\t<tr><td>0</td><td>0</td><td>0</td><td>0</td><td>0</td><td>1</td><td>0</td><td>0</td><td>0</td><td>0</td><td>⋯</td><td>0</td><td>1</td><td>0</td><td>0</td><td>0</td><td>0</td><td>1</td><td>0</td><td>0</td><td>0</td></tr>\n",
       "\t<tr><td>0</td><td>0</td><td>0</td><td>0</td><td>1</td><td>0</td><td>0</td><td>0</td><td>0</td><td>0</td><td>⋯</td><td>0</td><td>1</td><td>0</td><td>0</td><td>0</td><td>0</td><td>1</td><td>0</td><td>0</td><td>0</td></tr>\n",
       "</tbody>\n",
       "</table>\n"
      ],
      "text/latex": [
       "\\begin{tabular}{r|llllllllllllllllllllllllllllllllllllllllllllllllllllllllllllllllllllllllllllllllllllllllllllllllllllllllllllllllllllllllllllllllllllllllllllllllllllllllllllllllllllllllllllllllllllllllllllllllllllllllllllllllllllllllllllllllllllllllllllllllllllllllllllllllllllllllllllllllllllllllllllllllllllllllllllllllllllllllllllllllllllllllllllllllllllllllllllllllllllllllllllllllllllllllllllllllllllllllllllllll}\n",
       " MSSubClass.20 & MSSubClass.30 & MSSubClass.40 & MSSubClass.45 & MSSubClass.50 & MSSubClass.60 & MSSubClass.70 & MSSubClass.75 & MSSubClass.80 & MSSubClass.85 & ⋯ & WoodDeckSF.0 & WoodDeckSF.1st\\_bin & WoodDeckSF.2nd\\_bin & WoodDeckSF.3rd\\_bin & WoodDeckSF.4th\\_bin & OpenPorchSF.0 & OpenPorchSF.1st\\_bin & OpenPorchSF.2nd\\_bin & OpenPorchSF.3rd\\_bin & OpenPorchSF.4th\\_bin\\\\\n",
       "\\hline\n",
       "\t 0 & 0 & 0 & 0 & 0 & 1 & 0 & 0 & 0 & 0 & ⋯ & 1 & 0 & 0 & 0 & 0 & 0 & 1 & 0 & 0 & 0\\\\\n",
       "\t 1 & 0 & 0 & 0 & 0 & 0 & 0 & 0 & 0 & 0 & ⋯ & 0 & 0 & 1 & 0 & 0 & 1 & 0 & 0 & 0 & 0\\\\\n",
       "\t 0 & 0 & 0 & 0 & 0 & 1 & 0 & 0 & 0 & 0 & ⋯ & 1 & 0 & 0 & 0 & 0 & 0 & 1 & 0 & 0 & 0\\\\\n",
       "\t 0 & 0 & 0 & 0 & 0 & 0 & 1 & 0 & 0 & 0 & ⋯ & 1 & 0 & 0 & 0 & 0 & 0 & 1 & 0 & 0 & 0\\\\\n",
       "\t 0 & 0 & 0 & 0 & 0 & 1 & 0 & 0 & 0 & 0 & ⋯ & 0 & 1 & 0 & 0 & 0 & 0 & 1 & 0 & 0 & 0\\\\\n",
       "\t 0 & 0 & 0 & 0 & 1 & 0 & 0 & 0 & 0 & 0 & ⋯ & 0 & 1 & 0 & 0 & 0 & 0 & 1 & 0 & 0 & 0\\\\\n",
       "\\end{tabular}\n"
      ],
      "text/markdown": [
       "\n",
       "MSSubClass.20 | MSSubClass.30 | MSSubClass.40 | MSSubClass.45 | MSSubClass.50 | MSSubClass.60 | MSSubClass.70 | MSSubClass.75 | MSSubClass.80 | MSSubClass.85 | ⋯ | WoodDeckSF.0 | WoodDeckSF.1st_bin | WoodDeckSF.2nd_bin | WoodDeckSF.3rd_bin | WoodDeckSF.4th_bin | OpenPorchSF.0 | OpenPorchSF.1st_bin | OpenPorchSF.2nd_bin | OpenPorchSF.3rd_bin | OpenPorchSF.4th_bin | \n",
       "|---|---|---|---|---|---|\n",
       "| 0 | 0 | 0 | 0 | 0 | 1 | 0 | 0 | 0 | 0 | ⋯ | 1 | 0 | 0 | 0 | 0 | 0 | 1 | 0 | 0 | 0 | \n",
       "| 1 | 0 | 0 | 0 | 0 | 0 | 0 | 0 | 0 | 0 | ⋯ | 0 | 0 | 1 | 0 | 0 | 1 | 0 | 0 | 0 | 0 | \n",
       "| 0 | 0 | 0 | 0 | 0 | 1 | 0 | 0 | 0 | 0 | ⋯ | 1 | 0 | 0 | 0 | 0 | 0 | 1 | 0 | 0 | 0 | \n",
       "| 0 | 0 | 0 | 0 | 0 | 0 | 1 | 0 | 0 | 0 | ⋯ | 1 | 0 | 0 | 0 | 0 | 0 | 1 | 0 | 0 | 0 | \n",
       "| 0 | 0 | 0 | 0 | 0 | 1 | 0 | 0 | 0 | 0 | ⋯ | 0 | 1 | 0 | 0 | 0 | 0 | 1 | 0 | 0 | 0 | \n",
       "| 0 | 0 | 0 | 0 | 1 | 0 | 0 | 0 | 0 | 0 | ⋯ | 0 | 1 | 0 | 0 | 0 | 0 | 1 | 0 | 0 | 0 | \n",
       "\n",
       "\n"
      ],
      "text/plain": [
       "  MSSubClass.20 MSSubClass.30 MSSubClass.40 MSSubClass.45 MSSubClass.50\n",
       "1 0             0             0             0             0            \n",
       "2 1             0             0             0             0            \n",
       "3 0             0             0             0             0            \n",
       "4 0             0             0             0             0            \n",
       "5 0             0             0             0             0            \n",
       "6 0             0             0             0             1            \n",
       "  MSSubClass.60 MSSubClass.70 MSSubClass.75 MSSubClass.80 MSSubClass.85 ⋯\n",
       "1 1             0             0             0             0             ⋯\n",
       "2 0             0             0             0             0             ⋯\n",
       "3 1             0             0             0             0             ⋯\n",
       "4 0             1             0             0             0             ⋯\n",
       "5 1             0             0             0             0             ⋯\n",
       "6 0             0             0             0             0             ⋯\n",
       "  WoodDeckSF.0 WoodDeckSF.1st_bin WoodDeckSF.2nd_bin WoodDeckSF.3rd_bin\n",
       "1 1            0                  0                  0                 \n",
       "2 0            0                  1                  0                 \n",
       "3 1            0                  0                  0                 \n",
       "4 1            0                  0                  0                 \n",
       "5 0            1                  0                  0                 \n",
       "6 0            1                  0                  0                 \n",
       "  WoodDeckSF.4th_bin OpenPorchSF.0 OpenPorchSF.1st_bin OpenPorchSF.2nd_bin\n",
       "1 0                  0             1                   0                  \n",
       "2 0                  1             0                   0                  \n",
       "3 0                  0             1                   0                  \n",
       "4 0                  0             1                   0                  \n",
       "5 0                  0             1                   0                  \n",
       "6 0                  0             1                   0                  \n",
       "  OpenPorchSF.3rd_bin OpenPorchSF.4th_bin\n",
       "1 0                   0                  \n",
       "2 0                   0                  \n",
       "3 0                   0                  \n",
       "4 0                   0                  \n",
       "5 0                   0                  \n",
       "6 0                   0                  "
      ]
     },
     "metadata": {},
     "output_type": "display_data"
    },
    {
     "data": {
      "text/html": [
       "<table>\n",
       "<tbody>\n",
       "\t<tr><td>1451</td><td>400 </td></tr>\n",
       "</tbody>\n",
       "</table>\n"
      ],
      "text/latex": [
       "\\begin{tabular}{ll}\n",
       "\t 1451 & 400 \\\\\n",
       "\\end{tabular}\n"
      ],
      "text/markdown": [
       "\n",
       "| 1451 | 400  | \n",
       "\n",
       "\n"
      ],
      "text/plain": [
       "     [,1] [,2]\n",
       "[1,] 1451 400 "
      ]
     },
     "metadata": {},
     "output_type": "display_data"
    }
   ],
   "source": [
    "ohe_categorical_df <- data.frame(predict(dummy_df, newdata = new_categorical_df))\n",
    "head(ohe_categorical_df)\n",
    "t(dim(ohe_categorical_df))"
   ]
  },
  {
   "cell_type": "code",
   "execution_count": 9,
   "metadata": {},
   "outputs": [
    {
     "data": {
      "text/html": [
       "<table>\n",
       "<thead><tr><th></th><th scope=col>MSSubClass.20</th><th scope=col>MSSubClass.30</th><th scope=col>MSSubClass.40</th><th scope=col>MSSubClass.45</th><th scope=col>MSSubClass.50</th><th scope=col>MSSubClass.60</th><th scope=col>MSSubClass.70</th><th scope=col>MSSubClass.75</th><th scope=col>MSSubClass.80</th><th scope=col>MSSubClass.85</th><th scope=col>⋯</th><th scope=col>WoodDeckSF.0</th><th scope=col>WoodDeckSF.1st_bin</th><th scope=col>WoodDeckSF.2nd_bin</th><th scope=col>WoodDeckSF.3rd_bin</th><th scope=col>WoodDeckSF.4th_bin</th><th scope=col>OpenPorchSF.0</th><th scope=col>OpenPorchSF.1st_bin</th><th scope=col>OpenPorchSF.2nd_bin</th><th scope=col>OpenPorchSF.3rd_bin</th><th scope=col>OpenPorchSF.4th_bin</th></tr></thead>\n",
       "<tbody>\n",
       "\t<tr><th scope=row>1</th><td>-0.760586  </td><td>-0.2233679 </td><td>-0.05255887</td><td>-0.09128733</td><td>-0.3318133 </td><td> 1.9746741 </td><td>-0.2076167 </td><td>-0.1055563 </td><td>-0.2021419 </td><td>-0.1181804 </td><td>⋯          </td><td> 0.9571546 </td><td>-0.7094222 </td><td>-0.3761957 </td><td>-0.1268674 </td><td>-0.05878292</td><td>-0.9055449 </td><td> 1.0822883 </td><td>-0.2891139 </td><td>-0.0950479 </td><td>-0.05255887</td></tr>\n",
       "\t<tr><th scope=row>2</th><td> 1.313870  </td><td>-0.2233679 </td><td>-0.05255887</td><td>-0.09128733</td><td>-0.3318133 </td><td>-0.5060637 </td><td>-0.2076167 </td><td>-0.1055563 </td><td>-0.2021419 </td><td>-0.1181804 </td><td>⋯          </td><td>-1.0440433 </td><td>-0.7094222 </td><td> 2.6563593 </td><td>-0.1268674 </td><td>-0.05878292</td><td> 1.1035464 </td><td>-0.9233315 </td><td>-0.2891139 </td><td>-0.0950479 </td><td>-0.05255887</td></tr>\n",
       "\t<tr><th scope=row>3</th><td>-0.760586  </td><td>-0.2233679 </td><td>-0.05255887</td><td>-0.09128733</td><td>-0.3318133 </td><td> 1.9746741 </td><td>-0.2076167 </td><td>-0.1055563 </td><td>-0.2021419 </td><td>-0.1181804 </td><td>⋯          </td><td> 0.9571546 </td><td>-0.7094222 </td><td>-0.3761957 </td><td>-0.1268674 </td><td>-0.05878292</td><td>-0.9055449 </td><td> 1.0822883 </td><td>-0.2891139 </td><td>-0.0950479 </td><td>-0.05255887</td></tr>\n",
       "\t<tr><th scope=row>4</th><td>-0.760586  </td><td>-0.2233679 </td><td>-0.05255887</td><td>-0.09128733</td><td>-0.3318133 </td><td>-0.5060637 </td><td> 4.8132480 </td><td>-0.1055563 </td><td>-0.2021419 </td><td>-0.1181804 </td><td>⋯          </td><td> 0.9571546 </td><td>-0.7094222 </td><td>-0.3761957 </td><td>-0.1268674 </td><td>-0.05878292</td><td>-0.9055449 </td><td> 1.0822883 </td><td>-0.2891139 </td><td>-0.0950479 </td><td>-0.05255887</td></tr>\n",
       "\t<tr><th scope=row>5</th><td>-0.760586  </td><td>-0.2233679 </td><td>-0.05255887</td><td>-0.09128733</td><td>-0.3318133 </td><td> 1.9746741 </td><td>-0.2076167 </td><td>-0.1055563 </td><td>-0.2021419 </td><td>-0.1181804 </td><td>⋯          </td><td>-1.0440433 </td><td> 1.4086264 </td><td>-0.3761957 </td><td>-0.1268674 </td><td>-0.05878292</td><td>-0.9055449 </td><td> 1.0822883 </td><td>-0.2891139 </td><td>-0.0950479 </td><td>-0.05255887</td></tr>\n",
       "\t<tr><th scope=row>6</th><td>-0.760586  </td><td>-0.2233679 </td><td>-0.05255887</td><td>-0.09128733</td><td> 3.0116663 </td><td>-0.5060637 </td><td>-0.2076167 </td><td>-0.1055563 </td><td>-0.2021419 </td><td>-0.1181804 </td><td>⋯          </td><td>-1.0440433 </td><td> 1.4086264 </td><td>-0.3761957 </td><td>-0.1268674 </td><td>-0.05878292</td><td>-0.9055449 </td><td> 1.0822883 </td><td>-0.2891139 </td><td>-0.0950479 </td><td>-0.05255887</td></tr>\n",
       "</tbody>\n",
       "</table>\n"
      ],
      "text/latex": [
       "\\begin{tabular}{r|llllllllllllllllllllllllllllllllllllllllllllllllllllllllllllllllllllllllllllllllllllllllllllllllllllllllllllllllllllllllllllllllllllllllllllllllllllllllllllllllllllllllllllllllllllllllllllllllllllllllllllllllllllllllllllllllllllllllllllllllllllllllllllllllllllllllllllllllllllllllllllllllllllllllllllllllllllllllllllllllllllllllllllllllllllllllllllllllllllllllllllllllllllllllllllllllllllllllllllllll}\n",
       "  & MSSubClass.20 & MSSubClass.30 & MSSubClass.40 & MSSubClass.45 & MSSubClass.50 & MSSubClass.60 & MSSubClass.70 & MSSubClass.75 & MSSubClass.80 & MSSubClass.85 & ⋯ & WoodDeckSF.0 & WoodDeckSF.1st\\_bin & WoodDeckSF.2nd\\_bin & WoodDeckSF.3rd\\_bin & WoodDeckSF.4th\\_bin & OpenPorchSF.0 & OpenPorchSF.1st\\_bin & OpenPorchSF.2nd\\_bin & OpenPorchSF.3rd\\_bin & OpenPorchSF.4th\\_bin\\\\\n",
       "\\hline\n",
       "\t1 & -0.760586   & -0.2233679  & -0.05255887 & -0.09128733 & -0.3318133  &  1.9746741  & -0.2076167  & -0.1055563  & -0.2021419  & -0.1181804  & ⋯           &  0.9571546  & -0.7094222  & -0.3761957  & -0.1268674  & -0.05878292 & -0.9055449  &  1.0822883  & -0.2891139  & -0.0950479  & -0.05255887\\\\\n",
       "\t2 &  1.313870   & -0.2233679  & -0.05255887 & -0.09128733 & -0.3318133  & -0.5060637  & -0.2076167  & -0.1055563  & -0.2021419  & -0.1181804  & ⋯           & -1.0440433  & -0.7094222  &  2.6563593  & -0.1268674  & -0.05878292 &  1.1035464  & -0.9233315  & -0.2891139  & -0.0950479  & -0.05255887\\\\\n",
       "\t3 & -0.760586   & -0.2233679  & -0.05255887 & -0.09128733 & -0.3318133  &  1.9746741  & -0.2076167  & -0.1055563  & -0.2021419  & -0.1181804  & ⋯           &  0.9571546  & -0.7094222  & -0.3761957  & -0.1268674  & -0.05878292 & -0.9055449  &  1.0822883  & -0.2891139  & -0.0950479  & -0.05255887\\\\\n",
       "\t4 & -0.760586   & -0.2233679  & -0.05255887 & -0.09128733 & -0.3318133  & -0.5060637  &  4.8132480  & -0.1055563  & -0.2021419  & -0.1181804  & ⋯           &  0.9571546  & -0.7094222  & -0.3761957  & -0.1268674  & -0.05878292 & -0.9055449  &  1.0822883  & -0.2891139  & -0.0950479  & -0.05255887\\\\\n",
       "\t5 & -0.760586   & -0.2233679  & -0.05255887 & -0.09128733 & -0.3318133  &  1.9746741  & -0.2076167  & -0.1055563  & -0.2021419  & -0.1181804  & ⋯           & -1.0440433  &  1.4086264  & -0.3761957  & -0.1268674  & -0.05878292 & -0.9055449  &  1.0822883  & -0.2891139  & -0.0950479  & -0.05255887\\\\\n",
       "\t6 & -0.760586   & -0.2233679  & -0.05255887 & -0.09128733 &  3.0116663  & -0.5060637  & -0.2076167  & -0.1055563  & -0.2021419  & -0.1181804  & ⋯           & -1.0440433  &  1.4086264  & -0.3761957  & -0.1268674  & -0.05878292 & -0.9055449  &  1.0822883  & -0.2891139  & -0.0950479  & -0.05255887\\\\\n",
       "\\end{tabular}\n"
      ],
      "text/markdown": [
       "\n",
       "| <!--/--> | MSSubClass.20 | MSSubClass.30 | MSSubClass.40 | MSSubClass.45 | MSSubClass.50 | MSSubClass.60 | MSSubClass.70 | MSSubClass.75 | MSSubClass.80 | MSSubClass.85 | ⋯ | WoodDeckSF.0 | WoodDeckSF.1st_bin | WoodDeckSF.2nd_bin | WoodDeckSF.3rd_bin | WoodDeckSF.4th_bin | OpenPorchSF.0 | OpenPorchSF.1st_bin | OpenPorchSF.2nd_bin | OpenPorchSF.3rd_bin | OpenPorchSF.4th_bin | \n",
       "|---|---|---|---|---|---|\n",
       "| 1 | -0.760586   | -0.2233679  | -0.05255887 | -0.09128733 | -0.3318133  |  1.9746741  | -0.2076167  | -0.1055563  | -0.2021419  | -0.1181804  | ⋯           |  0.9571546  | -0.7094222  | -0.3761957  | -0.1268674  | -0.05878292 | -0.9055449  |  1.0822883  | -0.2891139  | -0.0950479  | -0.05255887 | \n",
       "| 2 |  1.313870   | -0.2233679  | -0.05255887 | -0.09128733 | -0.3318133  | -0.5060637  | -0.2076167  | -0.1055563  | -0.2021419  | -0.1181804  | ⋯           | -1.0440433  | -0.7094222  |  2.6563593  | -0.1268674  | -0.05878292 |  1.1035464  | -0.9233315  | -0.2891139  | -0.0950479  | -0.05255887 | \n",
       "| 3 | -0.760586   | -0.2233679  | -0.05255887 | -0.09128733 | -0.3318133  |  1.9746741  | -0.2076167  | -0.1055563  | -0.2021419  | -0.1181804  | ⋯           |  0.9571546  | -0.7094222  | -0.3761957  | -0.1268674  | -0.05878292 | -0.9055449  |  1.0822883  | -0.2891139  | -0.0950479  | -0.05255887 | \n",
       "| 4 | -0.760586   | -0.2233679  | -0.05255887 | -0.09128733 | -0.3318133  | -0.5060637  |  4.8132480  | -0.1055563  | -0.2021419  | -0.1181804  | ⋯           |  0.9571546  | -0.7094222  | -0.3761957  | -0.1268674  | -0.05878292 | -0.9055449  |  1.0822883  | -0.2891139  | -0.0950479  | -0.05255887 | \n",
       "| 5 | -0.760586   | -0.2233679  | -0.05255887 | -0.09128733 | -0.3318133  |  1.9746741  | -0.2076167  | -0.1055563  | -0.2021419  | -0.1181804  | ⋯           | -1.0440433  |  1.4086264  | -0.3761957  | -0.1268674  | -0.05878292 | -0.9055449  |  1.0822883  | -0.2891139  | -0.0950479  | -0.05255887 | \n",
       "| 6 | -0.760586   | -0.2233679  | -0.05255887 | -0.09128733 |  3.0116663  | -0.5060637  | -0.2076167  | -0.1055563  | -0.2021419  | -0.1181804  | ⋯           | -1.0440433  |  1.4086264  | -0.3761957  | -0.1268674  | -0.05878292 | -0.9055449  |  1.0822883  | -0.2891139  | -0.0950479  | -0.05255887 | \n",
       "\n",
       "\n"
      ],
      "text/plain": [
       "  MSSubClass.20 MSSubClass.30 MSSubClass.40 MSSubClass.45 MSSubClass.50\n",
       "1 -0.760586     -0.2233679    -0.05255887   -0.09128733   -0.3318133   \n",
       "2  1.313870     -0.2233679    -0.05255887   -0.09128733   -0.3318133   \n",
       "3 -0.760586     -0.2233679    -0.05255887   -0.09128733   -0.3318133   \n",
       "4 -0.760586     -0.2233679    -0.05255887   -0.09128733   -0.3318133   \n",
       "5 -0.760586     -0.2233679    -0.05255887   -0.09128733   -0.3318133   \n",
       "6 -0.760586     -0.2233679    -0.05255887   -0.09128733    3.0116663   \n",
       "  MSSubClass.60 MSSubClass.70 MSSubClass.75 MSSubClass.80 MSSubClass.85 ⋯\n",
       "1  1.9746741    -0.2076167    -0.1055563    -0.2021419    -0.1181804    ⋯\n",
       "2 -0.5060637    -0.2076167    -0.1055563    -0.2021419    -0.1181804    ⋯\n",
       "3  1.9746741    -0.2076167    -0.1055563    -0.2021419    -0.1181804    ⋯\n",
       "4 -0.5060637     4.8132480    -0.1055563    -0.2021419    -0.1181804    ⋯\n",
       "5  1.9746741    -0.2076167    -0.1055563    -0.2021419    -0.1181804    ⋯\n",
       "6 -0.5060637    -0.2076167    -0.1055563    -0.2021419    -0.1181804    ⋯\n",
       "  WoodDeckSF.0 WoodDeckSF.1st_bin WoodDeckSF.2nd_bin WoodDeckSF.3rd_bin\n",
       "1  0.9571546   -0.7094222         -0.3761957         -0.1268674        \n",
       "2 -1.0440433   -0.7094222          2.6563593         -0.1268674        \n",
       "3  0.9571546   -0.7094222         -0.3761957         -0.1268674        \n",
       "4  0.9571546   -0.7094222         -0.3761957         -0.1268674        \n",
       "5 -1.0440433    1.4086264         -0.3761957         -0.1268674        \n",
       "6 -1.0440433    1.4086264         -0.3761957         -0.1268674        \n",
       "  WoodDeckSF.4th_bin OpenPorchSF.0 OpenPorchSF.1st_bin OpenPorchSF.2nd_bin\n",
       "1 -0.05878292        -0.9055449     1.0822883          -0.2891139         \n",
       "2 -0.05878292         1.1035464    -0.9233315          -0.2891139         \n",
       "3 -0.05878292        -0.9055449     1.0822883          -0.2891139         \n",
       "4 -0.05878292        -0.9055449     1.0822883          -0.2891139         \n",
       "5 -0.05878292        -0.9055449     1.0822883          -0.2891139         \n",
       "6 -0.05878292        -0.9055449     1.0822883          -0.2891139         \n",
       "  OpenPorchSF.3rd_bin OpenPorchSF.4th_bin\n",
       "1 -0.0950479          -0.05255887        \n",
       "2 -0.0950479          -0.05255887        \n",
       "3 -0.0950479          -0.05255887        \n",
       "4 -0.0950479          -0.05255887        \n",
       "5 -0.0950479          -0.05255887        \n",
       "6 -0.0950479          -0.05255887        "
      ]
     },
     "metadata": {},
     "output_type": "display_data"
    }
   ],
   "source": [
    "scaled_ohe_categorical_df <- scale(ohe_categorical_df)\n",
    "head(scaled_ohe_categorical_df)"
   ]
  },
  {
   "cell_type": "markdown",
   "metadata": {},
   "source": [
    "### Turn Logical Variables into Integers"
   ]
  },
  {
   "cell_type": "code",
   "execution_count": 10,
   "metadata": {},
   "outputs": [
    {
     "data": {
      "text/html": [
       "<table>\n",
       "<tbody>\n",
       "\t<tr><td>BsmtFinSF2   </td><td>LowQualFinSF </td><td>EnclosedPorch</td><td>ThreeSsnPorch</td><td>ScreenPorch  </td><td>PoolArea     </td><td>MiscVal      </td></tr>\n",
       "</tbody>\n",
       "</table>\n"
      ],
      "text/latex": [
       "\\begin{tabular}{lllllll}\n",
       "\t BsmtFinSF2    & LowQualFinSF  & EnclosedPorch & ThreeSsnPorch & ScreenPorch   & PoolArea      & MiscVal      \\\\\n",
       "\\end{tabular}\n"
      ],
      "text/markdown": [
       "\n",
       "| BsmtFinSF2    | LowQualFinSF  | EnclosedPorch | ThreeSsnPorch | ScreenPorch   | PoolArea      | MiscVal       | \n",
       "\n",
       "\n"
      ],
      "text/plain": [
       "     [,1]       [,2]         [,3]          [,4]          [,5]        [,6]    \n",
       "[1,] BsmtFinSF2 LowQualFinSF EnclosedPorch ThreeSsnPorch ScreenPorch PoolArea\n",
       "     [,7]   \n",
       "[1,] MiscVal"
      ]
     },
     "metadata": {},
     "output_type": "display_data"
    },
    {
     "data": {
      "text/html": [
       "<table>\n",
       "<tbody>\n",
       "\t<tr><td>1451</td><td>7   </td></tr>\n",
       "</tbody>\n",
       "</table>\n"
      ],
      "text/latex": [
       "\\begin{tabular}{ll}\n",
       "\t 1451 & 7   \\\\\n",
       "\\end{tabular}\n"
      ],
      "text/markdown": [
       "\n",
       "| 1451 | 7    | \n",
       "\n",
       "\n"
      ],
      "text/plain": [
       "     [,1] [,2]\n",
       "[1,] 1451 7   "
      ]
     },
     "metadata": {},
     "output_type": "display_data"
    }
   ],
   "source": [
    "bools_df <- Filter(is.logical, ames_df)\n",
    "t(colnames(bools_df))\n",
    "t(dim(bools_df))"
   ]
  },
  {
   "cell_type": "code",
   "execution_count": 12,
   "metadata": {},
   "outputs": [
    {
     "data": {
      "text/html": [
       "<table>\n",
       "<thead><tr><th scope=col>BsmtFinSF2</th><th scope=col>LowQualFinSF</th><th scope=col>EnclosedPorch</th><th scope=col>ThreeSsnPorch</th><th scope=col>ScreenPorch</th><th scope=col>PoolArea</th><th scope=col>MiscVal</th></tr></thead>\n",
       "<tbody>\n",
       "\t<tr><td>-0.3605172 </td><td>-0.1350298 </td><td>-0.4077794 </td><td>-0.1296415 </td><td>-0.2946719 </td><td>-0.06960104</td><td>-0.1927272 </td></tr>\n",
       "\t<tr><td>-0.3605172 </td><td>-0.1350298 </td><td>-0.4077794 </td><td>-0.1296415 </td><td>-0.2946719 </td><td>-0.06960104</td><td>-0.1927272 </td></tr>\n",
       "\t<tr><td>-0.3605172 </td><td>-0.1350298 </td><td>-0.4077794 </td><td>-0.1296415 </td><td>-0.2946719 </td><td>-0.06960104</td><td>-0.1927272 </td></tr>\n",
       "\t<tr><td>-0.3605172 </td><td>-0.1350298 </td><td> 2.4506163 </td><td>-0.1296415 </td><td>-0.2946719 </td><td>-0.06960104</td><td>-0.1927272 </td></tr>\n",
       "\t<tr><td>-0.3605172 </td><td>-0.1350298 </td><td>-0.4077794 </td><td>-0.1296415 </td><td>-0.2946719 </td><td>-0.06960104</td><td>-0.1927272 </td></tr>\n",
       "\t<tr><td>-0.3605172 </td><td>-0.1350298 </td><td>-0.4077794 </td><td> 7.7082654 </td><td>-0.2946719 </td><td>-0.06960104</td><td> 5.1851041 </td></tr>\n",
       "</tbody>\n",
       "</table>\n"
      ],
      "text/latex": [
       "\\begin{tabular}{lllllll}\n",
       " BsmtFinSF2 & LowQualFinSF & EnclosedPorch & ThreeSsnPorch & ScreenPorch & PoolArea & MiscVal\\\\\n",
       "\\hline\n",
       "\t -0.3605172  & -0.1350298  & -0.4077794  & -0.1296415  & -0.2946719  & -0.06960104 & -0.1927272 \\\\\n",
       "\t -0.3605172  & -0.1350298  & -0.4077794  & -0.1296415  & -0.2946719  & -0.06960104 & -0.1927272 \\\\\n",
       "\t -0.3605172  & -0.1350298  & -0.4077794  & -0.1296415  & -0.2946719  & -0.06960104 & -0.1927272 \\\\\n",
       "\t -0.3605172  & -0.1350298  &  2.4506163  & -0.1296415  & -0.2946719  & -0.06960104 & -0.1927272 \\\\\n",
       "\t -0.3605172  & -0.1350298  & -0.4077794  & -0.1296415  & -0.2946719  & -0.06960104 & -0.1927272 \\\\\n",
       "\t -0.3605172  & -0.1350298  & -0.4077794  &  7.7082654  & -0.2946719  & -0.06960104 &  5.1851041 \\\\\n",
       "\\end{tabular}\n"
      ],
      "text/markdown": [
       "\n",
       "BsmtFinSF2 | LowQualFinSF | EnclosedPorch | ThreeSsnPorch | ScreenPorch | PoolArea | MiscVal | \n",
       "|---|---|---|---|---|---|\n",
       "| -0.3605172  | -0.1350298  | -0.4077794  | -0.1296415  | -0.2946719  | -0.06960104 | -0.1927272  | \n",
       "| -0.3605172  | -0.1350298  | -0.4077794  | -0.1296415  | -0.2946719  | -0.06960104 | -0.1927272  | \n",
       "| -0.3605172  | -0.1350298  | -0.4077794  | -0.1296415  | -0.2946719  | -0.06960104 | -0.1927272  | \n",
       "| -0.3605172  | -0.1350298  |  2.4506163  | -0.1296415  | -0.2946719  | -0.06960104 | -0.1927272  | \n",
       "| -0.3605172  | -0.1350298  | -0.4077794  | -0.1296415  | -0.2946719  | -0.06960104 | -0.1927272  | \n",
       "| -0.3605172  | -0.1350298  | -0.4077794  |  7.7082654  | -0.2946719  | -0.06960104 |  5.1851041  | \n",
       "\n",
       "\n"
      ],
      "text/plain": [
       "     BsmtFinSF2 LowQualFinSF EnclosedPorch ThreeSsnPorch ScreenPorch\n",
       "[1,] -0.3605172 -0.1350298   -0.4077794    -0.1296415    -0.2946719 \n",
       "[2,] -0.3605172 -0.1350298   -0.4077794    -0.1296415    -0.2946719 \n",
       "[3,] -0.3605172 -0.1350298   -0.4077794    -0.1296415    -0.2946719 \n",
       "[4,] -0.3605172 -0.1350298    2.4506163    -0.1296415    -0.2946719 \n",
       "[5,] -0.3605172 -0.1350298   -0.4077794    -0.1296415    -0.2946719 \n",
       "[6,] -0.3605172 -0.1350298   -0.4077794     7.7082654    -0.2946719 \n",
       "     PoolArea    MiscVal   \n",
       "[1,] -0.06960104 -0.1927272\n",
       "[2,] -0.06960104 -0.1927272\n",
       "[3,] -0.06960104 -0.1927272\n",
       "[4,] -0.06960104 -0.1927272\n",
       "[5,] -0.06960104 -0.1927272\n",
       "[6,] -0.06960104  5.1851041"
      ]
     },
     "metadata": {},
     "output_type": "display_data"
    }
   ],
   "source": [
    "int_bool_df <- as.data.frame(lapply(bools_df, as.integer))\n",
    "scaled_ohebool_df <- scale(int_bool_df)\n",
    "head(scaled_ohebool_df)"
   ]
  },
  {
   "cell_type": "code",
   "execution_count": 13,
   "metadata": {},
   "outputs": [
    {
     "data": {
      "text/html": [
       "<table>\n",
       "<tbody>\n",
       "\t<tr><td>1451</td><td>12  </td></tr>\n",
       "</tbody>\n",
       "</table>\n"
      ],
      "text/latex": [
       "\\begin{tabular}{ll}\n",
       "\t 1451 & 12  \\\\\n",
       "\\end{tabular}\n"
      ],
      "text/markdown": [
       "\n",
       "| 1451 | 12   | \n",
       "\n",
       "\n"
      ],
      "text/plain": [
       "     [,1] [,2]\n",
       "[1,] 1451 12  "
      ]
     },
     "metadata": {},
     "output_type": "display_data"
    }
   ],
   "source": [
    "numeric_df <- Filter(is.numeric, ames_df)\n",
    "t(dim(numeric_df))"
   ]
  },
  {
   "cell_type": "code",
   "execution_count": 14,
   "metadata": {},
   "outputs": [],
   "source": [
    "final_ames_df <- data.frame(scaled_ohe_categorical_df, scaled_ohebool_df, numeric_df)\n",
    "unscaled_ames_df <- data.frame(ohe_categorical_df, int_bool_df, numeric_df)"
   ]
  },
  {
   "cell_type": "code",
   "execution_count": 16,
   "metadata": {},
   "outputs": [
    {
     "data": {
      "text/html": [
       "<table>\n",
       "<tbody>\n",
       "\t<tr><td>1451</td><td>419 </td></tr>\n",
       "</tbody>\n",
       "</table>\n"
      ],
      "text/latex": [
       "\\begin{tabular}{ll}\n",
       "\t 1451 & 419 \\\\\n",
       "\\end{tabular}\n"
      ],
      "text/markdown": [
       "\n",
       "| 1451 | 419  | \n",
       "\n",
       "\n"
      ],
      "text/plain": [
       "     [,1] [,2]\n",
       "[1,] 1451 419 "
      ]
     },
     "metadata": {},
     "output_type": "display_data"
    },
    {
     "data": {
      "text/html": [
       "<table>\n",
       "<tbody>\n",
       "\t<tr><td>1451</td><td>419 </td></tr>\n",
       "</tbody>\n",
       "</table>\n"
      ],
      "text/latex": [
       "\\begin{tabular}{ll}\n",
       "\t 1451 & 419 \\\\\n",
       "\\end{tabular}\n"
      ],
      "text/markdown": [
       "\n",
       "| 1451 | 419  | \n",
       "\n",
       "\n"
      ],
      "text/plain": [
       "     [,1] [,2]\n",
       "[1,] 1451 419 "
      ]
     },
     "metadata": {},
     "output_type": "display_data"
    }
   ],
   "source": [
    "t(dim(final_ames_df))\n",
    "t(dim(unscaled_ames_df))"
   ]
  },
  {
   "cell_type": "code",
   "execution_count": 17,
   "metadata": {},
   "outputs": [
    {
     "data": {
      "text/html": [
       "<table>\n",
       "<tbody>\n",
       "\t<tr><td>1451</td><td>0   </td></tr>\n",
       "</tbody>\n",
       "</table>\n"
      ],
      "text/latex": [
       "\\begin{tabular}{ll}\n",
       "\t 1451 & 0   \\\\\n",
       "\\end{tabular}\n"
      ],
      "text/markdown": [
       "\n",
       "| 1451 | 0    | \n",
       "\n",
       "\n"
      ],
      "text/plain": [
       "     [,1] [,2]\n",
       "[1,] 1451 0   "
      ]
     },
     "metadata": {},
     "output_type": "display_data"
    },
    {
     "data": {
      "text/html": [
       "<table>\n",
       "<tbody>\n",
       "\t<tr><td>1451</td><td>0   </td></tr>\n",
       "</tbody>\n",
       "</table>\n"
      ],
      "text/latex": [
       "\\begin{tabular}{ll}\n",
       "\t 1451 & 0   \\\\\n",
       "\\end{tabular}\n"
      ],
      "text/markdown": [
       "\n",
       "| 1451 | 0    | \n",
       "\n",
       "\n"
      ],
      "text/plain": [
       "     [,1] [,2]\n",
       "[1,] 1451 0   "
      ]
     },
     "metadata": {},
     "output_type": "display_data"
    },
    {
     "data": {
      "text/html": [
       "<table>\n",
       "<tbody>\n",
       "\t<tr><td>1451</td><td>419 </td></tr>\n",
       "</tbody>\n",
       "</table>\n"
      ],
      "text/latex": [
       "\\begin{tabular}{ll}\n",
       "\t 1451 & 419 \\\\\n",
       "\\end{tabular}\n"
      ],
      "text/markdown": [
       "\n",
       "| 1451 | 419  | \n",
       "\n",
       "\n"
      ],
      "text/plain": [
       "     [,1] [,2]\n",
       "[1,] 1451 419 "
      ]
     },
     "metadata": {},
     "output_type": "display_data"
    }
   ],
   "source": [
    "### Checking data types for final_ames_df\n",
    "any_factors <- Filter(is.factor, final_ames_df)\n",
    "t(dim(any_factors))\n",
    "\n",
    "any_bools <- Filter(is.logical, final_ames_df)\n",
    "t(dim(any_bools))\n",
    "\n",
    "any_numeric <- Filter(is.numeric, final_ames_df)\n",
    "t(dim(any_numeric))"
   ]
  },
  {
   "cell_type": "code",
   "execution_count": 18,
   "metadata": {},
   "outputs": [
    {
     "data": {
      "text/html": [
       "<table>\n",
       "<tbody>\n",
       "\t<tr><td>1451</td><td>0   </td></tr>\n",
       "</tbody>\n",
       "</table>\n"
      ],
      "text/latex": [
       "\\begin{tabular}{ll}\n",
       "\t 1451 & 0   \\\\\n",
       "\\end{tabular}\n"
      ],
      "text/markdown": [
       "\n",
       "| 1451 | 0    | \n",
       "\n",
       "\n"
      ],
      "text/plain": [
       "     [,1] [,2]\n",
       "[1,] 1451 0   "
      ]
     },
     "metadata": {},
     "output_type": "display_data"
    },
    {
     "data": {
      "text/html": [
       "<table>\n",
       "<tbody>\n",
       "\t<tr><td>1451</td><td>0   </td></tr>\n",
       "</tbody>\n",
       "</table>\n"
      ],
      "text/latex": [
       "\\begin{tabular}{ll}\n",
       "\t 1451 & 0   \\\\\n",
       "\\end{tabular}\n"
      ],
      "text/markdown": [
       "\n",
       "| 1451 | 0    | \n",
       "\n",
       "\n"
      ],
      "text/plain": [
       "     [,1] [,2]\n",
       "[1,] 1451 0   "
      ]
     },
     "metadata": {},
     "output_type": "display_data"
    },
    {
     "data": {
      "text/html": [
       "<table>\n",
       "<tbody>\n",
       "\t<tr><td>1451</td><td>419 </td></tr>\n",
       "</tbody>\n",
       "</table>\n"
      ],
      "text/latex": [
       "\\begin{tabular}{ll}\n",
       "\t 1451 & 419 \\\\\n",
       "\\end{tabular}\n"
      ],
      "text/markdown": [
       "\n",
       "| 1451 | 419  | \n",
       "\n",
       "\n"
      ],
      "text/plain": [
       "     [,1] [,2]\n",
       "[1,] 1451 419 "
      ]
     },
     "metadata": {},
     "output_type": "display_data"
    }
   ],
   "source": [
    "### Checking data types for unscaled_ames_df\n",
    "any_factors <- Filter(is.factor, unscaled_ames_df)\n",
    "t(dim(any_factors))\n",
    "\n",
    "any_bools <- Filter(is.logical, unscaled_ames_df)\n",
    "t(dim(any_bools))\n",
    "\n",
    "any_numeric <- Filter(is.numeric, unscaled_ames_df)\n",
    "t(dim(any_numeric))"
   ]
  },
  {
   "cell_type": "code",
   "execution_count": 19,
   "metadata": {},
   "outputs": [],
   "source": [
    "#After OHE categorical variables that originally contained \"NA\" values, a column with NAs appears in the OHE.\n",
    "\n",
    "final_ames_df$Alley. <- NULL\n",
    "final_ames_df$MasVnrType. <- NULL\n",
    "final_ames_df$BsmtQual. <- NULL\n",
    "final_ames_df$BsmtCond. <- NULL\n",
    "final_ames_df$BsmtExposure. <- NULL\n",
    "final_ames_df$BsmtFinType1. <- NULL\n",
    "final_ames_df$BsmtFinType2. <- NULL\n",
    "final_ames_df$Electrical. <- NULL\n",
    "final_ames_df$FireplaceQu. <- NULL\n",
    "final_ames_df$GarageType. <- NULL\n",
    "final_ames_df$GarageFinish. <- NULL\n",
    "final_ames_df$GarageQual. <- NULL\n",
    "final_ames_df$GarageCond. <- NULL\n",
    "final_ames_df$PoolQC. <- NULL\n",
    "final_ames_df$Fence. <- NULL\n",
    "final_ames_df$MiscFeature. <- NULL\n",
    "\n",
    "\n",
    "unscaled_ames_df$Alley. <- NULL\n",
    "unscaled_ames_df$MasVnrType. <- NULL\n",
    "unscaled_ames_df$BsmtQual. <- NULL\n",
    "unscaled_ames_df$BsmtCond. <- NULL\n",
    "unscaled_ames_df$BsmtExposure. <- NULL\n",
    "unscaled_ames_df$BsmtFinType1. <- NULL\n",
    "unscaled_ames_df$BsmtFinType2. <- NULL\n",
    "unscaled_ames_df$Electrical. <- NULL\n",
    "unscaled_ames_df$FireplaceQu. <- NULL\n",
    "unscaled_ames_df$GarageType. <- NULL\n",
    "unscaled_ames_df$GarageFinish. <- NULL\n",
    "unscaled_ames_df$GarageQual. <- NULL\n",
    "unscaled_ames_df$GarageCond. <- NULL\n",
    "unscaled_ames_df$PoolQC. <- NULL\n",
    "unscaled_ames_df$Fence. <- NULL\n",
    "unscaled_ames_df$MiscFeature. <- NULL"
   ]
  },
  {
   "cell_type": "code",
   "execution_count": 20,
   "metadata": {},
   "outputs": [
    {
     "data": {
      "text/html": [
       "<table>\n",
       "<tbody>\n",
       "\t<tr><td>1451</td><td>403 </td></tr>\n",
       "</tbody>\n",
       "</table>\n"
      ],
      "text/latex": [
       "\\begin{tabular}{ll}\n",
       "\t 1451 & 403 \\\\\n",
       "\\end{tabular}\n"
      ],
      "text/markdown": [
       "\n",
       "| 1451 | 403  | \n",
       "\n",
       "\n"
      ],
      "text/plain": [
       "     [,1] [,2]\n",
       "[1,] 1451 403 "
      ]
     },
     "metadata": {},
     "output_type": "display_data"
    },
    {
     "data": {
      "text/html": [
       "<table>\n",
       "<tbody>\n",
       "\t<tr><td>1451</td><td>403 </td></tr>\n",
       "</tbody>\n",
       "</table>\n"
      ],
      "text/latex": [
       "\\begin{tabular}{ll}\n",
       "\t 1451 & 403 \\\\\n",
       "\\end{tabular}\n"
      ],
      "text/markdown": [
       "\n",
       "| 1451 | 403  | \n",
       "\n",
       "\n"
      ],
      "text/plain": [
       "     [,1] [,2]\n",
       "[1,] 1451 403 "
      ]
     },
     "metadata": {},
     "output_type": "display_data"
    }
   ],
   "source": [
    "t(dim(final_ames_df))\n",
    "t(dim(unscaled_ames_df))"
   ]
  },
  {
   "cell_type": "markdown",
   "metadata": {},
   "source": [
    "Our final dataframe consists of 1451 rows and 402 columns, which are now all numeric values."
   ]
  },
  {
   "cell_type": "code",
   "execution_count": 21,
   "metadata": {},
   "outputs": [],
   "source": [
    "write.csv(final_ames_df, 'final_ames_df.csv')"
   ]
  },
  {
   "cell_type": "code",
   "execution_count": 22,
   "metadata": {},
   "outputs": [],
   "source": [
    "write.csv(unscaled_ames_df, 'unscaled_ames_df.csv')"
   ]
  },
  {
   "cell_type": "code",
   "execution_count": null,
   "metadata": {},
   "outputs": [],
   "source": []
  }
 ],
 "metadata": {
  "kernelspec": {
   "display_name": "R",
   "language": "R",
   "name": "ir"
  },
  "language_info": {
   "codemirror_mode": "r",
   "file_extension": ".r",
   "mimetype": "text/x-r-source",
   "name": "R",
   "pygments_lexer": "r",
   "version": "3.4.1"
  }
 },
 "nbformat": 4,
 "nbformat_minor": 2
}
