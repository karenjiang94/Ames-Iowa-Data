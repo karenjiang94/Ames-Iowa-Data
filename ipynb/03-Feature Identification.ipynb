{
 "cells": [
  {
   "cell_type": "code",
   "execution_count": 1,
   "metadata": {},
   "outputs": [],
   "source": [
    "source('../src/load_data.r')\n",
    "source('../src/multiplot.r')"
   ]
  },
  {
   "cell_type": "code",
   "execution_count": 2,
   "metadata": {},
   "outputs": [
    {
     "data": {
      "text/html": [
       "<table>\n",
       "<thead><tr><th scope=col>MSSubClass.20</th><th scope=col>MSSubClass.30</th><th scope=col>MSSubClass.40</th><th scope=col>MSSubClass.45</th><th scope=col>MSSubClass.50</th><th scope=col>MSSubClass.60</th><th scope=col>MSSubClass.70</th><th scope=col>MSSubClass.75</th><th scope=col>MSSubClass.80</th><th scope=col>MSSubClass.85</th><th scope=col>⋯</th><th scope=col>LotArea</th><th scope=col>YearBuilt</th><th scope=col>YearRemodAdd</th><th scope=col>BsmtFinSF1</th><th scope=col>BsmtUnfSF</th><th scope=col>TotalBsmtSF</th><th scope=col>FirstFlrSF</th><th scope=col>GrLivArea</th><th scope=col>GarageYrBlt</th><th scope=col>GarageArea</th></tr></thead>\n",
       "<tbody>\n",
       "\t<tr><td>-0.760586  </td><td>-0.2233679 </td><td>-0.05255887</td><td>-0.09128733</td><td>-0.3318133 </td><td> 1.9746741 </td><td>-0.2076167 </td><td>-0.1055563 </td><td>-0.2021419 </td><td>-0.1181804 </td><td>⋯          </td><td>-0.1316206 </td><td> 1.0509849 </td><td> 0.8820760 </td><td>0.7205018  </td><td> 0.08917398</td><td>0.10842138 </td><td>-0.8026317 </td><td> 0.5315369 </td><td> 1.02265460</td><td>0.2771098  </td></tr>\n",
       "\t<tr><td> 1.313870  </td><td>-0.2233679 </td><td>-0.05255887</td><td>-0.09128733</td><td>-0.3318133 </td><td>-0.5060637 </td><td>-0.2076167 </td><td>-0.1055563 </td><td>-0.2021419 </td><td>-0.1181804 </td><td>⋯          </td><td> 0.1149991 </td><td> 0.1692304 </td><td>-0.4188065 </td><td>0.7552734  </td><td> 0.20492237</td><td>0.22641726 </td><td> 0.4214040 </td><td>-0.3785471 </td><td>-0.09204807</td><td>0.2390487  </td></tr>\n",
       "\t<tr><td>-0.760586  </td><td>-0.2233679 </td><td>-0.05255887</td><td>-0.09128733</td><td>-0.3318133 </td><td> 1.9746741 </td><td>-0.2076167 </td><td>-0.1055563 </td><td>-0.2021419 </td><td>-0.1181804 </td><td>⋯          </td><td> 0.4215520 </td><td> 0.9860786 </td><td> 0.8342087 </td><td>0.6806608  </td><td> 0.28181796</td><td>0.13033862 </td><td>-0.5752722 </td><td> 0.6618057 </td><td> 0.94060083</td><td>0.2997008  </td></tr>\n",
       "\t<tr><td>-0.760586  </td><td>-0.2233679 </td><td>-0.05255887</td><td>-0.09128733</td><td>-0.3318133 </td><td>-0.5060637 </td><td> 4.8132480 </td><td>-0.1055563 </td><td>-0.2021419 </td><td>-0.1181804 </td><td>⋯          </td><td> 0.1049061 </td><td>-1.8680714 </td><td>-0.7103048 </td><td>0.5941378  </td><td> 0.32144248</td><td>0.07065950 </td><td>-0.4377884 </td><td> 0.5437750 </td><td> 0.81736628</td><td>0.3115320  </td></tr>\n",
       "\t<tr><td>-0.760586  </td><td>-0.2233679 </td><td>-0.05255887</td><td>-0.09128733</td><td>-0.3318133 </td><td> 1.9746741 </td><td>-0.2076167 </td><td>-0.1055563 </td><td>-0.2021419 </td><td>-0.1181804 </td><td>⋯          </td><td> 0.8798018 </td><td> 0.9536011 </td><td> 0.7384023 </td><td>0.7125017  </td><td> 0.30382402</td><td>0.19684307 </td><td> 0.1146148 </td><td> 1.2836237 </td><td> 0.89954319</td><td>0.3689426  </td></tr>\n",
       "\t<tr><td>-0.760586  </td><td>-0.2233679 </td><td>-0.05255887</td><td>-0.09128733</td><td> 3.0116663 </td><td>-0.5060637 </td><td>-0.2076167 </td><td>-0.1055563 </td><td>-0.2021419 </td><td>-0.1181804 </td><td>⋯          </td><td> 0.8600478 </td><td> 0.7258029 </td><td> 0.4984665 </td><td>0.7243605  </td><td>-0.06527209</td><td>0.08633152 </td><td>-1.0317819 </td><td>-0.1501048 </td><td> 0.61156359</td><td>0.2483025  </td></tr>\n",
       "</tbody>\n",
       "</table>\n"
      ],
      "text/latex": [
       "\\begin{tabular}{r|llllllllllllllllllllllllllllllllllllllllllllllllllllllllllllllllllllllllllllllllllllllllllllllllllllllllllllllllllllllllllllllllllllllllllllllllllllllllllllllllllllllllllllllllllllllllllllllllllllllllllllllllllllllllllllllllllllllllllllllllllllllllllllllllllllllllllllllllllllllllllllllllllllllllllllllllllllllllllllllllllllllllllllllllllllllllllllllllllllllllllllllllllllllllllllllllllllllllllllllllll}\n",
       " MSSubClass.20 & MSSubClass.30 & MSSubClass.40 & MSSubClass.45 & MSSubClass.50 & MSSubClass.60 & MSSubClass.70 & MSSubClass.75 & MSSubClass.80 & MSSubClass.85 & ⋯ & LotArea & YearBuilt & YearRemodAdd & BsmtFinSF1 & BsmtUnfSF & TotalBsmtSF & FirstFlrSF & GrLivArea & GarageYrBlt & GarageArea\\\\\n",
       "\\hline\n",
       "\t -0.760586   & -0.2233679  & -0.05255887 & -0.09128733 & -0.3318133  &  1.9746741  & -0.2076167  & -0.1055563  & -0.2021419  & -0.1181804  & ⋯           & -0.1316206  &  1.0509849  &  0.8820760  & 0.7205018   &  0.08917398 & 0.10842138  & -0.8026317  &  0.5315369  &  1.02265460 & 0.2771098  \\\\\n",
       "\t  1.313870   & -0.2233679  & -0.05255887 & -0.09128733 & -0.3318133  & -0.5060637  & -0.2076167  & -0.1055563  & -0.2021419  & -0.1181804  & ⋯           &  0.1149991  &  0.1692304  & -0.4188065  & 0.7552734   &  0.20492237 & 0.22641726  &  0.4214040  & -0.3785471  & -0.09204807 & 0.2390487  \\\\\n",
       "\t -0.760586   & -0.2233679  & -0.05255887 & -0.09128733 & -0.3318133  &  1.9746741  & -0.2076167  & -0.1055563  & -0.2021419  & -0.1181804  & ⋯           &  0.4215520  &  0.9860786  &  0.8342087  & 0.6806608   &  0.28181796 & 0.13033862  & -0.5752722  &  0.6618057  &  0.94060083 & 0.2997008  \\\\\n",
       "\t -0.760586   & -0.2233679  & -0.05255887 & -0.09128733 & -0.3318133  & -0.5060637  &  4.8132480  & -0.1055563  & -0.2021419  & -0.1181804  & ⋯           &  0.1049061  & -1.8680714  & -0.7103048  & 0.5941378   &  0.32144248 & 0.07065950  & -0.4377884  &  0.5437750  &  0.81736628 & 0.3115320  \\\\\n",
       "\t -0.760586   & -0.2233679  & -0.05255887 & -0.09128733 & -0.3318133  &  1.9746741  & -0.2076167  & -0.1055563  & -0.2021419  & -0.1181804  & ⋯           &  0.8798018  &  0.9536011  &  0.7384023  & 0.7125017   &  0.30382402 & 0.19684307  &  0.1146148  &  1.2836237  &  0.89954319 & 0.3689426  \\\\\n",
       "\t -0.760586   & -0.2233679  & -0.05255887 & -0.09128733 &  3.0116663  & -0.5060637  & -0.2076167  & -0.1055563  & -0.2021419  & -0.1181804  & ⋯           &  0.8600478  &  0.7258029  &  0.4984665  & 0.7243605   & -0.06527209 & 0.08633152  & -1.0317819  & -0.1501048  &  0.61156359 & 0.2483025  \\\\\n",
       "\\end{tabular}\n"
      ],
      "text/markdown": [
       "\n",
       "MSSubClass.20 | MSSubClass.30 | MSSubClass.40 | MSSubClass.45 | MSSubClass.50 | MSSubClass.60 | MSSubClass.70 | MSSubClass.75 | MSSubClass.80 | MSSubClass.85 | ⋯ | LotArea | YearBuilt | YearRemodAdd | BsmtFinSF1 | BsmtUnfSF | TotalBsmtSF | FirstFlrSF | GrLivArea | GarageYrBlt | GarageArea | \n",
       "|---|---|---|---|---|---|\n",
       "| -0.760586   | -0.2233679  | -0.05255887 | -0.09128733 | -0.3318133  |  1.9746741  | -0.2076167  | -0.1055563  | -0.2021419  | -0.1181804  | ⋯           | -0.1316206  |  1.0509849  |  0.8820760  | 0.7205018   |  0.08917398 | 0.10842138  | -0.8026317  |  0.5315369  |  1.02265460 | 0.2771098   | \n",
       "|  1.313870   | -0.2233679  | -0.05255887 | -0.09128733 | -0.3318133  | -0.5060637  | -0.2076167  | -0.1055563  | -0.2021419  | -0.1181804  | ⋯           |  0.1149991  |  0.1692304  | -0.4188065  | 0.7552734   |  0.20492237 | 0.22641726  |  0.4214040  | -0.3785471  | -0.09204807 | 0.2390487   | \n",
       "| -0.760586   | -0.2233679  | -0.05255887 | -0.09128733 | -0.3318133  |  1.9746741  | -0.2076167  | -0.1055563  | -0.2021419  | -0.1181804  | ⋯           |  0.4215520  |  0.9860786  |  0.8342087  | 0.6806608   |  0.28181796 | 0.13033862  | -0.5752722  |  0.6618057  |  0.94060083 | 0.2997008   | \n",
       "| -0.760586   | -0.2233679  | -0.05255887 | -0.09128733 | -0.3318133  | -0.5060637  |  4.8132480  | -0.1055563  | -0.2021419  | -0.1181804  | ⋯           |  0.1049061  | -1.8680714  | -0.7103048  | 0.5941378   |  0.32144248 | 0.07065950  | -0.4377884  |  0.5437750  |  0.81736628 | 0.3115320   | \n",
       "| -0.760586   | -0.2233679  | -0.05255887 | -0.09128733 | -0.3318133  |  1.9746741  | -0.2076167  | -0.1055563  | -0.2021419  | -0.1181804  | ⋯           |  0.8798018  |  0.9536011  |  0.7384023  | 0.7125017   |  0.30382402 | 0.19684307  |  0.1146148  |  1.2836237  |  0.89954319 | 0.3689426   | \n",
       "| -0.760586   | -0.2233679  | -0.05255887 | -0.09128733 |  3.0116663  | -0.5060637  | -0.2076167  | -0.1055563  | -0.2021419  | -0.1181804  | ⋯           |  0.8600478  |  0.7258029  |  0.4984665  | 0.7243605   | -0.06527209 | 0.08633152  | -1.0317819  | -0.1501048  |  0.61156359 | 0.2483025   | \n",
       "\n",
       "\n"
      ],
      "text/plain": [
       "  MSSubClass.20 MSSubClass.30 MSSubClass.40 MSSubClass.45 MSSubClass.50\n",
       "1 -0.760586     -0.2233679    -0.05255887   -0.09128733   -0.3318133   \n",
       "2  1.313870     -0.2233679    -0.05255887   -0.09128733   -0.3318133   \n",
       "3 -0.760586     -0.2233679    -0.05255887   -0.09128733   -0.3318133   \n",
       "4 -0.760586     -0.2233679    -0.05255887   -0.09128733   -0.3318133   \n",
       "5 -0.760586     -0.2233679    -0.05255887   -0.09128733   -0.3318133   \n",
       "6 -0.760586     -0.2233679    -0.05255887   -0.09128733    3.0116663   \n",
       "  MSSubClass.60 MSSubClass.70 MSSubClass.75 MSSubClass.80 MSSubClass.85 ⋯\n",
       "1  1.9746741    -0.2076167    -0.1055563    -0.2021419    -0.1181804    ⋯\n",
       "2 -0.5060637    -0.2076167    -0.1055563    -0.2021419    -0.1181804    ⋯\n",
       "3  1.9746741    -0.2076167    -0.1055563    -0.2021419    -0.1181804    ⋯\n",
       "4 -0.5060637     4.8132480    -0.1055563    -0.2021419    -0.1181804    ⋯\n",
       "5  1.9746741    -0.2076167    -0.1055563    -0.2021419    -0.1181804    ⋯\n",
       "6 -0.5060637    -0.2076167    -0.1055563    -0.2021419    -0.1181804    ⋯\n",
       "  LotArea    YearBuilt  YearRemodAdd BsmtFinSF1 BsmtUnfSF   TotalBsmtSF\n",
       "1 -0.1316206  1.0509849  0.8820760   0.7205018   0.08917398 0.10842138 \n",
       "2  0.1149991  0.1692304 -0.4188065   0.7552734   0.20492237 0.22641726 \n",
       "3  0.4215520  0.9860786  0.8342087   0.6806608   0.28181796 0.13033862 \n",
       "4  0.1049061 -1.8680714 -0.7103048   0.5941378   0.32144248 0.07065950 \n",
       "5  0.8798018  0.9536011  0.7384023   0.7125017   0.30382402 0.19684307 \n",
       "6  0.8600478  0.7258029  0.4984665   0.7243605  -0.06527209 0.08633152 \n",
       "  FirstFlrSF GrLivArea  GarageYrBlt GarageArea\n",
       "1 -0.8026317  0.5315369  1.02265460 0.2771098 \n",
       "2  0.4214040 -0.3785471 -0.09204807 0.2390487 \n",
       "3 -0.5752722  0.6618057  0.94060083 0.2997008 \n",
       "4 -0.4377884  0.5437750  0.81736628 0.3115320 \n",
       "5  0.1146148  1.2836237  0.89954319 0.3689426 \n",
       "6 -1.0317819 -0.1501048  0.61156359 0.2483025 "
      ]
     },
     "metadata": {},
     "output_type": "display_data"
    },
    {
     "data": {
      "text/html": [
       "<table>\n",
       "<tbody>\n",
       "\t<tr><td>1451</td><td>402 </td></tr>\n",
       "</tbody>\n",
       "</table>\n"
      ],
      "text/latex": [
       "\\begin{tabular}{ll}\n",
       "\t 1451 & 402 \\\\\n",
       "\\end{tabular}\n"
      ],
      "text/markdown": [
       "\n",
       "| 1451 | 402  | \n",
       "\n",
       "\n"
      ],
      "text/plain": [
       "     [,1] [,2]\n",
       "[1,] 1451 402 "
      ]
     },
     "metadata": {},
     "output_type": "display_data"
    }
   ],
   "source": [
    "final_ames_df$X <- NULL\n",
    "head(final_ames_df)\n",
    "t(dim(final_ames_df))"
   ]
  },
  {
   "cell_type": "code",
   "execution_count": 3,
   "metadata": {},
   "outputs": [
    {
     "name": "stderr",
     "output_type": "stream",
     "text": [
      "Updating HTML index of packages in '.Library'\n",
      "Making 'packages.html' ... done\n",
      "Loading required package: lattice\n"
     ]
    }
   ],
   "source": [
    "install.packages('mlbench')\n",
    "library(mlbench)\n",
    "library(caret)"
   ]
  },
  {
   "cell_type": "code",
   "execution_count": 4,
   "metadata": {},
   "outputs": [],
   "source": [
    "set.seed(42)"
   ]
  },
  {
   "cell_type": "code",
   "execution_count": 5,
   "metadata": {},
   "outputs": [],
   "source": [
    "final_ames_df$SalePrice <- sale_price"
   ]
  },
  {
   "cell_type": "code",
   "execution_count": 6,
   "metadata": {},
   "outputs": [],
   "source": [
    "train_index <- (createDataPartition(final_ames_df$SalePrice, p =0.6, list=FALSE, times=1))\n"
   ]
  },
  {
   "cell_type": "code",
   "execution_count": 35,
   "metadata": {},
   "outputs": [],
   "source": [
    "train = final_ames_df[train_index,]\n",
    "validate = final_ames_df[-train_index,]\n",
    "write.csv(train, \"train.csv\")\n",
    "write.csv(validate, \"validate.csv\")"
   ]
  },
  {
   "cell_type": "code",
   "execution_count": 8,
   "metadata": {},
   "outputs": [
    {
     "data": {
      "image/png": "[encoded data removed]",
      "text/plain": [
       "Plot with title “density.default(x = train$SalePrice)”"
      ]
     },
     "metadata": {},
     "output_type": "display_data",
     "source": "R display func"
    },
    {
     "data": {
      "image/png": "[encoded data removed]",
      "text/plain": [
       "Plot with title “density.default(x = validate$SalePrice)”"
      ]
     },
     "metadata": {},
     "output_type": "display_data",
     "source": "R display func"
    }
   ],
   "source": [
    "plot(density(train$SalePrice))\n",
    "plot(density(validate$SalePrice))"
   ]
  },
  {
   "cell_type": "markdown",
   "metadata": {},
   "source": [
    "### Variable Ranking by Recursive Feature Elimination"
   ]
  },
  {
   "cell_type": "code",
   "execution_count": 9,
   "metadata": {},
   "outputs": [
    {
     "name": "stderr",
     "output_type": "stream",
     "text": [
      "also installing the dependencies ‘backports’, ‘checkmate’, ‘Formula’, ‘latticeExtra’, ‘acepack’, ‘gridExtra’, ‘data.table’, ‘htmlTable’, ‘viridis’\n",
      "\n",
      "Warning message in install.packages(\"Hmisc\"):\n",
      "“installation of package ‘viridis’ had non-zero exit status”Warning message in install.packages(\"Hmisc\"):\n",
      "“installation of package ‘Hmisc’ had non-zero exit status”Updating HTML index of packages in '.Library'\n",
      "Making 'packages.html' ... done\n",
      "Updating HTML index of packages in '.Library'\n",
      "Making 'packages.html' ... done\n"
     ]
    }
   ],
   "source": [
    "install.packages('Hmisc')\n",
    "install.packages('randomForest')"
   ]
  },
  {
   "cell_type": "code",
   "execution_count": 10,
   "metadata": {},
   "outputs": [
    {
     "ename": "ERROR",
     "evalue": "Error in library(Hmisc): there is no package called ‘Hmisc’\n",
     "execution_count": 10,
     "output_type": "error",
     "traceback": [
      "Error in library(Hmisc): there is no package called ‘Hmisc’\nTraceback:\n",
      "1. library(Hmisc)",
      "2. stop(txt, domain = NA)"
     ]
    }
   ],
   "source": [
    "library(Hmisc)\n",
    "library(randomForest)"
   ]
  },
  {
   "cell_type": "code",
   "execution_count": 11,
   "metadata": {},
   "outputs": [],
   "source": [
    "normalization <- preProcess(ames)\n",
    "subsets <- c(1:5, 10, 15, 20, 25)"
   ]
  },
  {
   "cell_type": "code",
   "execution_count": 21,
   "metadata": {},
   "outputs": [],
   "source": [
    "ctrl <- rfeControl(functions = lmFuncs,\n",
    "                   method = \"repeatedcv\",\n",
    "                   repeats = 10,\n",
    "                   verbose = FALSE)"
   ]
  },
  {
   "cell_type": "code",
   "execution_count": 23,
   "metadata": {},
   "outputs": [],
   "source": [
    "options(warn=-1)"
   ]
  },
  {
   "cell_type": "code",
   "execution_count": 24,
   "metadata": {},
   "outputs": [],
   "source": [
    "lmProfile <- rfe(train[,1:401], train$SalePrice,\n",
    "                 sizes = subsets,\n",
    "                 rfeControl = ctrl)"
   ]
  },
  {
   "cell_type": "code",
   "execution_count": 26,
   "metadata": {},
   "outputs": [
    {
     "data": {
      "text/plain": [
       "\n",
       "Recursive feature selection\n",
       "\n",
       "Outer resampling method: Cross-Validated (10 fold, repeated 10 times) \n",
       "\n",
       "Resampling performance over subset size:\n",
       "\n",
       " Variables  RMSE Rsquared RMSESD RsquaredSD Selected\n",
       "         1 79183  0.01825  11610    0.02423         \n",
       "         2 77023  0.05915  11602    0.03403         \n",
       "         3 77023  0.05915  11599    0.03401         \n",
       "         4 76613  0.06954  11615    0.03724         \n",
       "         5 75362  0.10238  11428    0.04172         \n",
       "        10 70945  0.21071  10912    0.06855         \n",
       "        15 69654  0.23966  11116    0.06657         \n",
       "        20 68799  0.25915  11392    0.06673         \n",
       "        25 67732  0.28184  11307    0.06450         \n",
       "       401 38514  0.78734  11277    0.10823        *\n",
       "\n",
       "The top 5 variables (out of 401):\n",
       "   BsmtQual.TA, BsmtQual.Gd, BsmtQual.Ex, BsmtFinSF1, TotalBsmtSF\n"
      ]
     },
     "metadata": {},
     "output_type": "display_data"
    }
   ],
   "source": [
    "options(warn=0)\n",
    "lmProfile"
   ]
  },
  {
   "cell_type": "code",
   "execution_count": 17,
   "metadata": {},
   "outputs": [],
   "source": [
    "library(broom)"
   ]
  },
  {
   "cell_type": "code",
   "execution_count": 18,
   "metadata": {},
   "outputs": [
    {
     "data": {
      "text/html": [
       "<table>\n",
       "<thead><tr><th scope=col>term</th><th scope=col>estimate</th><th scope=col>std.error</th><th scope=col>statistic</th><th scope=col>p.value</th></tr></thead>\n",
       "<tbody>\n",
       "\t<tr><td>(Intercept)  </td><td>180540.3370  </td><td>  806.3771   </td><td>223.8907136  </td><td>0.0000000    </td></tr>\n",
       "\t<tr><td>MSSubClass.20</td><td> -3723.4589  </td><td>16782.3701   </td><td> -0.2218673  </td><td>0.8244977    </td></tr>\n",
       "\t<tr><td>MSSubClass.30</td><td> -2242.1117  </td><td> 7566.3340   </td><td> -0.2963273  </td><td>0.7670894    </td></tr>\n",
       "\t<tr><td>MSSubClass.40</td><td>   324.5651  </td><td> 2579.3720   </td><td>  0.1258311  </td><td>0.8999106    </td></tr>\n",
       "\t<tr><td>MSSubClass.45</td><td>  1688.8568  </td><td> 5066.6282   </td><td>  0.3333295  </td><td>0.7390097    </td></tr>\n",
       "\t<tr><td>MSSubClass.50</td><td> -4560.4927  </td><td>10829.9323   </td><td> -0.4211008  </td><td>0.6738422    </td></tr>\n",
       "</tbody>\n",
       "</table>\n"
      ],
      "text/latex": [
       "\\begin{tabular}{r|lllll}\n",
       " term & estimate & std.error & statistic & p.value\\\\\n",
       "\\hline\n",
       "\t (Intercept)   & 180540.3370   &   806.3771    & 223.8907136   & 0.0000000    \\\\\n",
       "\t MSSubClass.20 &  -3723.4589   & 16782.3701    &  -0.2218673   & 0.8244977    \\\\\n",
       "\t MSSubClass.30 &  -2242.1117   &  7566.3340    &  -0.2963273   & 0.7670894    \\\\\n",
       "\t MSSubClass.40 &    324.5651   &  2579.3720    &   0.1258311   & 0.8999106    \\\\\n",
       "\t MSSubClass.45 &   1688.8568   &  5066.6282    &   0.3333295   & 0.7390097    \\\\\n",
       "\t MSSubClass.50 &  -4560.4927   & 10829.9323    &  -0.4211008   & 0.6738422    \\\\\n",
       "\\end{tabular}\n"
      ],
      "text/markdown": [
       "\n",
       "term | estimate | std.error | statistic | p.value | \n",
       "|---|---|---|---|---|---|\n",
       "| (Intercept)   | 180540.3370   |   806.3771    | 223.8907136   | 0.0000000     | \n",
       "| MSSubClass.20 |  -3723.4589   | 16782.3701    |  -0.2218673   | 0.8244977     | \n",
       "| MSSubClass.30 |  -2242.1117   |  7566.3340    |  -0.2963273   | 0.7670894     | \n",
       "| MSSubClass.40 |    324.5651   |  2579.3720    |   0.1258311   | 0.8999106     | \n",
       "| MSSubClass.45 |   1688.8568   |  5066.6282    |   0.3333295   | 0.7390097     | \n",
       "| MSSubClass.50 |  -4560.4927   | 10829.9323    |  -0.4211008   | 0.6738422     | \n",
       "\n",
       "\n"
      ],
      "text/plain": [
       "  term          estimate    std.error  statistic   p.value  \n",
       "1 (Intercept)   180540.3370   806.3771 223.8907136 0.0000000\n",
       "2 MSSubClass.20  -3723.4589 16782.3701  -0.2218673 0.8244977\n",
       "3 MSSubClass.30  -2242.1117  7566.3340  -0.2963273 0.7670894\n",
       "4 MSSubClass.40    324.5651  2579.3720   0.1258311 0.8999106\n",
       "5 MSSubClass.45   1688.8568  5066.6282   0.3333295 0.7390097\n",
       "6 MSSubClass.50  -4560.4927 10829.9323  -0.4211008 0.6738422"
      ]
     },
     "metadata": {},
     "output_type": "display_data"
    }
   ],
   "source": [
    "lmRating <- lm(train$SalePrice ~ ., data=train)\n",
    "lmCoefs <- tidy(lmRating)\n",
    "head(lmCoefs)"
   ]
  },
  {
   "cell_type": "code",
   "execution_count": 20,
   "metadata": {},
   "outputs": [
    {
     "data": {
      "text/html": [
       "<table>\n",
       "<thead><tr><th></th><th scope=col>term</th><th scope=col>abs_est</th></tr></thead>\n",
       "<tbody>\n",
       "\t<tr><th scope=row>151</th><td>BsmtQual.TA      </td><td>186236.21        </td></tr>\n",
       "\t<tr><th scope=row>150</th><td>BsmtQual.Gd      </td><td>183588.74        </td></tr>\n",
       "\t<tr><th scope=row>148</th><td>BsmtQual.Ex      </td><td> 98065.43        </td></tr>\n",
       "\t<tr><th scope=row>305</th><td>TotalBsmtSF      </td><td> 60474.94        </td></tr>\n",
       "\t<tr><th scope=row>303</th><td>BsmtFinSF1       </td><td> 57546.67        </td></tr>\n",
       "\t<tr><th scope=row>149</th><td>BsmtQual.Fa      </td><td> 56442.85        </td></tr>\n",
       "\t<tr><th scope=row>160</th><td>BsmtFinType1.GLQ </td><td> 49360.06        </td></tr>\n",
       "\t<tr><th scope=row>225</th><td>GarageType.Attchd</td><td> 48998.68        </td></tr>\n",
       "\t<tr><th scope=row>229</th><td>GarageType.Detchd</td><td> 44293.77        </td></tr>\n",
       "\t<tr><th scope=row>158</th><td>BsmtFinType1.ALQ </td><td> 40669.10        </td></tr>\n",
       "</tbody>\n",
       "</table>\n"
      ],
      "text/latex": [
       "\\begin{tabular}{r|ll}\n",
       "  & term & abs\\_est\\\\\n",
       "\\hline\n",
       "\t151 & BsmtQual.TA       & 186236.21        \\\\\n",
       "\t150 & BsmtQual.Gd       & 183588.74        \\\\\n",
       "\t148 & BsmtQual.Ex       &  98065.43        \\\\\n",
       "\t305 & TotalBsmtSF       &  60474.94        \\\\\n",
       "\t303 & BsmtFinSF1        &  57546.67        \\\\\n",
       "\t149 & BsmtQual.Fa       &  56442.85        \\\\\n",
       "\t160 & BsmtFinType1.GLQ  &  49360.06        \\\\\n",
       "\t225 & GarageType.Attchd &  48998.68        \\\\\n",
       "\t229 & GarageType.Detchd &  44293.77        \\\\\n",
       "\t158 & BsmtFinType1.ALQ  &  40669.10        \\\\\n",
       "\\end{tabular}\n"
      ],
      "text/markdown": [
       "\n",
       "| <!--/--> | term | abs_est | \n",
       "|---|---|---|---|---|---|---|---|---|---|\n",
       "| 151 | BsmtQual.TA       | 186236.21         | \n",
       "| 150 | BsmtQual.Gd       | 183588.74         | \n",
       "| 148 | BsmtQual.Ex       |  98065.43         | \n",
       "| 305 | TotalBsmtSF       |  60474.94         | \n",
       "| 303 | BsmtFinSF1        |  57546.67         | \n",
       "| 149 | BsmtQual.Fa       |  56442.85         | \n",
       "| 160 | BsmtFinType1.GLQ  |  49360.06         | \n",
       "| 225 | GarageType.Attchd |  48998.68         | \n",
       "| 229 | GarageType.Detchd |  44293.77         | \n",
       "| 158 | BsmtFinType1.ALQ  |  40669.10         | \n",
       "\n",
       "\n"
      ],
      "text/plain": [
       "    term              abs_est  \n",
       "151 BsmtQual.TA       186236.21\n",
       "150 BsmtQual.Gd       183588.74\n",
       "148 BsmtQual.Ex        98065.43\n",
       "305 TotalBsmtSF        60474.94\n",
       "303 BsmtFinSF1         57546.67\n",
       "149 BsmtQual.Fa        56442.85\n",
       "160 BsmtFinType1.GLQ   49360.06\n",
       "225 GarageType.Attchd  48998.68\n",
       "229 GarageType.Detchd  44293.77\n",
       "158 BsmtFinType1.ALQ   40669.10"
      ]
     },
     "metadata": {},
     "output_type": "display_data"
    }
   ],
   "source": [
    "lmCoefs$abs_est <- abs(lmCoefs$estimate)\n",
    "lmCoefsAbs <- lmCoefs[-c(2:5)]\n",
    "lmCoefsAbs <- lmCoefsAbs[-1,]\n",
    "head(lmCoefsAbs[order(-lmCoefsAbs$abs_est), ], 10)"
   ]
  },
  {
   "cell_type": "code",
   "execution_count": 32,
   "metadata": {},
   "outputs": [],
   "source": [
    "top_ten_df <- data.frame(train$BsmtQual.TA,\n",
    "                         train$BsmtQual.Gd,\n",
    "                         train$BsmtQual.Ex,\n",
    "                         train$TotalBsmtSF,\n",
    "                         train$BsmtFinSF1,\n",
    "                         train$BsmtQual.Fa,\n",
    "                         train$BsmtFinType1.GLQ,\n",
    "                         train$GarageType.Attchd,\n",
    "                         train$GarageType.Detchd,\n",
    "                         train$BsmtFinType1.ALQ,\n",
    "                         train$SalePrice)"
   ]
  },
  {
   "cell_type": "code",
   "execution_count": 33,
   "metadata": {},
   "outputs": [],
   "source": [
    "write.csv(top_ten_df, \"top_ten_df.csv\")"
   ]
  },
  {
   "cell_type": "code",
   "execution_count": null,
   "metadata": {},
   "outputs": [],
   "source": []
  }
 ],
 "metadata": {
  "kernelspec": {
   "display_name": "R",
   "language": "R",
   "name": "ir"
  },
  "language_info": {
   "codemirror_mode": "r",
   "file_extension": ".r",
   "mimetype": "text/x-r-source",
   "name": "R",
   "pygments_lexer": "r",
   "version": "3.4.1"
  }
 },
 "nbformat": 4,
 "nbformat_minor": 2
}
